{
  "nbformat": 4,
  "nbformat_minor": 0,
  "metadata": {
    "kernelspec": {
      "display_name": "Python 3",
      "language": "python",
      "name": "python3"
    },
    "language_info": {
      "codemirror_mode": {
        "name": "ipython",
        "version": 3
      },
      "file_extension": ".py",
      "mimetype": "text/x-python",
      "name": "python",
      "nbconvert_exporter": "python",
      "pygments_lexer": "ipython3",
      "version": "3.4.3"
    },
    "colab": {
      "name": "Copy of week1-MultilabelClassification.ipynb",
      "provenance": [],
      "collapsed_sections": [],
      "include_colab_link": true
    }
  },
  "cells": [
    {
      "cell_type": "markdown",
      "metadata": {
        "id": "view-in-github",
        "colab_type": "text"
      },
      "source": [
        "<a href=\"https://colab.research.google.com/github/JoaoRibeiroMedeiros/natural-language-processing/blob/master/DONEweek1_MultilabelClassification.ipynb\" target=\"_parent\"><img src=\"https://colab.research.google.com/assets/colab-badge.svg\" alt=\"Open In Colab\"/></a>"
      ]
    },
    {
      "cell_type": "markdown",
      "metadata": {
        "id": "r66M2WYq-fMn",
        "colab_type": "text"
      },
      "source": [
        "# Predict tags on StackOverflow with linear models"
      ]
    },
    {
      "cell_type": "markdown",
      "metadata": {
        "id": "aictQEW0-fMo",
        "colab_type": "text"
      },
      "source": [
        "In this assignment you will learn how to predict tags for posts from [StackOverflow](https://stackoverflow.com). To solve this task you will use multilabel classification approach.\n",
        "\n",
        "### Libraries\n",
        "\n",
        "In this task you will need the following libraries:\n",
        "- [Numpy](http://www.numpy.org) — a package for scientific computing.\n",
        "- [Pandas](https://pandas.pydata.org) — a library providing high-performance, easy-to-use data structures and data analysis tools for the Python\n",
        "- [scikit-learn](http://scikit-learn.org/stable/index.html) — a tool for data mining and data analysis.\n",
        "- [NLTK](http://www.nltk.org) — a platform to work with natural language."
      ]
    },
    {
      "cell_type": "code",
      "metadata": {
        "id": "rlx6WfwX_pdf",
        "colab_type": "code",
        "colab": {
          "base_uri": "https://localhost:8080/",
          "height": 204
        },
        "outputId": "501da55c-96d6-441b-c904-458e2985e14f"
      },
      "source": [
        "! wget https://raw.githubusercontent.com/hse-aml/natural-language-processing/master/setup_google_colab.py -O setup_google_colab.py\n",
        "import setup_google_colab\n",
        "# please, uncomment the week you're working on\n",
        "setup_google_colab.setup_week1()  \n",
        "# setup_google_colab.setup_week2()\n",
        "# setup_google_colab.setup_week3()\n",
        "# setup_google_colab.setup_week4()\n",
        "# setup_google_colab.setup_project()\n",
        "# setup_google_colab.setup_honor()"
      ],
      "execution_count": 1,
      "outputs": [
        {
          "output_type": "stream",
          "text": [
            "--2020-07-01 17:34:01--  https://raw.githubusercontent.com/hse-aml/natural-language-processing/master/setup_google_colab.py\n",
            "Resolving raw.githubusercontent.com (raw.githubusercontent.com)... 151.101.0.133, 151.101.64.133, 151.101.128.133, ...\n",
            "Connecting to raw.githubusercontent.com (raw.githubusercontent.com)|151.101.0.133|:443... connected.\n",
            "HTTP request sent, awaiting response... 200 OK\n",
            "Length: 1991 (1.9K) [text/plain]\n",
            "Saving to: ‘setup_google_colab.py’\n",
            "\n",
            "\rsetup_google_colab.   0%[                    ]       0  --.-KB/s               \rsetup_google_colab. 100%[===================>]   1.94K  --.-KB/s    in 0s      \n",
            "\n",
            "2020-07-01 17:34:01 (28.4 MB/s) - ‘setup_google_colab.py’ saved [1991/1991]\n",
            "\n"
          ],
          "name": "stdout"
        }
      ]
    },
    {
      "cell_type": "markdown",
      "metadata": {
        "id": "vetQJNUZ-fMp",
        "colab_type": "text"
      },
      "source": [
        "### Data\n",
        "\n",
        "The following cell will download all data required for this assignment into the folder `week1/data`."
      ]
    },
    {
      "cell_type": "code",
      "metadata": {
        "id": "wHdSBX7g-fMq",
        "colab_type": "code",
        "colab": {
          "base_uri": "https://localhost:8080/",
          "height": 272
        },
        "outputId": "a6db9688-99f6-43a5-df62-0876d585a519"
      },
      "source": [
        "try:\n",
        "    import google.colab\n",
        "    IN_COLAB = True\n",
        "except:\n",
        "    IN_COLAB = False\n",
        "\n",
        "if IN_COLAB:\n",
        "    ! wget https://raw.githubusercontent.com/hse-aml/natural-language-processing/master/setup_google_colab.py -O setup_google_colab.py\n",
        "    import setup_google_colab\n",
        "    setup_google_colab.setup_week1() \n",
        "    \n",
        "import sys\n",
        "sys.path.append(\"..\")\n",
        "from common.download_utils import download_week1_resources\n",
        "\n",
        "download_week1_resources()"
      ],
      "execution_count": 78,
      "outputs": [
        {
          "output_type": "stream",
          "text": [
            "--2020-07-01 21:11:49--  https://raw.githubusercontent.com/hse-aml/natural-language-processing/master/setup_google_colab.py\n",
            "Resolving raw.githubusercontent.com (raw.githubusercontent.com)... 151.101.0.133, 151.101.64.133, 151.101.128.133, ...\n",
            "Connecting to raw.githubusercontent.com (raw.githubusercontent.com)|151.101.0.133|:443... connected.\n",
            "HTTP request sent, awaiting response... 200 OK\n",
            "Length: 1991 (1.9K) [text/plain]\n",
            "Saving to: ‘setup_google_colab.py’\n",
            "\n",
            "\rsetup_google_colab.   0%[                    ]       0  --.-KB/s               \rsetup_google_colab. 100%[===================>]   1.94K  --.-KB/s    in 0s      \n",
            "\n",
            "2020-07-01 21:11:50 (18.9 MB/s) - ‘setup_google_colab.py’ saved [1991/1991]\n",
            "\n",
            "File data/train.tsv is already downloaded.\n",
            "File data/validation.tsv is already downloaded.\n",
            "File data/test.tsv is already downloaded.\n",
            "File data/text_prepare_tests.tsv is already downloaded.\n"
          ],
          "name": "stdout"
        }
      ]
    },
    {
      "cell_type": "markdown",
      "metadata": {
        "id": "8T1oY3Iw-fMu",
        "colab_type": "text"
      },
      "source": [
        "### Grading\n",
        "We will create a grader instance below and use it to collect your answers. Note that these outputs will be stored locally inside grader and will be uploaded to platform only after running submitting function in the last part of this assignment. If you want to make partial submission, you can run that cell any time you want."
      ]
    },
    {
      "cell_type": "code",
      "metadata": {
        "id": "XOjM9G5c-fMu",
        "colab_type": "code",
        "colab": {}
      },
      "source": [
        "from grader import Grader"
      ],
      "execution_count": 79,
      "outputs": []
    },
    {
      "cell_type": "code",
      "metadata": {
        "id": "Mo5tyIhxcSdz",
        "colab_type": "code",
        "colab": {}
      },
      "source": [
        ""
      ],
      "execution_count": 79,
      "outputs": []
    },
    {
      "cell_type": "code",
      "metadata": {
        "id": "F7jj-70G-fMy",
        "colab_type": "code",
        "colab": {}
      },
      "source": [
        "grader = Grader()"
      ],
      "execution_count": 80,
      "outputs": []
    },
    {
      "cell_type": "markdown",
      "metadata": {
        "id": "Y_vsWn32-fM3",
        "colab_type": "text"
      },
      "source": [
        "### Text preprocessing"
      ]
    },
    {
      "cell_type": "markdown",
      "metadata": {
        "id": "FY3mlwJh-fM4",
        "colab_type": "text"
      },
      "source": [
        "For this and most of the following assignments you will need to use a list of stop words. It can be downloaded from *nltk*:"
      ]
    },
    {
      "cell_type": "code",
      "metadata": {
        "id": "_yLf6cDL-fM5",
        "colab_type": "code",
        "colab": {
          "base_uri": "https://localhost:8080/",
          "height": 51
        },
        "outputId": "b64685c8-d318-45b8-df4c-96beccff09ab"
      },
      "source": [
        "import nltk\n",
        "nltk.download('stopwords')\n",
        "from nltk.corpus import stopwords"
      ],
      "execution_count": 81,
      "outputs": [
        {
          "output_type": "stream",
          "text": [
            "[nltk_data] Downloading package stopwords to /root/nltk_data...\n",
            "[nltk_data]   Package stopwords is already up-to-date!\n"
          ],
          "name": "stderr"
        }
      ]
    },
    {
      "cell_type": "markdown",
      "metadata": {
        "id": "tY2C6V3_-fM9",
        "colab_type": "text"
      },
      "source": [
        "In this task you will deal with a dataset of post titles from StackOverflow. You are provided a split to 3 sets: *train*, *validation* and *test*. All corpora (except for *test*) contain titles of the posts and corresponding tags (100 tags are available). The *test* set is provided for Coursera's grading and doesn't contain answers. Upload the corpora using *pandas* and look at the data:"
      ]
    },
    {
      "cell_type": "code",
      "metadata": {
        "id": "-BSHGyD4-fM-",
        "colab_type": "code",
        "colab": {}
      },
      "source": [
        "from ast import literal_eval\n",
        "import pandas as pd\n",
        "import numpy as np"
      ],
      "execution_count": 82,
      "outputs": []
    },
    {
      "cell_type": "code",
      "metadata": {
        "id": "lTR9ETBx-fNC",
        "colab_type": "code",
        "colab": {}
      },
      "source": [
        "def read_data(filename):\n",
        "    data = pd.read_csv(filename, sep='\\t')\n",
        "    data['tags'] = data['tags'].apply(literal_eval)\n",
        "    return data"
      ],
      "execution_count": 83,
      "outputs": []
    },
    {
      "cell_type": "code",
      "metadata": {
        "id": "Sifgim8N-fNI",
        "colab_type": "code",
        "colab": {}
      },
      "source": [
        "train = read_data('data/train.tsv')\n",
        "validation = read_data('data/validation.tsv')\n",
        "test = pd.read_csv('data/test.tsv', sep='\\t')"
      ],
      "execution_count": 84,
      "outputs": []
    },
    {
      "cell_type": "code",
      "metadata": {
        "id": "MUewz13E-fNL",
        "colab_type": "code",
        "colab": {
          "base_uri": "https://localhost:8080/",
          "height": 204
        },
        "outputId": "933a7c28-5c84-4cd9-81f5-b3f2c2c4e6b5"
      },
      "source": [
        "train.head()"
      ],
      "execution_count": 85,
      "outputs": [
        {
          "output_type": "execute_result",
          "data": {
            "text/html": [
              "<div>\n",
              "<style scoped>\n",
              "    .dataframe tbody tr th:only-of-type {\n",
              "        vertical-align: middle;\n",
              "    }\n",
              "\n",
              "    .dataframe tbody tr th {\n",
              "        vertical-align: top;\n",
              "    }\n",
              "\n",
              "    .dataframe thead th {\n",
              "        text-align: right;\n",
              "    }\n",
              "</style>\n",
              "<table border=\"1\" class=\"dataframe\">\n",
              "  <thead>\n",
              "    <tr style=\"text-align: right;\">\n",
              "      <th></th>\n",
              "      <th>title</th>\n",
              "      <th>tags</th>\n",
              "    </tr>\n",
              "  </thead>\n",
              "  <tbody>\n",
              "    <tr>\n",
              "      <th>0</th>\n",
              "      <td>How to draw a stacked dotplot in R?</td>\n",
              "      <td>[r]</td>\n",
              "    </tr>\n",
              "    <tr>\n",
              "      <th>1</th>\n",
              "      <td>mysql select all records where a datetime fiel...</td>\n",
              "      <td>[php, mysql]</td>\n",
              "    </tr>\n",
              "    <tr>\n",
              "      <th>2</th>\n",
              "      <td>How to terminate windows phone 8.1 app</td>\n",
              "      <td>[c#]</td>\n",
              "    </tr>\n",
              "    <tr>\n",
              "      <th>3</th>\n",
              "      <td>get current time in a specific country via jquery</td>\n",
              "      <td>[javascript, jquery]</td>\n",
              "    </tr>\n",
              "    <tr>\n",
              "      <th>4</th>\n",
              "      <td>Configuring Tomcat to Use SSL</td>\n",
              "      <td>[java]</td>\n",
              "    </tr>\n",
              "  </tbody>\n",
              "</table>\n",
              "</div>"
            ],
            "text/plain": [
              "                                               title                  tags\n",
              "0                How to draw a stacked dotplot in R?                   [r]\n",
              "1  mysql select all records where a datetime fiel...          [php, mysql]\n",
              "2             How to terminate windows phone 8.1 app                  [c#]\n",
              "3  get current time in a specific country via jquery  [javascript, jquery]\n",
              "4                      Configuring Tomcat to Use SSL                [java]"
            ]
          },
          "metadata": {
            "tags": []
          },
          "execution_count": 85
        }
      ]
    },
    {
      "cell_type": "markdown",
      "metadata": {
        "id": "Fu4H3xma-fNO",
        "colab_type": "text"
      },
      "source": [
        "As you can see, *title* column contains titles of the posts and *tags* column contains the tags. It could be noticed that a number of tags for a post is not fixed and could be as many as necessary."
      ]
    },
    {
      "cell_type": "markdown",
      "metadata": {
        "id": "JI-4EVf_-fNP",
        "colab_type": "text"
      },
      "source": [
        "For a more comfortable usage, initialize *X_train*, *X_val*, *X_test*, *y_train*, *y_val*."
      ]
    },
    {
      "cell_type": "code",
      "metadata": {
        "id": "YYgPDxhP-fNQ",
        "colab_type": "code",
        "colab": {}
      },
      "source": [
        "X_train, y_train = train['title'].values, train['tags'].values\n",
        "X_val, y_val = validation['title'].values, validation['tags'].values\n",
        "X_test = test['title'].values"
      ],
      "execution_count": 86,
      "outputs": []
    },
    {
      "cell_type": "markdown",
      "metadata": {
        "id": "kH5jdWeq-fNT",
        "colab_type": "text"
      },
      "source": [
        "One of the most known difficulties when working with natural data is that it's unstructured. For example, if you use it \"as is\" and extract tokens just by splitting the titles by whitespaces, you will see that there are many \"weird\" tokens like *3.5?*, *\"Flip*, etc. To prevent the problems, it's usually useful to prepare the data somehow. In this task you'll write a function, which will be also used in the other assignments. \n",
        "\n",
        "**Task 1 (TextPrepare).** Implement the function *text_prepare* following the instructions. After that, run the function *test_text_prepare* to test it on tiny cases and submit it to Coursera."
      ]
    },
    {
      "cell_type": "code",
      "metadata": {
        "id": "s1Lx60CU-fNU",
        "colab_type": "code",
        "colab": {}
      },
      "source": [
        "import re"
      ],
      "execution_count": 87,
      "outputs": []
    },
    {
      "cell_type": "code",
      "metadata": {
        "id": "HJYD0edK-fNX",
        "colab_type": "code",
        "colab": {}
      },
      "source": [
        "REPLACE_BY_SPACE_RE = re.compile('[/(){}\\[\\]\\|@,;]')\n",
        "BAD_SYMBOLS_RE = re.compile('[^0-9a-z #+_]')\n",
        "STOPWORDS = set(stopwords.words('english'))\n",
        "\n",
        "\n",
        "STOPWORDS = stopwords.words('english')\n",
        "neostopwords = []\n",
        "for i in STOPWORDS:\n",
        "  s = ' ' + i + ' '\n",
        "  neostopwords.append(s)\n",
        "  #neostopwords.append(p)\n",
        "\n",
        "\n",
        "#pattern = re.compile(\"|\".join(STOPWORDS))\n",
        "neostopwords = re.compile(\"|\".join(neostopwords))\n",
        "\n",
        "def text_prepare(text):\n",
        "    \"\"\"\n",
        "        text: a string\n",
        "        \n",
        "        return: modified initial string\n",
        "    \"\"\"\n",
        "    text = ' ' + text + ' '\n",
        "    text = re.sub(' ', '  ', text)\n",
        "    text = re.sub('[A-Z]+', lambda m: m.group(0).lower(), text)\n",
        "    text = re.sub(REPLACE_BY_SPACE_RE, \" \", text) # replace REPLACE_BY_SPACE_RE symbols by space in text\n",
        "    text = re.sub(BAD_SYMBOLS_RE, \"\", text) # delete symbols which are in BAD_SYMBOLS_RE from text\n",
        "    text = neostopwords.sub(\" \", text) # delete stopwords from text\n",
        "    text = re.sub(' +', ' ', text)\n",
        "    text = text[1:len(text)-1]\n",
        "    return text"
      ],
      "execution_count": 95,
      "outputs": []
    },
    {
      "cell_type": "code",
      "metadata": {
        "id": "ShPiG0n6KkPj",
        "colab_type": "code",
        "colab": {
          "base_uri": "https://localhost:8080/",
          "height": 34
        },
        "outputId": "ade288f3-6da0-4be0-f0ac-9ffc49d3e184"
      },
      "source": [
        "neostopwords = []\n",
        "for i in STOPWORDS:\n",
        "  s = ' ' + i + ' '\n",
        "  neostopwords.append(s)\n",
        "  #neostopwords.append(p)\n",
        "\n",
        "' how ' in neostopwords"
      ],
      "execution_count": 89,
      "outputs": [
        {
          "output_type": "execute_result",
          "data": {
            "text/plain": [
              "True"
            ]
          },
          "metadata": {
            "tags": []
          },
          "execution_count": 89
        }
      ]
    },
    {
      "cell_type": "code",
      "metadata": {
        "id": "YAPlJ9ce-fNc",
        "colab_type": "code",
        "colab": {}
      },
      "source": [
        "def test_text_prepare():\n",
        "    examples = [\"SQL Server - any equivalent of Excel's CHOOSE function?\",\n",
        "                \"How to free c++ memory vector<int> * arr?\"]\n",
        "    answers = [\"sql server equivalent excels choose function\", \n",
        "               \"free c++ memory vectorint arr\"]\n",
        "    for ex, ans in zip(examples, answers):\n",
        "        if text_prepare(ex) != ans:\n",
        "            return \"Wrong answer for the case: '%s'\" % ex\n",
        "    return 'Basic tests are passed.'"
      ],
      "execution_count": 96,
      "outputs": []
    },
    {
      "cell_type": "code",
      "metadata": {
        "id": "k9lRzsL6-fNg",
        "colab_type": "code",
        "colab": {
          "base_uri": "https://localhost:8080/",
          "height": 35
        },
        "outputId": "5dfd3510-b39a-4156-ffcc-edafd8769aaa"
      },
      "source": [
        "test_text_prepare()"
      ],
      "execution_count": 97,
      "outputs": [
        {
          "output_type": "execute_result",
          "data": {
            "application/vnd.google.colaboratory.intrinsic": {
              "type": "string"
            },
            "text/plain": [
              "'Basic tests are passed.'"
            ]
          },
          "metadata": {
            "tags": []
          },
          "execution_count": 97
        }
      ]
    },
    {
      "cell_type": "code",
      "metadata": {
        "id": "010rwuEVkzar",
        "colab_type": "code",
        "colab": {}
      },
      "source": [
        ""
      ],
      "execution_count": null,
      "outputs": []
    },
    {
      "cell_type": "code",
      "metadata": {
        "id": "-uASMxndk9Iv",
        "colab_type": "code",
        "colab": {}
      },
      "source": [
        ""
      ],
      "execution_count": null,
      "outputs": []
    },
    {
      "cell_type": "markdown",
      "metadata": {
        "id": "Z_f_8vDC-fNl",
        "colab_type": "text"
      },
      "source": [
        "Run your implementation for questions from file *text_prepare_tests.tsv* to earn the points."
      ]
    },
    {
      "cell_type": "code",
      "metadata": {
        "id": "59VKB9sU-fNm",
        "colab_type": "code",
        "colab": {
          "base_uri": "https://localhost:8080/",
          "height": 102
        },
        "outputId": "11ad7795-34e0-4e97-db18-9c9847252df7"
      },
      "source": [
        "prepared_questions = []\n",
        "for line in open('data/text_prepare_tests.tsv', encoding='utf-8'):\n",
        "    line = text_prepare(line.strip())\n",
        "    prepared_questions.append(line)\n",
        "text_prepare_results = '\\n'.join(prepared_questions)\n",
        "\n",
        "grader.submit_tag('TextPrepare', text_prepare_results)"
      ],
      "execution_count": 94,
      "outputs": [
        {
          "output_type": "stream",
          "text": [
            "Current answer for task TextPrepare is:\n",
            " sqlite php readonly\n",
            "creating multiple textboxes dynamically\n",
            "self one prefer javascript\n",
            "save php date...\n"
          ],
          "name": "stdout"
        }
      ]
    },
    {
      "cell_type": "markdown",
      "metadata": {
        "id": "aK6_QYeh-fNp",
        "colab_type": "text"
      },
      "source": [
        "Now we can preprocess the titles using function *text_prepare* and  making sure that the headers don't have bad symbols:"
      ]
    },
    {
      "cell_type": "code",
      "metadata": {
        "id": "z0gsfHyJ-fNr",
        "colab_type": "code",
        "colab": {}
      },
      "source": [
        "X_train = [text_prepare(x) for x in X_train]\n",
        "X_val = [text_prepare(x) for x in X_val]\n",
        "X_test = [text_prepare(x) for x in X_test]"
      ],
      "execution_count": 98,
      "outputs": []
    },
    {
      "cell_type": "code",
      "metadata": {
        "id": "jHuZuI8W-fNu",
        "colab_type": "code",
        "colab": {
          "base_uri": "https://localhost:8080/",
          "height": 68
        },
        "outputId": "b93dbf3b-f0a3-4b2b-bd9c-aa99ef500a5a"
      },
      "source": [
        "X_train[:3]"
      ],
      "execution_count": 99,
      "outputs": [
        {
          "output_type": "execute_result",
          "data": {
            "text/plain": [
              "['draw stacked dotplot r',\n",
              " 'mysql select records datetime field less specified value',\n",
              " 'terminate windows phone 81 app']"
            ]
          },
          "metadata": {
            "tags": []
          },
          "execution_count": 99
        }
      ]
    },
    {
      "cell_type": "markdown",
      "metadata": {
        "id": "h2KRpTiw-fN3",
        "colab_type": "text"
      },
      "source": [
        "For each tag and for each word calculate how many times they occur in the train corpus. \n",
        "\n",
        "**Task 2 (WordsTagsCount).** Find 3 most popular tags and 3 most popular words in the train data and submit the results to earn the points."
      ]
    },
    {
      "cell_type": "code",
      "metadata": {
        "id": "2b-0jvcDpX4I",
        "colab_type": "code",
        "colab": {
          "base_uri": "https://localhost:8080/",
          "height": 51
        },
        "outputId": "e79d39ea-b095-418e-bc5c-f36cac20b0fc"
      },
      "source": [
        "import nltk\n",
        "nltk.download('wordnet')\n",
        "tokenizer = nltk.tokenize.WhitespaceTokenizer()"
      ],
      "execution_count": 100,
      "outputs": [
        {
          "output_type": "stream",
          "text": [
            "[nltk_data] Downloading package wordnet to /root/nltk_data...\n",
            "[nltk_data]   Package wordnet is already up-to-date!\n"
          ],
          "name": "stderr"
        }
      ]
    },
    {
      "cell_type": "code",
      "metadata": {
        "id": "87pI8xpFp366",
        "colab_type": "code",
        "colab": {
          "base_uri": "https://localhost:8080/",
          "height": 35
        },
        "outputId": "1bd72a17-2369-4f67-ee88-6ca51e4d0490"
      },
      "source": [
        "X_train[1]"
      ],
      "execution_count": 101,
      "outputs": [
        {
          "output_type": "execute_result",
          "data": {
            "application/vnd.google.colaboratory.intrinsic": {
              "type": "string"
            },
            "text/plain": [
              "'mysql select records datetime field less specified value'"
            ]
          },
          "metadata": {
            "tags": []
          },
          "execution_count": 101
        }
      ]
    },
    {
      "cell_type": "code",
      "metadata": {
        "id": "RxSgdajT-fN4",
        "colab_type": "code",
        "colab": {}
      },
      "source": [
        "\n",
        "\n",
        "# Dictionary of all tags from train corpus with their counts.\n",
        "tags_counts = {}\n",
        "# Dictionary of all words from train corpus with their counts.\n",
        "words_counts = {}\n",
        "\n",
        "\n",
        "for i in range(0,len(X_train)):\n",
        "  words = tokenizer.tokenize(X_train[i])\n",
        "  tags = y_train[i]\n",
        "\n",
        "  for j in words:\n",
        "    if j in words_counts.keys():\n",
        "      words_counts[j] = words_counts[j] + 1 \n",
        "    else :\n",
        "      words_counts[j] = 1\n",
        "\n",
        "  for j in tags:\n",
        "    if j in tags_counts.keys():\n",
        "      tags_counts[j] = tags_counts[j] + 1 \n",
        "    else :\n",
        "      tags_counts[j] = 1\n"
      ],
      "execution_count": 102,
      "outputs": []
    },
    {
      "cell_type": "code",
      "metadata": {
        "id": "OyVCed30MLSt",
        "colab_type": "code",
        "colab": {}
      },
      "source": [
        ""
      ],
      "execution_count": 102,
      "outputs": []
    },
    {
      "cell_type": "markdown",
      "metadata": {
        "id": "PyPsdGfB-fN8",
        "colab_type": "text"
      },
      "source": [
        "We are assuming that *tags_counts* and *words_counts* are dictionaries like `{'some_word_or_tag': frequency}`. After applying the sorting procedure, results will be look like this: `[('most_popular_word_or_tag', frequency), ('less_popular_word_or_tag', frequency), ...]`. The grader gets the results in the following format (two comma-separated strings with line break):\n",
        "\n",
        "    tag1,tag2,tag3\n",
        "    word1,word2,word3\n",
        "\n",
        "Pay attention that in this assignment you should not submit frequencies or some additional information."
      ]
    },
    {
      "cell_type": "code",
      "metadata": {
        "id": "QKKgUXKl-fN8",
        "colab_type": "code",
        "colab": {
          "base_uri": "https://localhost:8080/",
          "height": 68
        },
        "outputId": "bb2287c5-34a3-4eaf-9432-2c1d88adc64a"
      },
      "source": [
        "most_common_tags = sorted(tags_counts.items(), key=lambda x: x[1], reverse=True)[:3]\n",
        "most_common_words = sorted(words_counts.items(), key=lambda x: x[1], reverse=True)[:3]\n",
        "\n",
        "grader.submit_tag('WordsTagsCount', '%s\\n%s' % (','.join(tag for tag, _ in most_common_tags), \n",
        "                                                ','.join(word for word, _ in most_common_words)))"
      ],
      "execution_count": 103,
      "outputs": [
        {
          "output_type": "stream",
          "text": [
            "Current answer for task WordsTagsCount is:\n",
            " javascript,c#,java\n",
            "using,php,java...\n"
          ],
          "name": "stdout"
        }
      ]
    },
    {
      "cell_type": "markdown",
      "metadata": {
        "id": "--IiIysh-fN_",
        "colab_type": "text"
      },
      "source": [
        "### Transforming text to a vector\n",
        "\n",
        "Machine Learning algorithms work with numeric data and we cannot use the provided text data \"as is\". There are many ways to transform text data to numeric vectors. In this task you will try to use two of them.\n",
        "\n",
        "#### Bag of words\n",
        "\n",
        "One of the well-known approaches is a *bag-of-words* representation. To create this transformation, follow the steps:\n",
        "1. Find *N* most popular words in train corpus and numerate them. Now we have a dictionary of the most popular words.\n",
        "2. For each title in the corpora create a zero vector with the dimension equals to *N*.\n",
        "3. For each text in the corpora iterate over words which are in the dictionary and increase by 1 the corresponding coordinate.\n",
        "\n",
        "Let's try to do it for a toy example. Imagine that we have *N* = 4 and the list of the most popular words is \n",
        "\n",
        "    ['hi', 'you', 'me', 'are']\n",
        "\n",
        "Then we need to numerate them, for example, like this: \n",
        "\n",
        "    {'hi': 0, 'you': 1, 'me': 2, 'are': 3}\n",
        "\n",
        "And we have the text, which we want to transform to the vector:\n",
        "\n",
        "    'hi how are you'\n",
        "\n",
        "For this text we create a corresponding zero vector \n",
        "\n",
        "    [0, 0, 0, 0]\n",
        "    \n",
        "And iterate over all words, and if the word is in the dictionary, we increase the value of the corresponding position in the vector:\n",
        "\n",
        "    'hi':  [1, 0, 0, 0]\n",
        "    'how': [1, 0, 0, 0] # word 'how' is not in our dictionary\n",
        "    'are': [1, 0, 0, 1]\n",
        "    'you': [1, 1, 0, 1]\n",
        "\n",
        "The resulting vector will be \n",
        "\n",
        "    [1, 1, 0, 1]\n",
        "   \n",
        "Implement the described encoding in the function *my_bag_of_words* with the size of the dictionary equals to 5000. To find the most common words use train data. You can test your code using the function *test_my_bag_of_words*."
      ]
    },
    {
      "cell_type": "code",
      "metadata": {
        "id": "vPT_a4fDUb-u",
        "colab_type": "code",
        "colab": {}
      },
      "source": [
        "most_common_tags = sorted(tags_counts.items(), key=lambda x: x[1], reverse=True)[:3]\n",
        "most_common_words = sorted(words_counts.items(), key=lambda x: x[1], reverse=True)[:3]"
      ],
      "execution_count": 104,
      "outputs": []
    },
    {
      "cell_type": "code",
      "metadata": {
        "id": "HtkCWLs4-fN_",
        "colab_type": "code",
        "colab": {}
      },
      "source": [
        "DICT_SIZE = 5000\n",
        "WORDS_TO_INDEX = {'hi': 0, 'you': 1, 'me': 2, 'are': 3}\n",
        "INDEX_TO_WORDS = {'hi': 0, 'you': 1, 'me': 2, 'are': 3}\n",
        "ALL_WORDS = WORDS_TO_INDEX.keys()\n",
        "\n",
        "def my_bag_of_words(text, words_to_index, dict_size):\n",
        "    \"\"\"\n",
        "        text: a string\n",
        "        dict_size: size of the dictionary\n",
        "        \n",
        "        return a vector which is a bag-of-words representation of 'text'\n",
        "    \"\"\"\n",
        "    result_vector = np.zeros(dict_size)\n",
        "\n",
        "    words = tokenizer.tokenize(text)\n",
        "\n",
        "    for i in words:\n",
        "      if(i in words_to_index.keys()):\n",
        "        #result_vector[words_to_index[i]] = result_vector[words_to_index[i]] + 1\n",
        "        result_vector[words_to_index[i]] =  1\n",
        "\n",
        "\n",
        "    return result_vector"
      ],
      "execution_count": 105,
      "outputs": []
    },
    {
      "cell_type": "code",
      "metadata": {
        "id": "mtiTrsxW-fOC",
        "colab_type": "code",
        "colab": {}
      },
      "source": [
        "def test_my_bag_of_words():\n",
        "    words_to_index = {'hi': 0, 'you': 1, 'me': 2, 'are': 3}\n",
        "    examples = ['hi how are you']\n",
        "    answers = [[1, 1, 0, 1]]\n",
        "    for ex, ans in zip(examples, answers):\n",
        "        if (my_bag_of_words(ex, words_to_index, 4) != ans).any():\n",
        "            return \"Wrong answer for the case: '%s'\" % ex\n",
        "    return 'Basic tests are passed.'"
      ],
      "execution_count": 106,
      "outputs": []
    },
    {
      "cell_type": "code",
      "metadata": {
        "id": "h5OBfhJw-fOF",
        "colab_type": "code",
        "colab": {
          "base_uri": "https://localhost:8080/",
          "height": 34
        },
        "outputId": "6b1b0cdf-133b-4a50-ea1e-06d905ae4cde"
      },
      "source": [
        "print(test_my_bag_of_words())"
      ],
      "execution_count": 107,
      "outputs": [
        {
          "output_type": "stream",
          "text": [
            "Basic tests are passed.\n"
          ],
          "name": "stdout"
        }
      ]
    },
    {
      "cell_type": "markdown",
      "metadata": {
        "id": "Mc51QkTg-fOK",
        "colab_type": "text"
      },
      "source": [
        "Now apply the implemented function to all samples (this might take up to a minute):"
      ]
    },
    {
      "cell_type": "code",
      "metadata": {
        "id": "4KUxulL3-fOK",
        "colab_type": "code",
        "colab": {}
      },
      "source": [
        "from scipy import sparse as sp_sparse"
      ],
      "execution_count": 108,
      "outputs": []
    },
    {
      "cell_type": "code",
      "metadata": {
        "id": "iVWPeWxN-fOO",
        "colab_type": "code",
        "colab": {
          "base_uri": "https://localhost:8080/",
          "height": 68
        },
        "outputId": "1f032884-f945-42f9-ad0c-40cde65ccb49"
      },
      "source": [
        "X_train_mybag = sp_sparse.vstack([sp_sparse.csr_matrix(my_bag_of_words(text, tfidf_vocab, len(tfidf_vocab))) for text in X_train])\n",
        "X_val_mybag = sp_sparse.vstack([sp_sparse.csr_matrix(my_bag_of_words(text, tfidf_vocab, len(tfidf_vocab))) for text in X_val])\n",
        "X_test_mybag = sp_sparse.vstack([sp_sparse.csr_matrix(my_bag_of_words(text, tfidf_vocab, len(tfidf_vocab))) for text in X_test])\n",
        "print('X_train shape ', X_train_mybag.shape)\n",
        "print('X_val shape ', X_val_mybag.shape)\n",
        "print('X_test shape ', X_test_mybag.shape)"
      ],
      "execution_count": 348,
      "outputs": [
        {
          "output_type": "stream",
          "text": [
            "X_train shape  (100000, 6311)\n",
            "X_val shape  (30000, 6311)\n",
            "X_test shape  (20000, 6311)\n"
          ],
          "name": "stdout"
        }
      ]
    },
    {
      "cell_type": "code",
      "metadata": {
        "id": "l-b9Y9JFboKA",
        "colab_type": "code",
        "colab": {
          "base_uri": "https://localhost:8080/",
          "height": 34
        },
        "outputId": "90c9a532-3a33-46f8-9288-9df85e0834f0"
      },
      "source": [
        "DICT_SIZE"
      ],
      "execution_count": 346,
      "outputs": [
        {
          "output_type": "execute_result",
          "data": {
            "text/plain": [
              "5000"
            ]
          },
          "metadata": {
            "tags": []
          },
          "execution_count": 346
        }
      ]
    },
    {
      "cell_type": "markdown",
      "metadata": {
        "id": "XIzfKhD7-fOQ",
        "colab_type": "text"
      },
      "source": [
        "As you might notice, we transform the data to sparse representation, to store the useful information efficiently. There are many [types](https://docs.scipy.org/doc/scipy/reference/sparse.html) of such representations, however sklearn algorithms can work only with [csr](https://docs.scipy.org/doc/scipy/reference/generated/scipy.sparse.csr_matrix.html#scipy.sparse.csr_matrix) matrix, so we will use this one."
      ]
    },
    {
      "cell_type": "markdown",
      "metadata": {
        "id": "SprePT3e-fOR",
        "colab_type": "text"
      },
      "source": [
        "**Task 3 (BagOfWords).** For the 11th row in *X_train_mybag* find how many non-zero elements it has. In this task the answer (variable *non_zero_elements_count*) should be an integer number, e.g. 20."
      ]
    },
    {
      "cell_type": "code",
      "metadata": {
        "id": "JsxPfP6XahD4",
        "colab_type": "code",
        "colab": {
          "base_uri": "https://localhost:8080/",
          "height": 34
        },
        "outputId": "0cf1974b-d0ae-4244-f531-fb6d11285828"
      },
      "source": [
        " X_train_mybag[11].toarray()"
      ],
      "execution_count": 349,
      "outputs": [
        {
          "output_type": "execute_result",
          "data": {
            "text/plain": [
              "array([[0., 0., 0., ..., 0., 0., 0.]])"
            ]
          },
          "metadata": {
            "tags": []
          },
          "execution_count": 349
        }
      ]
    },
    {
      "cell_type": "code",
      "metadata": {
        "id": "FwyQlevl-fOR",
        "colab_type": "code",
        "colab": {
          "base_uri": "https://localhost:8080/",
          "height": 51
        },
        "outputId": "364113e7-809e-4b7f-9359-baa79b5626e4"
      },
      "source": [
        "row = X_train_mybag[10].toarray()[0]\n",
        "\n",
        "non_zero_elements_count = 0\n",
        "for i in row:\n",
        "  if i != 0:   \n",
        "    non_zero_elements_count= non_zero_elements_count +1\n",
        "\n",
        " ####### YOUR CODE HERE #######\n",
        "\n",
        "grader.submit_tag('BagOfWords', non_zero_elements_count)"
      ],
      "execution_count": 350,
      "outputs": [
        {
          "output_type": "stream",
          "text": [
            "Current answer for task BagOfWords is:\n",
            " 7...\n"
          ],
          "name": "stdout"
        }
      ]
    },
    {
      "cell_type": "markdown",
      "metadata": {
        "id": "g1sEbA9_-fOT",
        "colab_type": "text"
      },
      "source": [
        "#### TF-IDF\n",
        "\n",
        "The second approach extends the bag-of-words framework by taking into account total frequencies of words in the corpora. It helps to penalize too frequent words and provide better features space. \n",
        "\n",
        "Implement function *tfidf_features* using class [TfidfVectorizer](http://scikit-learn.org/stable/modules/generated/sklearn.feature_extraction.text.TfidfVectorizer.html) from *scikit-learn*. Use *train* corpus to train a vectorizer. Don't forget to take a look into the arguments that you can pass to it. We suggest that you filter out too rare words (occur less than in 5 titles) and too frequent words (occur more than in 90% of the titles). Also, use bigrams along with unigrams in your vocabulary. "
      ]
    },
    {
      "cell_type": "code",
      "metadata": {
        "id": "S4EdpM7co8O_",
        "colab_type": "code",
        "colab": {
          "base_uri": "https://localhost:8080/",
          "height": 204
        },
        "outputId": "932f5d81-e9a8-4f71-cdb6-6a36db07b840"
      },
      "source": [
        "from sklearn.feature_extraction.text import TfidfVectorizer\n",
        "import pandas as pd\n",
        "texts = [\n",
        "    \"good movie\", \"not a good movie\", \"did not like\", \n",
        "    \"i like it\", \"good one\"\n",
        "]\n",
        "# using default tokenizer in TfidfVectorizer\n",
        "tfidf = TfidfVectorizer(min_df=2, max_df=0.5, ngram_range=(1, 2))\n",
        "features = tfidf.fit_transform(texts)\n",
        "pd.DataFrame(\n",
        "    features.todense(),\n",
        "    columns=tfidf.get_feature_names()\n",
        ")"
      ],
      "execution_count": 112,
      "outputs": [
        {
          "output_type": "execute_result",
          "data": {
            "text/html": [
              "<div>\n",
              "<style scoped>\n",
              "    .dataframe tbody tr th:only-of-type {\n",
              "        vertical-align: middle;\n",
              "    }\n",
              "\n",
              "    .dataframe tbody tr th {\n",
              "        vertical-align: top;\n",
              "    }\n",
              "\n",
              "    .dataframe thead th {\n",
              "        text-align: right;\n",
              "    }\n",
              "</style>\n",
              "<table border=\"1\" class=\"dataframe\">\n",
              "  <thead>\n",
              "    <tr style=\"text-align: right;\">\n",
              "      <th></th>\n",
              "      <th>good movie</th>\n",
              "      <th>like</th>\n",
              "      <th>movie</th>\n",
              "      <th>not</th>\n",
              "    </tr>\n",
              "  </thead>\n",
              "  <tbody>\n",
              "    <tr>\n",
              "      <th>0</th>\n",
              "      <td>0.707107</td>\n",
              "      <td>0.000000</td>\n",
              "      <td>0.707107</td>\n",
              "      <td>0.000000</td>\n",
              "    </tr>\n",
              "    <tr>\n",
              "      <th>1</th>\n",
              "      <td>0.577350</td>\n",
              "      <td>0.000000</td>\n",
              "      <td>0.577350</td>\n",
              "      <td>0.577350</td>\n",
              "    </tr>\n",
              "    <tr>\n",
              "      <th>2</th>\n",
              "      <td>0.000000</td>\n",
              "      <td>0.707107</td>\n",
              "      <td>0.000000</td>\n",
              "      <td>0.707107</td>\n",
              "    </tr>\n",
              "    <tr>\n",
              "      <th>3</th>\n",
              "      <td>0.000000</td>\n",
              "      <td>1.000000</td>\n",
              "      <td>0.000000</td>\n",
              "      <td>0.000000</td>\n",
              "    </tr>\n",
              "    <tr>\n",
              "      <th>4</th>\n",
              "      <td>0.000000</td>\n",
              "      <td>0.000000</td>\n",
              "      <td>0.000000</td>\n",
              "      <td>0.000000</td>\n",
              "    </tr>\n",
              "  </tbody>\n",
              "</table>\n",
              "</div>"
            ],
            "text/plain": [
              "   good movie      like     movie       not\n",
              "0    0.707107  0.000000  0.707107  0.000000\n",
              "1    0.577350  0.000000  0.577350  0.577350\n",
              "2    0.000000  0.707107  0.000000  0.707107\n",
              "3    0.000000  1.000000  0.000000  0.000000\n",
              "4    0.000000  0.000000  0.000000  0.000000"
            ]
          },
          "metadata": {
            "tags": []
          },
          "execution_count": 112
        }
      ]
    },
    {
      "cell_type": "code",
      "metadata": {
        "id": "dHCejIPq-fOU",
        "colab_type": "code",
        "colab": {}
      },
      "source": [
        "from sklearn.feature_extraction.text import TfidfVectorizer"
      ],
      "execution_count": 113,
      "outputs": []
    },
    {
      "cell_type": "code",
      "metadata": {
        "id": "xzf-6eFW-fOY",
        "colab_type": "code",
        "colab": {}
      },
      "source": [
        "def tfidf_features(X_train, X_val, X_test):\n",
        "    \"\"\"\n",
        "        X_train, X_val, X_test — samples        \n",
        "        return TF-IDF vectorized representation of each sample and vocabulary\n",
        "    \"\"\"\n",
        "    # Create TF-IDF vectorizer with a proper parameters choice\n",
        "    # Fit the vectorizer on the train set\n",
        "    # Transform the train, test, and val sets and return the result\n",
        "    \n",
        "    \n",
        "    tfidf_vectorizer =  TfidfVectorizer(min_df=5, max_df=0.9, token_pattern='(\\S+)')\n",
        "\n",
        "    tfidf_vectorizer.fit(X_train)\n",
        "\n",
        "    X_train = tfidf_vectorizer.transform(X_train)\n",
        "    X_val = tfidf_vectorizer.transform(X_val)\n",
        "    X_test = tfidf_vectorizer.transform(X_test)\n",
        "    \n",
        "    ######################################\n",
        "    ######### YOUR CODE HERE #############\n",
        "    ######################################\n",
        "    \n",
        "    return X_train, X_val, X_test, tfidf_vectorizer.vocabulary_"
      ],
      "execution_count": 114,
      "outputs": []
    },
    {
      "cell_type": "markdown",
      "metadata": {
        "id": "y-TQFoTa-fOc",
        "colab_type": "text"
      },
      "source": [
        "Once you have done text preprocessing, always have a look at the results. Be very careful at this step, because the performance of future models will drastically depend on it. \n",
        "\n",
        "In this case, check whether you have c++ or c# in your vocabulary, as they are obviously important tokens in our tags prediction task:"
      ]
    },
    {
      "cell_type": "code",
      "metadata": {
        "id": "N-5ThwCS-fOc",
        "colab_type": "code",
        "colab": {}
      },
      "source": [
        "X_train_tfidf, X_val_tfidf, X_test_tfidf, tfidf_vocab = tfidf_features(X_train, X_val, X_test)\n",
        "tfidf_reversed_vocab = {i:word for word,i in tfidf_vocab.items()}"
      ],
      "execution_count": 115,
      "outputs": []
    },
    {
      "cell_type": "code",
      "metadata": {
        "id": "JoRMKQvJ-fOf",
        "colab_type": "code",
        "colab": {
          "base_uri": "https://localhost:8080/",
          "height": 34
        },
        "outputId": "7a86ca71-bad6-43df-9960-42591bc9a686"
      },
      "source": [
        "######### YOUR CODE HERE #############\n",
        "'draw' in tfidf_reversed_vocab.values()\n",
        "'c++' in tfidf_reversed_vocab.values()"
      ],
      "execution_count": 116,
      "outputs": [
        {
          "output_type": "execute_result",
          "data": {
            "text/plain": [
              "True"
            ]
          },
          "metadata": {
            "tags": []
          },
          "execution_count": 116
        }
      ]
    },
    {
      "cell_type": "markdown",
      "metadata": {
        "id": "276kirQU-fOj",
        "colab_type": "text"
      },
      "source": [
        "If you can't find it, we need to understand how did it happen that we lost them? It happened during the built-in tokenization of TfidfVectorizer. Luckily, we can influence on this process. Get back to the function above and use '(\\S+)' regexp as a *token_pattern* in the constructor of the vectorizer.  "
      ]
    },
    {
      "cell_type": "markdown",
      "metadata": {
        "id": "XnZdycUA-fOk",
        "colab_type": "text"
      },
      "source": [
        "Now, use this transormation for the data and check again."
      ]
    },
    {
      "cell_type": "code",
      "metadata": {
        "id": "zvoEwIKI-fOk",
        "colab_type": "code",
        "colab": {
          "base_uri": "https://localhost:8080/",
          "height": 34
        },
        "outputId": "14ec99cd-225c-482b-9648-3b3586e3018f"
      },
      "source": [
        "######### YOUR CODE HERE #############\n",
        "'c#' in tfidf_reversed_vocab.values()"
      ],
      "execution_count": 117,
      "outputs": [
        {
          "output_type": "execute_result",
          "data": {
            "text/plain": [
              "True"
            ]
          },
          "metadata": {
            "tags": []
          },
          "execution_count": 117
        }
      ]
    },
    {
      "cell_type": "markdown",
      "metadata": {
        "id": "cII4S7ll-fOo",
        "colab_type": "text"
      },
      "source": [
        "### MultiLabel classifier\n",
        "\n",
        "As we have noticed before, in this task each example can have multiple tags. To deal with such kind of prediction, we need to transform labels in a binary form and the prediction will be a mask of 0s and 1s. For this purpose it is convenient to use [MultiLabelBinarizer](http://scikit-learn.org/stable/modules/generated/sklearn.preprocessing.MultiLabelBinarizer.html) from *sklearn*."
      ]
    },
    {
      "cell_type": "code",
      "metadata": {
        "id": "yI7co2T0-fOo",
        "colab_type": "code",
        "colab": {}
      },
      "source": [
        "from sklearn.preprocessing import MultiLabelBinarizer"
      ],
      "execution_count": 118,
      "outputs": []
    },
    {
      "cell_type": "code",
      "metadata": {
        "id": "63qNakKO-fOu",
        "colab_type": "code",
        "colab": {}
      },
      "source": [
        "mlb = MultiLabelBinarizer(classes=sorted(tags_counts.keys()))\n",
        "y_train = mlb.fit_transform(y_train)\n",
        "y_val = mlb.fit_transform(y_val)"
      ],
      "execution_count": 119,
      "outputs": []
    },
    {
      "cell_type": "markdown",
      "metadata": {
        "id": "mNwNiiBC-fOx",
        "colab_type": "text"
      },
      "source": [
        "Implement the function *train_classifier* for training a classifier. In this task we suggest to use One-vs-Rest approach, which is implemented in [OneVsRestClassifier](http://scikit-learn.org/stable/modules/generated/sklearn.multiclass.OneVsRestClassifier.html) class. In this approach *k* classifiers (= number of tags) are trained. As a basic classifier, use [LogisticRegression](http://scikit-learn.org/stable/modules/generated/sklearn.linear_model.LogisticRegression.html). It is one of the simplest methods, but often it performs good enough in text classification tasks. It might take some time, because a number of classifiers to train is large."
      ]
    },
    {
      "cell_type": "code",
      "metadata": {
        "id": "Px9AApf0-fOy",
        "colab_type": "code",
        "colab": {}
      },
      "source": [
        "from sklearn.multiclass import OneVsRestClassifier\n",
        "from sklearn.linear_model import LogisticRegression, RidgeClassifier"
      ],
      "execution_count": 193,
      "outputs": []
    },
    {
      "cell_type": "code",
      "metadata": {
        "id": "vgT5euqk-fO3",
        "colab_type": "code",
        "colab": {}
      },
      "source": [
        "def train_classifier(X_train, y_train):\n",
        "    \"\"\"\n",
        "      X_train, y_train — training data\n",
        "      \n",
        "      return: trained classifier\n",
        "    \"\"\"\n",
        "    \n",
        "    # Create and fit LogisticRegression wraped into OneVsRestClassifier.\n",
        "   # model = LogisticRegression()\n",
        "  # clf = OneVsRestClassifier(SVC()).fit(X, y)\n",
        "\n",
        "    clf = OneVsRestClassifier(LogisticRegression()).fit(X_train, y_train)\n",
        "\n",
        "    ######################################\n",
        "    ######### YOUR CODE HERE #############\n",
        "    ######################################    \n",
        "\n",
        "    return clf\n",
        "\n",
        "def train_classifier_2(X_train, y_train, C, l):\n",
        "  \"\"\"\n",
        "  X_train, y_train — training data\n",
        "\n",
        "  return: trained classifier\n",
        "  \"\"\"\n",
        "\n",
        "  # Create and fit LogisticRegression wraped into OneVsRestClassifier.\n",
        "  # model = LogisticRegression()\n",
        "  # clf = OneVsRestClassifier(SVC()).fit(X, y)\n",
        "\n",
        "  clf = OneVsRestClassifier(LogisticRegression(C=C,penalty = l, solver='liblinear')).fit(X_train, y_train)\n",
        "\n",
        "  ######################################\n",
        "  ######### YOUR CODE HERE #############\n",
        "  ######################################    \n",
        "\n",
        "  return clf"
      ],
      "execution_count": 199,
      "outputs": []
    },
    {
      "cell_type": "markdown",
      "metadata": {
        "id": "MRHwWUQL-fO7",
        "colab_type": "text"
      },
      "source": [
        "Train the classifiers for different data transformations: *bag-of-words* and *tf-idf*."
      ]
    },
    {
      "cell_type": "code",
      "metadata": {
        "id": "wumZG_Uc-fO7",
        "colab_type": "code",
        "colab": {
          "base_uri": "https://localhost:8080/",
          "height": 1000
        },
        "outputId": "f9246e52-ace8-4e67-fd77-c378223df538"
      },
      "source": [
        "classifier_mybag = train_classifier(X_train_mybag, y_train)\n",
        "classifier_tfidf = train_classifier(X_train_tfidf, y_train)"
      ],
      "execution_count": 351,
      "outputs": [
        {
          "output_type": "stream",
          "text": [
            "/usr/local/lib/python3.6/dist-packages/sklearn/linear_model/_logistic.py:940: ConvergenceWarning: lbfgs failed to converge (status=1):\n",
            "STOP: TOTAL NO. of ITERATIONS REACHED LIMIT.\n",
            "\n",
            "Increase the number of iterations (max_iter) or scale the data as shown in:\n",
            "    https://scikit-learn.org/stable/modules/preprocessing.html\n",
            "Please also refer to the documentation for alternative solver options:\n",
            "    https://scikit-learn.org/stable/modules/linear_model.html#logistic-regression\n",
            "  extra_warning_msg=_LOGISTIC_SOLVER_CONVERGENCE_MSG)\n",
            "/usr/local/lib/python3.6/dist-packages/sklearn/linear_model/_logistic.py:940: ConvergenceWarning: lbfgs failed to converge (status=1):\n",
            "STOP: TOTAL NO. of ITERATIONS REACHED LIMIT.\n",
            "\n",
            "Increase the number of iterations (max_iter) or scale the data as shown in:\n",
            "    https://scikit-learn.org/stable/modules/preprocessing.html\n",
            "Please also refer to the documentation for alternative solver options:\n",
            "    https://scikit-learn.org/stable/modules/linear_model.html#logistic-regression\n",
            "  extra_warning_msg=_LOGISTIC_SOLVER_CONVERGENCE_MSG)\n",
            "/usr/local/lib/python3.6/dist-packages/sklearn/linear_model/_logistic.py:940: ConvergenceWarning: lbfgs failed to converge (status=1):\n",
            "STOP: TOTAL NO. of ITERATIONS REACHED LIMIT.\n",
            "\n",
            "Increase the number of iterations (max_iter) or scale the data as shown in:\n",
            "    https://scikit-learn.org/stable/modules/preprocessing.html\n",
            "Please also refer to the documentation for alternative solver options:\n",
            "    https://scikit-learn.org/stable/modules/linear_model.html#logistic-regression\n",
            "  extra_warning_msg=_LOGISTIC_SOLVER_CONVERGENCE_MSG)\n",
            "/usr/local/lib/python3.6/dist-packages/sklearn/linear_model/_logistic.py:940: ConvergenceWarning: lbfgs failed to converge (status=1):\n",
            "STOP: TOTAL NO. of ITERATIONS REACHED LIMIT.\n",
            "\n",
            "Increase the number of iterations (max_iter) or scale the data as shown in:\n",
            "    https://scikit-learn.org/stable/modules/preprocessing.html\n",
            "Please also refer to the documentation for alternative solver options:\n",
            "    https://scikit-learn.org/stable/modules/linear_model.html#logistic-regression\n",
            "  extra_warning_msg=_LOGISTIC_SOLVER_CONVERGENCE_MSG)\n",
            "/usr/local/lib/python3.6/dist-packages/sklearn/linear_model/_logistic.py:940: ConvergenceWarning: lbfgs failed to converge (status=1):\n",
            "STOP: TOTAL NO. of ITERATIONS REACHED LIMIT.\n",
            "\n",
            "Increase the number of iterations (max_iter) or scale the data as shown in:\n",
            "    https://scikit-learn.org/stable/modules/preprocessing.html\n",
            "Please also refer to the documentation for alternative solver options:\n",
            "    https://scikit-learn.org/stable/modules/linear_model.html#logistic-regression\n",
            "  extra_warning_msg=_LOGISTIC_SOLVER_CONVERGENCE_MSG)\n",
            "/usr/local/lib/python3.6/dist-packages/sklearn/linear_model/_logistic.py:940: ConvergenceWarning: lbfgs failed to converge (status=1):\n",
            "STOP: TOTAL NO. of ITERATIONS REACHED LIMIT.\n",
            "\n",
            "Increase the number of iterations (max_iter) or scale the data as shown in:\n",
            "    https://scikit-learn.org/stable/modules/preprocessing.html\n",
            "Please also refer to the documentation for alternative solver options:\n",
            "    https://scikit-learn.org/stable/modules/linear_model.html#logistic-regression\n",
            "  extra_warning_msg=_LOGISTIC_SOLVER_CONVERGENCE_MSG)\n",
            "/usr/local/lib/python3.6/dist-packages/sklearn/linear_model/_logistic.py:940: ConvergenceWarning: lbfgs failed to converge (status=1):\n",
            "STOP: TOTAL NO. of ITERATIONS REACHED LIMIT.\n",
            "\n",
            "Increase the number of iterations (max_iter) or scale the data as shown in:\n",
            "    https://scikit-learn.org/stable/modules/preprocessing.html\n",
            "Please also refer to the documentation for alternative solver options:\n",
            "    https://scikit-learn.org/stable/modules/linear_model.html#logistic-regression\n",
            "  extra_warning_msg=_LOGISTIC_SOLVER_CONVERGENCE_MSG)\n",
            "/usr/local/lib/python3.6/dist-packages/sklearn/linear_model/_logistic.py:940: ConvergenceWarning: lbfgs failed to converge (status=1):\n",
            "STOP: TOTAL NO. of ITERATIONS REACHED LIMIT.\n",
            "\n",
            "Increase the number of iterations (max_iter) or scale the data as shown in:\n",
            "    https://scikit-learn.org/stable/modules/preprocessing.html\n",
            "Please also refer to the documentation for alternative solver options:\n",
            "    https://scikit-learn.org/stable/modules/linear_model.html#logistic-regression\n",
            "  extra_warning_msg=_LOGISTIC_SOLVER_CONVERGENCE_MSG)\n",
            "/usr/local/lib/python3.6/dist-packages/sklearn/linear_model/_logistic.py:940: ConvergenceWarning: lbfgs failed to converge (status=1):\n",
            "STOP: TOTAL NO. of ITERATIONS REACHED LIMIT.\n",
            "\n",
            "Increase the number of iterations (max_iter) or scale the data as shown in:\n",
            "    https://scikit-learn.org/stable/modules/preprocessing.html\n",
            "Please also refer to the documentation for alternative solver options:\n",
            "    https://scikit-learn.org/stable/modules/linear_model.html#logistic-regression\n",
            "  extra_warning_msg=_LOGISTIC_SOLVER_CONVERGENCE_MSG)\n",
            "/usr/local/lib/python3.6/dist-packages/sklearn/linear_model/_logistic.py:940: ConvergenceWarning: lbfgs failed to converge (status=1):\n",
            "STOP: TOTAL NO. of ITERATIONS REACHED LIMIT.\n",
            "\n",
            "Increase the number of iterations (max_iter) or scale the data as shown in:\n",
            "    https://scikit-learn.org/stable/modules/preprocessing.html\n",
            "Please also refer to the documentation for alternative solver options:\n",
            "    https://scikit-learn.org/stable/modules/linear_model.html#logistic-regression\n",
            "  extra_warning_msg=_LOGISTIC_SOLVER_CONVERGENCE_MSG)\n",
            "/usr/local/lib/python3.6/dist-packages/sklearn/linear_model/_logistic.py:940: ConvergenceWarning: lbfgs failed to converge (status=1):\n",
            "STOP: TOTAL NO. of ITERATIONS REACHED LIMIT.\n",
            "\n",
            "Increase the number of iterations (max_iter) or scale the data as shown in:\n",
            "    https://scikit-learn.org/stable/modules/preprocessing.html\n",
            "Please also refer to the documentation for alternative solver options:\n",
            "    https://scikit-learn.org/stable/modules/linear_model.html#logistic-regression\n",
            "  extra_warning_msg=_LOGISTIC_SOLVER_CONVERGENCE_MSG)\n",
            "/usr/local/lib/python3.6/dist-packages/sklearn/linear_model/_logistic.py:940: ConvergenceWarning: lbfgs failed to converge (status=1):\n",
            "STOP: TOTAL NO. of ITERATIONS REACHED LIMIT.\n",
            "\n",
            "Increase the number of iterations (max_iter) or scale the data as shown in:\n",
            "    https://scikit-learn.org/stable/modules/preprocessing.html\n",
            "Please also refer to the documentation for alternative solver options:\n",
            "    https://scikit-learn.org/stable/modules/linear_model.html#logistic-regression\n",
            "  extra_warning_msg=_LOGISTIC_SOLVER_CONVERGENCE_MSG)\n",
            "/usr/local/lib/python3.6/dist-packages/sklearn/linear_model/_logistic.py:940: ConvergenceWarning: lbfgs failed to converge (status=1):\n",
            "STOP: TOTAL NO. of ITERATIONS REACHED LIMIT.\n",
            "\n",
            "Increase the number of iterations (max_iter) or scale the data as shown in:\n",
            "    https://scikit-learn.org/stable/modules/preprocessing.html\n",
            "Please also refer to the documentation for alternative solver options:\n",
            "    https://scikit-learn.org/stable/modules/linear_model.html#logistic-regression\n",
            "  extra_warning_msg=_LOGISTIC_SOLVER_CONVERGENCE_MSG)\n",
            "/usr/local/lib/python3.6/dist-packages/sklearn/linear_model/_logistic.py:940: ConvergenceWarning: lbfgs failed to converge (status=1):\n",
            "STOP: TOTAL NO. of ITERATIONS REACHED LIMIT.\n",
            "\n",
            "Increase the number of iterations (max_iter) or scale the data as shown in:\n",
            "    https://scikit-learn.org/stable/modules/preprocessing.html\n",
            "Please also refer to the documentation for alternative solver options:\n",
            "    https://scikit-learn.org/stable/modules/linear_model.html#logistic-regression\n",
            "  extra_warning_msg=_LOGISTIC_SOLVER_CONVERGENCE_MSG)\n",
            "/usr/local/lib/python3.6/dist-packages/sklearn/linear_model/_logistic.py:940: ConvergenceWarning: lbfgs failed to converge (status=1):\n",
            "STOP: TOTAL NO. of ITERATIONS REACHED LIMIT.\n",
            "\n",
            "Increase the number of iterations (max_iter) or scale the data as shown in:\n",
            "    https://scikit-learn.org/stable/modules/preprocessing.html\n",
            "Please also refer to the documentation for alternative solver options:\n",
            "    https://scikit-learn.org/stable/modules/linear_model.html#logistic-regression\n",
            "  extra_warning_msg=_LOGISTIC_SOLVER_CONVERGENCE_MSG)\n",
            "/usr/local/lib/python3.6/dist-packages/sklearn/linear_model/_logistic.py:940: ConvergenceWarning: lbfgs failed to converge (status=1):\n",
            "STOP: TOTAL NO. of ITERATIONS REACHED LIMIT.\n",
            "\n",
            "Increase the number of iterations (max_iter) or scale the data as shown in:\n",
            "    https://scikit-learn.org/stable/modules/preprocessing.html\n",
            "Please also refer to the documentation for alternative solver options:\n",
            "    https://scikit-learn.org/stable/modules/linear_model.html#logistic-regression\n",
            "  extra_warning_msg=_LOGISTIC_SOLVER_CONVERGENCE_MSG)\n",
            "/usr/local/lib/python3.6/dist-packages/sklearn/linear_model/_logistic.py:940: ConvergenceWarning: lbfgs failed to converge (status=1):\n",
            "STOP: TOTAL NO. of ITERATIONS REACHED LIMIT.\n",
            "\n",
            "Increase the number of iterations (max_iter) or scale the data as shown in:\n",
            "    https://scikit-learn.org/stable/modules/preprocessing.html\n",
            "Please also refer to the documentation for alternative solver options:\n",
            "    https://scikit-learn.org/stable/modules/linear_model.html#logistic-regression\n",
            "  extra_warning_msg=_LOGISTIC_SOLVER_CONVERGENCE_MSG)\n",
            "/usr/local/lib/python3.6/dist-packages/sklearn/linear_model/_logistic.py:940: ConvergenceWarning: lbfgs failed to converge (status=1):\n",
            "STOP: TOTAL NO. of ITERATIONS REACHED LIMIT.\n",
            "\n",
            "Increase the number of iterations (max_iter) or scale the data as shown in:\n",
            "    https://scikit-learn.org/stable/modules/preprocessing.html\n",
            "Please also refer to the documentation for alternative solver options:\n",
            "    https://scikit-learn.org/stable/modules/linear_model.html#logistic-regression\n",
            "  extra_warning_msg=_LOGISTIC_SOLVER_CONVERGENCE_MSG)\n"
          ],
          "name": "stderr"
        }
      ]
    },
    {
      "cell_type": "markdown",
      "metadata": {
        "id": "XtzgR4uZ-fPB",
        "colab_type": "text"
      },
      "source": [
        "Now you can create predictions for the data. You will need two types of predictions: labels and scores."
      ]
    },
    {
      "cell_type": "code",
      "metadata": {
        "id": "2O9fhqCH-fPD",
        "colab_type": "code",
        "colab": {}
      },
      "source": [
        "y_val_predicted_labels_mybag = classifier_mybag.predict(X_val_mybag)\n",
        "y_val_predicted_scores_mybag = classifier_mybag.decision_function(X_val_mybag)\n",
        "\n",
        "y_val_predicted_labels_tfidf = classifier_tfidf.predict(X_val_tfidf)\n",
        "y_val_predicted_scores_tfidf = classifier_tfidf.decision_function(X_val_tfidf)"
      ],
      "execution_count": 123,
      "outputs": []
    },
    {
      "cell_type": "markdown",
      "metadata": {
        "id": "8KSi42oO-fPI",
        "colab_type": "text"
      },
      "source": [
        "Now take a look at how classifier, which uses TF-IDF, works for a few examples:"
      ]
    },
    {
      "cell_type": "code",
      "metadata": {
        "id": "I6MgYwzU-fPL",
        "colab_type": "code",
        "colab": {
          "base_uri": "https://localhost:8080/",
          "height": 867
        },
        "outputId": "dd4ba380-9ab8-487e-f5ae-e55bea37fa5c"
      },
      "source": [
        "y_val_pred_inversed = mlb.inverse_transform(y_val_predicted_labels_tfidf)\n",
        "y_val_inversed = mlb.inverse_transform(y_val)\n",
        "for i in range(10):\n",
        "    print('Title:\\t{}\\nTrue labels:\\t{}\\nPredicted labels:\\t{}\\n\\n'.format(\n",
        "        X_val[i],\n",
        "        ','.join(y_val_inversed[i]),\n",
        "        ','.join(y_val_pred_inversed[i])\n",
        "    ))"
      ],
      "execution_count": 124,
      "outputs": [
        {
          "output_type": "stream",
          "text": [
            "Title:\todbc_exec always fail\n",
            "True labels:\tphp,sql\n",
            "Predicted labels:\t\n",
            "\n",
            "\n",
            "Title:\taccess base classes variable within child class\n",
            "True labels:\tjavascript\n",
            "Predicted labels:\t\n",
            "\n",
            "\n",
            "Title:\tcontenttype application json required rails\n",
            "True labels:\truby,ruby-on-rails\n",
            "Predicted labels:\tjson,ruby-on-rails\n",
            "\n",
            "\n",
            "Title:\tsessions sinatra used pass variable\n",
            "True labels:\truby,session\n",
            "Predicted labels:\t\n",
            "\n",
            "\n",
            "Title:\tgetting error type json exist postgresql rake db migrate\n",
            "True labels:\tjson,ruby,ruby-on-rails\n",
            "Predicted labels:\truby-on-rails\n",
            "\n",
            "\n",
            "Title:\tlibrary found\n",
            "True labels:\tc++,ios,iphone,xcode\n",
            "Predicted labels:\t\n",
            "\n",
            "\n",
            "Title:\tcsproj file programmatic adding deleting files\n",
            "True labels:\tc#\n",
            "Predicted labels:\t\n",
            "\n",
            "\n",
            "Title:\ttypeerror makedirs got unexpected keyword argument exists_ok\n",
            "True labels:\tdjango,python\n",
            "Predicted labels:\tpython\n",
            "\n",
            "\n",
            "Title:\tpan div using jquery\n",
            "True labels:\thtml,javascript,jquery\n",
            "Predicted labels:\tjavascript,jquery\n",
            "\n",
            "\n",
            "Title:\thibernate intermediate advanced tutorials\n",
            "True labels:\thibernate,java\n",
            "Predicted labels:\thibernate,java\n",
            "\n",
            "\n"
          ],
          "name": "stdout"
        }
      ]
    },
    {
      "cell_type": "markdown",
      "metadata": {
        "id": "jYp2qJ4q-fPQ",
        "colab_type": "text"
      },
      "source": [
        "Now, we would need to compare the results of different predictions, e.g. to see whether TF-IDF transformation helps or to try different regularization techniques in logistic regression. For all these experiments, we need to setup evaluation procedure. "
      ]
    },
    {
      "cell_type": "markdown",
      "metadata": {
        "id": "uPVUee8l-fPR",
        "colab_type": "text"
      },
      "source": [
        "### Evaluation\n",
        "\n",
        "To evaluate the results we will use several classification metrics:\n",
        " - [Accuracy](http://scikit-learn.org/stable/modules/generated/sklearn.metrics.accuracy_score.html)\n",
        " - [F1-score](http://scikit-learn.org/stable/modules/generated/sklearn.metrics.f1_score.html)\n",
        " - [Area under ROC-curve](http://scikit-learn.org/stable/modules/generated/sklearn.metrics.roc_auc_score.html)\n",
        " - [Area under precision-recall curve](http://scikit-learn.org/stable/modules/generated/sklearn.metrics.average_precision_score.html#sklearn.metrics.average_precision_score) \n",
        " \n",
        "Make sure you are familiar with all of them. How would you expect the things work for the multi-label scenario? Read about micro/macro/weighted averaging following the sklearn links provided above."
      ]
    },
    {
      "cell_type": "code",
      "metadata": {
        "id": "oFPIgy38-fPT",
        "colab_type": "code",
        "colab": {}
      },
      "source": [
        "from sklearn.metrics import accuracy_score\n",
        "from sklearn.metrics import f1_score\n",
        "from sklearn.metrics import roc_auc_score \n",
        "from sklearn.metrics import average_precision_score\n",
        "from sklearn.metrics import recall_score"
      ],
      "execution_count": 125,
      "outputs": []
    },
    {
      "cell_type": "markdown",
      "metadata": {
        "id": "Isu9HreE-fPW",
        "colab_type": "text"
      },
      "source": [
        "Implement the function *print_evaluation_scores* which calculates and prints to stdout:\n",
        " - *accuracy*\n",
        " - *F1-score macro/micro/weighted*\n",
        " - *Precision macro/micro/weighted*"
      ]
    },
    {
      "cell_type": "code",
      "metadata": {
        "id": "ODij-5hO-fPX",
        "colab_type": "code",
        "colab": {}
      },
      "source": [
        "def print_evaluation_scores(y_val, predicted):\n",
        "    \n",
        "    ######################################\n",
        "    ######### YOUR CODE HERE #############\n",
        "    ######################################\n",
        "\n",
        "    \n",
        "    print(accuracy_score(y_val,predicted))\n",
        "\n",
        "    print(f1_score(y_val,predicted, average= 'micro'))\n",
        "    print(f1_score(y_val,predicted, average= 'macro'))\n",
        "    print(f1_score(y_val,predicted, average= 'weighted'))\n",
        "    print(average_precision_score(y_val,predicted, average= 'micro'))\n",
        "    print(average_precision_score(y_val,predicted, average= 'macro'))\n",
        "    print(average_precision_score(y_val,predicted, average= 'weighted'))\n"
      ],
      "execution_count": 127,
      "outputs": []
    },
    {
      "cell_type": "code",
      "metadata": {
        "id": "J5-bMjtK-fPd",
        "colab_type": "code",
        "colab": {
          "base_uri": "https://localhost:8080/",
          "height": 391
        },
        "outputId": "04f20f93-3c2f-4d81-8562-053796948d4c"
      },
      "source": [
        "print('Bag-of-words')\n",
        "print('\\n')\n",
        "print_evaluation_scores(y_val, y_val_predicted_labels_mybag)\n",
        "print('\\n')\n",
        "print('Tfidf')\n",
        "print('\\n')\n",
        "print_evaluation_scores(y_val, y_val_predicted_labels_tfidf)"
      ],
      "execution_count": 134,
      "outputs": [
        {
          "output_type": "stream",
          "text": [
            "Bag-of-words\n",
            "\n",
            "\n",
            "0.0\n",
            "0.0\n",
            "0.0\n",
            "0.0\n",
            "0.019503333333333334\n",
            "0.01950333333333333\n",
            "0.08404558878824134\n",
            "\n",
            "\n",
            "Tfidf\n",
            "\n",
            "\n",
            "0.3382\n",
            "0.6456965163310572\n",
            "0.4569319885451607\n",
            "0.6188991311371853\n",
            "0.45993077646681685\n",
            "0.310181907571524\n",
            "0.4881932395966558\n"
          ],
          "name": "stdout"
        }
      ]
    },
    {
      "cell_type": "markdown",
      "metadata": {
        "id": "DZFxC92Y-fPh",
        "colab_type": "text"
      },
      "source": [
        "You might also want to plot some generalization of the [ROC curve](http://scikit-learn.org/stable/modules/model_evaluation.html#receiver-operating-characteristic-roc) for the case of multi-label classification. Provided function *roc_auc* can make it for you. The input parameters of this function are:\n",
        " - true labels\n",
        " - decision functions scores\n",
        " - number of classes"
      ]
    },
    {
      "cell_type": "code",
      "metadata": {
        "id": "BAkoJII_-fPh",
        "colab_type": "code",
        "colab": {}
      },
      "source": [
        "from metrics import roc_auc\n",
        "%matplotlib inline"
      ],
      "execution_count": 129,
      "outputs": []
    },
    {
      "cell_type": "code",
      "metadata": {
        "id": "IOeOPq5-Wfb8",
        "colab_type": "code",
        "colab": {
          "base_uri": "https://localhost:8080/",
          "height": 34
        },
        "outputId": "db314581-9d2b-4947-b826-864d34181594"
      },
      "source": [
        "i = 20000\n",
        "# y_val_predicted_scores_tfidf\n",
        "#print(y_val[i],y_val_predicted_scores_mybag[i], y_val_predicted_scores_tfidf[i])\n",
        "\n",
        "type(p1[1200][99])"
      ],
      "execution_count": 189,
      "outputs": [
        {
          "output_type": "execute_result",
          "data": {
            "text/plain": [
              "numpy.float64"
            ]
          },
          "metadata": {
            "tags": []
          },
          "execution_count": 189
        }
      ]
    },
    {
      "cell_type": "code",
      "metadata": {
        "id": "_zEQFNql1hx3",
        "colab_type": "code",
        "colab": {}
      },
      "source": [
        "i = 10\n",
        "# y_val_predicted_scores_tfidf\n",
        "#print(y_val[i],y_val_predicted_scores_mybag[i], y_val_predicted_scores_tfidf[i])\n",
        "#np.shape(y_val_predicted_scores_tfidf)\n",
        "#(30000, 100)\n",
        "#type(y_val_predicted_scores_tfidf)\n",
        "\n",
        "p1 = y_val_predicted_scores_mybag\n",
        "p2 = y_val_predicted_scores_tfidf\n",
        "px = np.zeros((30000, 100))\n",
        "px1 = np.zeros((30000, 100))\n",
        "px2 = np.zeros((30000, 100))\n",
        "\n",
        "\n",
        "\n",
        "for i in range(0,30000):\n",
        "  for j in range(0,100):\n",
        "    px[i][j] = (p1[i][j]+ p2[i][j])/2\n",
        "    px1[i][j] = p1[i][j] + 0.0000001*i + 0.0000001*j\n",
        "    px2[i][j] = p1[i][j] + (i-i)\n",
        "\n",
        "\n",
        "\n",
        "\n"
      ],
      "execution_count": 190,
      "outputs": []
    },
    {
      "cell_type": "code",
      "metadata": {
        "id": "n_ySeCPWXYkB",
        "colab_type": "code",
        "colab": {}
      },
      "source": [
        ""
      ],
      "execution_count": 177,
      "outputs": []
    },
    {
      "cell_type": "code",
      "metadata": {
        "id": "uOV0DFq6-fPj",
        "colab_type": "code",
        "colab": {
          "base_uri": "https://localhost:8080/",
          "height": 295
        },
        "outputId": "b765e2eb-fbe2-4ea6-90d5-11259fc0365c"
      },
      "source": [
        "n_classes = len(tags_counts)\n",
        "roc_auc(y_val, px2, n_classes)"
      ],
      "execution_count": 191,
      "outputs": [
        {
          "output_type": "display_data",
          "data": {
            "image/png": "[encoded data removed]",
            "text/plain": [
              "<Figure size 432x288 with 1 Axes>"
            ]
          },
          "metadata": {
            "tags": [],
            "needs_background": "light"
          }
        }
      ]
    },
    {
      "cell_type": "code",
      "metadata": {
        "id": "E0WxPjgw-fPo",
        "colab_type": "code",
        "colab": {
          "base_uri": "https://localhost:8080/",
          "height": 295
        },
        "outputId": "7d5bfd84-cafe-4019-9cb6-e49491545cfb"
      },
      "source": [
        "n_classes = len(tags_counts)\n",
        "roc_auc(y_val, y_val_predicted_scores_tfidf, n_classes)"
      ],
      "execution_count": 130,
      "outputs": [
        {
          "output_type": "display_data",
          "data": {
            "image/png": "[encoded data removed]",
            "text/plain": [
              "<Figure size 432x288 with 1 Axes>"
            ]
          },
          "metadata": {
            "tags": [],
            "needs_background": "light"
          }
        }
      ]
    },
    {
      "cell_type": "markdown",
      "metadata": {
        "id": "hVdSBA3f-fPt",
        "colab_type": "text"
      },
      "source": [
        "**Task 4 (MultilabelClassification).** Once we have the evaluation set up, we suggest that you experiment a bit with training your classifiers. We will use *F1-score weighted* as an evaluation metric. Our recommendation:\n",
        "- compare the quality of the bag-of-words and TF-IDF approaches and chose one of them.\n",
        "- for the chosen one, try *L1* and *L2*-regularization techniques in Logistic Regression with different coefficients (e.g. C equal to 0.1, 1, 10, 100).\n",
        "\n",
        "You also could try other improvements of the preprocessing / model, if you want. "
      ]
    },
    {
      "cell_type": "code",
      "metadata": {
        "id": "Cy6l035n-fPu",
        "colab_type": "code",
        "colab": {
          "base_uri": "https://localhost:8080/",
          "height": 1000
        },
        "outputId": "f86420cf-6aa5-4f59-ab8e-8c0a5d43b69b"
      },
      "source": [
        "######################################\n",
        "######### YOUR CODE HERE #############\n",
        "######################################\n",
        "for l in ['l1','l2']:\n",
        "  for c in [0.1,1,10,100]:\n",
        "    classifier_tfidf = train_classifier_2(X_train_tfidf, y_train, c, l)\n",
        "    y_val_predicted_labels_tfidf = classifier_tfidf.predict(X_val_tfidf)\n",
        "    print(l + ' ' + str(c) + '\\n')\n",
        "    print_evaluation_scores(y_val, y_val_predicted_labels_tfidf)\n",
        "\n",
        "\n"
      ],
      "execution_count": 200,
      "outputs": [
        {
          "output_type": "stream",
          "text": [
            "l1 0.1\n",
            "\n",
            "0.2928\n",
            "0.5976593568912625\n",
            "0.43596018728965397\n",
            "0.5734602344510773\n",
            "0.4114736115319512\n",
            "0.2966374125160303\n",
            "0.44633559228411795\n",
            "l1 1\n",
            "\n",
            "0.36146666666666666\n",
            "0.6718287310738837\n",
            "0.5033979162914561\n",
            "0.6482595795838455\n",
            "0.48410192731570156\n",
            "0.34468402266352116\n",
            "0.5129020404891488\n",
            "l1 10\n",
            "\n",
            "0.35373333333333334\n",
            "0.6702856634333008\n",
            "0.5075869507508154\n",
            "0.6532491917653523\n",
            "0.4688558239662257\n",
            "0.3278111855811276\n",
            "0.5025462399326693\n",
            "l1 100\n",
            "\n",
            "0.30533333333333335\n",
            "0.6314644367296359\n",
            "0.4459530270108014\n",
            "0.6227525467663302\n",
            "0.41173958903897084\n",
            "0.25619342392724875\n",
            "0.4621234763891795\n",
            "l2 0.1\n",
            "\n",
            "0.20436666666666667\n",
            "0.4744265601266227\n",
            "0.18928437817618923\n",
            "0.4361226932135048\n",
            "0.31092713931354155\n",
            "0.12935683306034942\n",
            "0.3450551223760518\n",
            "l2 1\n",
            "\n",
            "0.33816666666666667\n",
            "0.6456011395391825\n",
            "0.45701314155360273\n",
            "0.6188094320087204\n",
            "0.4598180743127172\n",
            "0.3102526790795397\n",
            "0.4880990898511409\n",
            "l2 10\n",
            "\n",
            "0.3636\n",
            "0.6745728026194617\n",
            "0.5038533527698997\n",
            "0.6526147198083494\n",
            "0.4820110767793136\n",
            "0.3370312694719849\n",
            "0.5103691880678793\n",
            "l2 100\n",
            "\n",
            "0.339\n",
            "0.6571322072469739\n",
            "0.4842707541159787\n",
            "0.6411406009967734\n",
            "0.44981285562084955\n",
            "0.30251003199115695\n",
            "0.48694953067300206\n"
          ],
          "name": "stdout"
        }
      ]
    },
    {
      "cell_type": "code",
      "metadata": {
        "id": "8D8MrtPaYNli",
        "colab_type": "code",
        "colab": {}
      },
      "source": [
        "classifier_tfidf = train_classifier_2(X_train_tfidf, y_train, 10, 'l2')"
      ],
      "execution_count": 326,
      "outputs": []
    },
    {
      "cell_type": "code",
      "metadata": {
        "id": "O-eN2wkYqew7",
        "colab_type": "code",
        "colab": {}
      },
      "source": [
        "l2 10\n",
        "\n",
        "0.3636\n",
        "0.6745728026194617\n",
        "0.5038533527698997\n",
        "0.6526147198083494\n",
        "0.4820110767793136\n",
        "0.3370312694719849\n",
        "0.5103691880678793\n",
        "\n",
        "l1 1\n",
        "\n",
        "0.36146666666666666\n",
        "0.6718287310738837\n",
        "0.5033979162914561\n",
        "0.6482595795838455\n",
        "0.48410192731570156\n",
        "0.34468402266352116\n",
        "0.5129020404891488\n"
      ],
      "execution_count": null,
      "outputs": []
    },
    {
      "cell_type": "code",
      "metadata": {
        "id": "IIBVb2Fi7Czo",
        "colab_type": "code",
        "colab": {
          "base_uri": "https://localhost:8080/",
          "height": 51
        },
        "outputId": "51ce492a-5c22-4bce-c047-83c6c128f7eb"
      },
      "source": [
        "X_val_tfidf[1]"
      ],
      "execution_count": 230,
      "outputs": [
        {
          "output_type": "execute_result",
          "data": {
            "text/plain": [
              "<1x6311 sparse matrix of type '<class 'numpy.float64'>'\n",
              "\twith 7 stored elements in Compressed Sparse Row format>"
            ]
          },
          "metadata": {
            "tags": []
          },
          "execution_count": 230
        }
      ]
    },
    {
      "cell_type": "code",
      "metadata": {
        "id": "ppBgzxFL3ULJ",
        "colab_type": "code",
        "colab": {
          "base_uri": "https://localhost:8080/",
          "height": 34
        },
        "outputId": "017c5c15-a829-4d8c-b3b5-b098f9da4369"
      },
      "source": [
        "np.shape(classifier_tfidf.decision_function(X_val_tfidf[1]))"
      ],
      "execution_count": 229,
      "outputs": [
        {
          "output_type": "execute_result",
          "data": {
            "text/plain": [
              "(1, 100)"
            ]
          },
          "metadata": {
            "tags": []
          },
          "execution_count": 229
        }
      ]
    },
    {
      "cell_type": "markdown",
      "metadata": {
        "id": "dgxFHtz1-fPz",
        "colab_type": "text"
      },
      "source": [
        "When you are happy with the quality, create predictions for *test* set, which you will submit to Coursera."
      ]
    },
    {
      "cell_type": "code",
      "metadata": {
        "id": "NOCfNv2x-fP0",
        "colab_type": "code",
        "colab": {
          "base_uri": "https://localhost:8080/",
          "height": 170
        },
        "outputId": "7f9cbc77-d889-487b-854e-a3b7e3111814"
      },
      "source": [
        "test_predictions = classifier_tfidf.predict(X_test_tfidf)\n",
        "test_pred_inversed = mlb.inverse_transform(test_predictions)\n",
        "\n",
        "test_predictions_for_submission = '\\n'.join('%i\\t%s' % (i, ','.join(row)) for i, row in enumerate(test_pred_inversed))\n",
        "grader.submit_tag('MultilabelClassification', test_predictions_for_submission)"
      ],
      "execution_count": 328,
      "outputs": [
        {
          "output_type": "stream",
          "text": [
            "Current answer for task MultilabelClassification is:\n",
            " 0\tmysql,php\n",
            "1\tjavascript,jquery\n",
            "2\t\n",
            "3\tjavascript,jquery\n",
            "4\tandroid\n",
            "5\tphp,xml\n",
            "6\tajax,json,web-services\n",
            "...\n"
          ],
          "name": "stdout"
        }
      ]
    },
    {
      "cell_type": "markdown",
      "metadata": {
        "id": "ueEGI8y0-fP5",
        "colab_type": "text"
      },
      "source": [
        "### Analysis of the most important features"
      ]
    },
    {
      "cell_type": "markdown",
      "metadata": {
        "id": "DJA0d_92-fP5",
        "colab_type": "text"
      },
      "source": [
        "Finally, it is usually a good idea to look at the features (words or n-grams) that are used with the largest weigths in your logistic regression model."
      ]
    },
    {
      "cell_type": "markdown",
      "metadata": {
        "id": "ISfZOYv9-fP6",
        "colab_type": "text"
      },
      "source": [
        "Implement the function *print_words_for_tag* to find them. Get back to sklearn documentation on [OneVsRestClassifier](http://scikit-learn.org/stable/modules/generated/sklearn.multiclass.OneVsRestClassifier.html) and [LogisticRegression](http://scikit-learn.org/stable/modules/generated/sklearn.linear_model.LogisticRegression.html) if needed."
      ]
    },
    {
      "cell_type": "code",
      "metadata": {
        "id": "7f8MjopMpfjZ",
        "colab_type": "code",
        "colab": {
          "base_uri": "https://localhost:8080/",
          "height": 71
        },
        "outputId": "d694c7a7-8454-441f-83b9-b6cab2dbc87b"
      },
      "source": [
        "print(len(tags_counts.keys()))\n",
        "print(tags_counts.keys())\n",
        "#print(list(tags_counts.keys())[3])\n",
        "#for i in range(0, len(list(tags_counts.keys()))):\n",
        "#  if list(tags_counts.keys())[i] == tag:\n",
        "#    k = i\n",
        "\n",
        "#np.shape(index_to_words)"
      ],
      "execution_count": 223,
      "outputs": [
        {
          "output_type": "stream",
          "text": [
            "100\n",
            "dict_keys(['r', 'php', 'mysql', 'c#', 'javascript', 'jquery', 'java', 'ruby-on-rails', 'ruby', 'ruby-on-rails-3', 'json', 'spring', 'spring-mvc', 'codeigniter', 'class', 'html', 'ios', 'c++', 'eclipse', 'python', 'list', 'objective-c', 'swift', 'xaml', 'asp.net', 'wpf', 'multithreading', 'image', 'performance', 'twitter-bootstrap', 'linq', 'xml', 'numpy', 'ajax', 'django', 'laravel', 'android', 'rest', 'asp.net-mvc', 'web-services', 'string', 'excel', 'winforms', 'arrays', 'c', 'sockets', 'osx', 'entity-framework', 'mongodb', 'opencv', 'xcode', 'uitableview', 'algorithm', 'python-2.7', 'angularjs', 'dom', 'swing', '.net', 'vb.net', 'google-maps', 'hibernate', 'wordpress', 'iphone', 'sql', 'visual-studio', 'linux', 'facebook', 'database', 'file', 'generics', 'visual-studio-2010', 'regex', 'html5', 'jsp', 'csv', 'forms', 'validation', 'parsing', 'function', 'pandas', 'sorting', 'qt', 'wcf', 'css', 'date', 'node.js', 'sql-server', 'unit-testing', 'python-3.x', 'loops', 'windows', 'pointers', 'oop', 'datetime', 'servlets', 'session', 'cocoa-touch', 'apache', 'selenium', 'maven'])\n"
          ],
          "name": "stdout"
        }
      ]
    },
    {
      "cell_type": "code",
      "metadata": {
        "id": "GrYYgu_J9Ish",
        "colab_type": "code",
        "colab": {}
      },
      "source": [
        "#param_grid  = {\"estimator__alpha\": [10**-5, 10**-3, 10**-1, 10**1, 10**2]}\n",
        "\n",
        "#clf = OneVsRestClassifier(SGDClassifier(loss='log',penalty='l1'))\n",
        "\n",
        "#model = GridSearchCV(clf,param_grid, scoring = 'f1_micro', cv=2,n_jobs=-1)\n",
        "\n",
        "#model.fit(x_train_multilabel, y_train)"
      ],
      "execution_count": null,
      "outputs": []
    },
    {
      "cell_type": "code",
      "metadata": {
        "id": "J8s36Fka9f6X",
        "colab_type": "code",
        "colab": {
          "base_uri": "https://localhost:8080/",
          "height": 51
        },
        "outputId": "3b5f6016-1009-40e3-a7ba-434df47c8bcd"
      },
      "source": [
        "print(len(classifier_tfidf.estimators_))\n",
        "print(len(classifier_tfidf.estimators_[0].coef_[0]))"
      ],
      "execution_count": 282,
      "outputs": [
        {
          "output_type": "stream",
          "text": [
            "100\n",
            "6311\n"
          ],
          "name": "stdout"
        }
      ]
    },
    {
      "cell_type": "code",
      "metadata": {
        "id": "vlE7j_5mA_jT",
        "colab_type": "code",
        "colab": {
          "base_uri": "https://localhost:8080/",
          "height": 629
        },
        "outputId": "65e9d8bb-adfe-4197-afcf-f37b96682d3e"
      },
      "source": [
        "print(max(classifier_tfidf.estimators_[0].coef_[0]))\n",
        "print(np.sort(classifier_tfidf.estimators_[0].coef_[0])[(6311-5):6311])\n",
        "coeffmax5 = np.sort(classifier_tfidf.estimators_[0].coef_[0])[(6311-5):6311]\n",
        "coeff = classifier_tfidf.estimators_[0].coef_[0]\n",
        "print(coeffmax5[0])\n",
        "for i in range(0,5):\n",
        "  ind = np.where(coeff== coeffmax5[i] )[0][0]\n",
        "  print(ind)\n",
        "  print(coeff[ind])\n",
        "  print(tfidf_reversed_vocab[ind])\n",
        "\n",
        "\n",
        "print(np.sort(classifier_tfidf.estimators_[0].coef_[0])[0:5])\n",
        "coeffmin5 = np.sort(classifier_tfidf.estimators_[0].coef_[0])[0:5]\n",
        "coeff = classifier_tfidf.estimators_[0].coef_[0]\n",
        "print(coeffmin5[0])\n",
        "for i in range(0,5):\n",
        "  ind = np.where(coeff== coeffmin5[i] )[0][0]\n",
        "  print(ind)\n",
        "  print(coeff[ind])\n",
        "  print(tfidf_reversed_vocab[ind])\n",
        "\n",
        "coeff[5448]\n",
        "#np.where(classifier_tfidf.estimators_[0].coef_[0]==np.sort(abs(classifier_tfidf.estimators_[0].coef_[0]))[(6311-5):6311]"
      ],
      "execution_count": 303,
      "outputs": [
        {
          "output_type": "stream",
          "text": [
            "13.038464500726022\n",
            "[ 7.84962801  8.29562358  8.36370926  8.65395788 13.0384645 ]\n",
            "7.849628009601261\n",
            "5064\n",
            "7.849628009601261\n",
            "simultaneous\n",
            "3969\n",
            "8.295623583089919\n",
            "payments\n",
            "3598\n",
            "8.363709257706809\n",
            "net\n",
            "5122\n",
            "8.65395787665017\n",
            "snippet\n",
            "3601\n",
            "13.038464500726022\n",
            "nets\n",
            "[-20.62073783 -15.17795502 -14.13172727 -12.1418549  -11.78027143]\n",
            "-20.62073783142566\n",
            "4346\n",
            "-20.62073783142566\n",
            "python\n",
            "1627\n",
            "-15.177955017538594\n",
            "django\n",
            "4019\n",
            "-14.131727274317951\n",
            "php\n",
            "5448\n",
            "-12.141854899399021\n",
            "swift\n",
            "1735\n",
            "-11.780271428347477\n",
            "eclipse\n"
          ],
          "name": "stdout"
        },
        {
          "output_type": "execute_result",
          "data": {
            "text/plain": [
              "-12.141854899399021"
            ]
          },
          "metadata": {
            "tags": []
          },
          "execution_count": 303
        }
      ]
    },
    {
      "cell_type": "code",
      "metadata": {
        "id": "Tl6SsE1r-VPx",
        "colab_type": "code",
        "colab": {
          "base_uri": "https://localhost:8080/",
          "height": 105
        },
        "outputId": "0651d354-61d9-4e76-fbb4-c71bfc53a0c4"
      },
      "source": [
        "print(tfidf_vocab)\n",
        "print(tfidf_reversed_vocab)\n",
        "print(mlb.classes)\n",
        "print(len(mlb.classes))"
      ],
      "execution_count": 256,
      "outputs": [
        {
          "output_type": "stream",
          "text": [
            "{'draw': 1677, 'stacked': 5231, 'r': 4394, 'mysql': 3545, 'select': 4901, 'records': 4492, 'datetime': 1386, 'field': 2034, 'less': 3070, 'specified': 5178, 'value': 5979, 'terminate': 5555, 'windows': 6181, 'phone': 4014, '81': 139, 'app': 373, 'get': 2260, 'current': 1320, 'time': 5623, 'specific': 5175, 'country': 1255, 'via': 6017, 'jquery': 2929, 'configuring': 1134, 'tomcat': 5661, 'use': 5942, 'ssl': 5227, 'awesome': 546, 'nested': 3596, 'set': 4977, 'plugin': 4089, 'add': 230, 'new': 3607, 'children': 905, 'tree': 5718, 'various': 5990, 'levels': 3075, 'create': 1275, 'map': 3280, 'json': 2942, 'response': 4670, 'ruby': 4768, 'rails': 4403, '3': 77, 'rspec': 4763, 'test': 5560, 'method': 3384, 'called': 784, 'springboot': 5197, 'lifecycle': 3085, 'exception': 1897, 'import': 2596, 'data': 1352, 'excel': 1895, 'database': 1354, 'using': 5954, 'php': 4019, 'obtaining': 3747, 'object': 3731, 'parameterized': 3926, 'type': 5770, 'without': 6194, 'constructing': 1171, 'class': 930, 'ipad': 2800, 'selecting': 4910, 'text': 5565, 'inside': 2704, 'input': 2693, 'tap': 5521, 'jquerys': 2932, 'function': 2208, 'eclipse': 1735, 'c++': 760, 'mingw': 3403, 'program': 4262, 'terminated': 5556, 'javascript': 2881, 'call': 779, 'one': 3782, 'prototype': 4296, 'another': 351, 'intersection': 2769, 'list': 3117, 'sets': 4983, 'longer': 3196, 'able': 162, 'hide': 2441, 'keyboard': 2982, 'ios7': 2796, 'fetch': 2025, 'key': 2981, 'swift': 5448, 'change': 873, 'pivot': 4060, 'header': 2418, 'template': 5544, '8': 137, 'connectionstring': 1149, 'encryption': 1803, 'let': 3071, 'ui': 5786, 'refresh': 4538, 'long': 3195, 'running': 4777, 'operation': 3820, 'better': 625, 'way': 6091, 'execute': 1907, 'file': 2039, 'python': 4346, 'console': 1157, 'output': 3866, 'run': 4774, 'make': 3253, '2': 48, 'thumbnails': 5615, 'codeigniter': 1001, 'java': 2850, 'character': 880, 'vs': 6062, 'char': 879, 'memory': 3359, 'usage': 5940, 'bootstrap': 684, 'modal': 3433, 'close': 976, 'enter': 1822, 'press': 4199, 'linq': 3112, 'query': 4376, 'group': 2348, 'retrieving': 4700, 'percentage': 3983, 'label': 3012, 'issue': 2816, 'openerp': 3804, 'keep': 2973, 'objects': 3739, 'view': 6022, 'scaling': 4818, 'axis': 551, 'attributeerror': 500, 'nonetype': 3652, 'attribute': 499, 'split': 5191, 'append': 381, 'mat': 3311, 'replace': 4607, 'onclick': 3778, 'redirect': 4509, 'programme': 4266, 'accesscontrolalloworigin': 181, 'present': 4194, 'requested': 4631, 'resource': 4662, 'error': 1855, 'creating': 1280, 'c#': 757, 'cannot': 798, 'implicitly': 2594, 'convert': 1216, 'string': 5315, 'django': 1627, 'modelform': 3438, 'show': 5023, 'div': 1620, 'slide': 5096, 'avoid': 540, 'busy': 746, 'laravel': 3022, '4': 99, 'returns': 4708, 'ajax': 273, 'post': 4146, 'handle': 2385, 'year': 6282, 'retrofit': 4703, 'singleton': 5070, 'gson': 2357, 'cpp': 1263, 'mfc': 3387, 'copying': 1229, 'web': 6096, 'reference': 4526, 'project': 4273, 'top': 5671, 'five': 2093, 'insert': 2699, 'index': 2634, 'apache': 364, 'poi': 4097, 'page': 3898, 'format': 2154, 'worksheet': 6212, 'tkinter': 5646, 'progress': 4270, 'bar': 580, 'store': 5290, 'image': 2575, 'path': 3960, 'jdbc': 2895, 'connection': 1147, 'associated': 474, 'managed': 3262, 'multiple': 3519, 'tables': 5506, 'model': 3436, 'yii2': 6290, 'controller': 1208, 'names': 3565, 'aspnet': 455, 'mvc4': 3540, 'casting': 834, 'integer': 2729, 'array': 426, 'getting': 2276, 'uploading': 5923, 'clear': 950, 'methods': 3385, 'printing': 4228, 'floats': 2112, 'number': 3716, 'zeros': 6300, 'simple': 5051, 'c': 756, 'network': 3603, 'o': 3725, 'library': 3081, 'usr': 5955, 'bin': 636, 'instead': 2722, 'local': 3153, 'bitmap': 649, 'binary': 637, 'operations': 3821, 'default': 1438, 'mail': 3241, 'working': 6210, 'entity': 1828, 'framework': 2178, 'distinct': 1615, 'extjs': 1969, 'checked': 893, 'nodes': 3642, 'submit': 5374, 'lists': 3130, 'element': 1767, 'pass': 3949, 'values': 5981, 'html': 2490, 'information': 2660, 'dictionary': 1548, 'slidetoggle': 5100, 'display': 1605, 'created': 1276, 'opencv': 3801, 'android': 334, 'instantiating': 2719, 'namespace': 3566, 'wpf': 6220, 'screen': 4849, 'resolution': 4657, 'content': 1188, 'static': 5257, 'table': 5505, 'cell': 852, 'displayed': 1606, 'ios': 2793, '9': 141, 'best': 623, 'autocomplete': 514, 'suggest': 5413, 'algorithm': 281, 'datastructure': 1374, 'backbone': 558, 'modelsave': 3440, 'sending': 4928, 'put': 4329, 'redirects': 4515, 'given': 2285, 'session': 4973, 'chrome': 914, 'mvc': 3537, 'razor': 4433, 'missing': 3417, 'collections': 1017, 'form': 2148, 'date': 1382, 'ddmmyyyy': 1405, 'style': 5349, 'dynamically': 1718, 'linkbutton': 3105, 'affecting': 262, 'others': 3856, 'check': 888, 'point': 4098, 'line': 3097, 'client': 963, 'request': 4628, 'fails': 1997, 'timeout': 5627, 'simultaneously': 5065, 'acquire': 199, 'update': 5912, 'graph': 2327, 'matplotlib': 3322, 'datatable': 1375, 'inner': 2690, 'join': 2917, 'dynamic': 1715, 'columns': 1029, 'correct': 1236, 'adapter': 228, 'pattern': 3962, 'objective': 3735, 'save': 4803, 'folder': 2122, 'ignore': 2563, 'rows': 4758, 'sorting': 5156, 'dom': 1652, 'angular': 337, 'directive': 1576, 'rectangles': 4497, 'next': 3617, 'parameters': 3928, 'url': 5931, 'zend': 6297, 'inheritance': 2663, 'access': 180, 'problem': 4238, 'valueerror': 5980, 'match': 3312, 'passing': 3953, 'sockets': 5134, 'child': 903, 'deserializing': 1499, 'xml': 6257, 'version': 6009, 'application': 395, 'executable': 1905, 'contains': 1187, 'unsupported': 5904, 'architecture': 410, 'i386': 2525, 'com': 1031, 'urlopen': 5935, 'errno': 1854, '10061': 20, 'unique': 5865, 'combination': 1032, 'bind': 638, 'drop': 1691, 'first': 2088, 'ddl': 1404, '31': 83, 'encrypted': 1801, 'gem': 2238, 'clause': 943, 'fields': 2035, 'hack': 2379, 'google': 2307, 'maps': 3288, 'api': 368, 'generate': 2243, 'city': 926, 'state': 5252, 'name': 3562, 'unknown': 5874, 'target': 5523, 'property': 4284, 'applet': 392, 'mac': 3230, 'os': 3851, 'latitude': 3034, 'longitude': 3198, 'mouseout': 3479, 'listener': 3123, 'wordpress': 6201, 'find': 2067, 'row': 4756, 'quickly': 4387, 'iphone': 2802, 'command': 1043, 'terminal': 5554, 'return': 4705, 'matrix': 3324, 'need': 3589, 'transpose': 5710, 'attach': 486, 'dataframe': 1360, 'parent': 3931, 'programmatically': 4265, 'd3': 1342, 'js': 2936, 'tick': 5617, 'spacing': 5165, 'gets': 2273, 'messed': 3377, 'month': 3469, 'boundary': 694, 'hash': 2405, 'user': 5946, 'fit': 2090, 'needs': 3591, 'serializing': 4957, 'automatically': 527, 'install': 2708, 'firefox': 2084, 'navbar': 3576, 'auto': 512, 'layout': 3041, 'constraints': 1168, 'interactive': 2746, 'interface': 2751, 'builder': 733, 'kill': 2994, 'process': 4244, 'system': 5475, 'shell': 5008, 'setting': 4988, 'timezone': 5637, 'cant': 800, 'recent': 4475, 'facebook': 1980, 'help': 2429, 'dialog': 1542, 'event': 1875, 'load': 3147, 'browsers': 721, 'intellij': 2738, 'constant': 1162, 'expression': 1956, 'required': 4639, 'case': 828, 'dropdown': 1693, 'based': 587, 'entries': 1832, 'wont': 6198, 'work': 6203, 'machine': 3231, 'pyqt': 4341, 'addeventlistener': 233, 'send': 4926, 'thread': 5596, 'focus': 2120, 'listviewitem': 3134, 'documentgetelementbyid': 1644, 'innerhtml': 2691, 'ie8': 2553, 'efficient': 1755, 'int': 2725, 'inverse': 2780, 'edit': 1740, 'txt': 5769, 'conditionally': 1124, 'filter': 2060, 'iqueryable': 2808, 'generic': 2250, 'repository': 4622, 'invalid': 2776, 'indirect': 2648, 'trying': 5747, 'record': 4490, 'sql': 5207, 'password': 3955, 'prompt': 4278, 'regex': 4545, 'needed': 3590, 'play': 4077, 'videos': 6021, 'website': 6125, 'reading': 4454, 'stdin': 5269, 'blocking': 664, 'video': 6020, 'old': 3772, 'rest': 4675, 'comma': 1042, 'separated': 4938, 'collection': 1015, 'spring': 5196, 'checking': 896, 'member': 3354, 'struct': 5335, 'gridview': 2346, 'export': 1949, 'tinymce': 5640, 'player': 4080, 'media': 3348, 'splash': 5189, 'accepts': 176, 'csv': 1310, 'stringsplit': 5323, 'due': 1704, 'blank': 657, 'li': 3077, 'ngmodel': 3626, 'start': 5246, 'blackberry': 655, 'programming': 4268, 'searching': 4876, 'sdk': 4869, 'quick': 4385, 'directory': 1580, 'column': 1028, 'odd': 3763, 'even': 1873, 'numbers': 3718, 'threads': 5602, 'alternatives': 316, 'projects': 4275, 'similar': 5049, 'joomla': 2921, 'drupal': 1700, 'assign': 467, 'variable': 5987, 'properties': 4283, 'accessing': 185, 'global': 2290, 'onclicklistener': 3779, 'argument': 418, 'uml': 5830, 'preg_replace': 4184, 'curly': 1318, 'brackets': 704, '323': 88, 'bundler': 742, 'could': 1248, 'compatible': 1071, 'versions': 6011, 'exe': 1903, 'junit': 2961, 'report': 4617, 'task': 5526, 'facebooks': 1981, 'sms': 5117, 'broadcast': 716, 'receiver': 4472, 'takes': 5518, 'highest': 2450, 'priority': 4232, 'reboot': 4467, 'length': 3067, '0': 9, 'bypass': 751, 'clientside': 967, 'validation': 5975, 'rvm': 4786, 'installation': 2709, 'ubuntu': 5784, 'trigger': 5730, 'carousel': 819, 'proxy': 4306, 'configuration': 1130, 'unable': 5831, 'redirecttoaction': 4516, 'iterators': 2831, 'incompatible': 2619, 'destruction': 1510, 'dependent': 1476, 'constructor': 1173, 'bad': 574, 'symfony2': 5460, 'forms': 2163, 'options': 3834, 'notfoundhttpexception': 3677, 'submission': 5373, 'handling': 2392, 'triggers': 5733, 'oracle': 3836, 'mongoose': 3463, 'callback': 782, 'well': 6144, 'updating': 5917, 'models': 3439, '5': 114, 'canvas': 801, 'issues': 2817, 'comparison': 1068, 'variables': 5988, 'pointing': 4101, 'parse': 3936, 'possible': 4144, 'jump': 2959, 'safely': 4793, 'destroy': 1508, 'window': 6174, 'wxpython': 6237, 'includes': 2615, 'systems': 5493, 'managepy': 3264, 'runserver': 4779, 'saving': 4806, 'frames': 2177, 'compilation': 1072, 'found': 2171, 'parsecom': 3937, 'libgdx': 3079, 'implementation': 2588, 'iframe': 2558, 'position': 4137, 'adding': 235, 'calculate': 772, 'correlation': 1238, 'remove': 4583, 'ones': 3784, 'pandas': 3913, 'optimizations': 3828, 'browser': 719, 'perform': 3987, 'rendered': 4592, 'denied': 1469, 'service': 4966, 'delegate': 1454, 'count': 1250, 'datagridview': 1363, 'scipy': 4838, 'build': 732, 'osx': 3855, 'ip': 2799, 'address': 239, 'mask': 3304, 'textbox': 5569, 'vbnet': 5996, 'commands': 1045, 'selected': 4905, 'codebehind': 996, 'restrict': 4682, 'jqgrid': 2928, 'textarea': 5567, 'height': 2424, 'grid': 2342, 'editor': 1745, 'serialization': 4953, 'extend': 1960, 'exceptions': 1898, 'guidelines': 2371, 'understand': 5848, 'testng': 5562, 'suite': 5417, 'configure': 1132, 'webpage': 6117, 'parameter': 3925, 'owin': 3887, 'host': 2473, 'saved': 4804, 'rake': 4410, 'errors': 1856, 'loading': 3151, 'kind': 2997, 'mutex': 3534, 'calculation': 775, 'entities': 1827, 'difference': 1556, 'cocos2dx': 994, 'lua': 3223, 'binding': 641, 'reset': 4649, 'angularjs': 339, 'verify': 6006, 'box': 698, 'clicked': 959, 'structure': 5337, 'pointer': 4099, 'dll': 1631, 'pausing': 3966, '#': 0, 'milliseconds': 3399, 'params': 3930, 'requests': 4636, 'highlighting': 2453, 'visual': 6051, 'studio': 5347, 'email': 1777, 'component': 1091, 'versus': 6012, 'phpmailer': 4025, 'cakephp': 770, 'include': 2611, 'files': 2052, 'correctly': 1237, 'development': 1530, 'uiimageview': 5799, 'size': 5079, 'n': 3560, 'seperate': 4944, 'gc': 2230, 'log': 3176, 'vm': 6055, 'server': 4962, 'fix': 2094, 'opened': 3803, 'separate': 4937, 'commas': 1046, 'quotes': 4392, 'serversocket': 4965, 'port': 4130, 'supposed': 5433, 'matching': 3315, 'reopen': 4596, 'expressions': 1957, 'void': 6057, 'main': 3246, 'grouping': 2352, 'sort': 5153, 'preserving': 4198, 'qt': 4361, 'mainwindow': 3250, 'resize': 4654, 'resized': 4655, 'dispatcher': 1604, 'ie': 2548, 'href': 2486, 'compile': 1073, 'single': 5069, 'gradle': 2322, 'code': 995, 'thats': 5583, 'sensitive': 4932, 'curl': 1317, 'rectangle': 4496, 'pygame': 4337, 'moves': 3487, 'mouse': 3475, 'location': 3167, 'naming': 3569, 'conventions': 1213, 'populate': 4125, 'second': 4878, 'installing': 2712, 'gives': 2286, 'render': 4591, 'openxml': 3815, 'spreadsheet': 5194, 'objectivec': 3736, 'used': 5943, 'words': 6202, 'nsstring': 3701, 'generics': 2251, 'wildcard': 6167, 'define': 1443, 'vector': 6000, 'undefined': 5841, 'switch': 5453, 'eval': 1868, 'generator': 2248, 'services': 4967, 'implement': 2587, 'animation': 344, 'jpa': 2922, 'backend': 561, 'changes': 875, 'asynchronously': 483, 'subdomain': 5365, 'creation': 1281, 'linux': 3115, 'preg_match': 4183, 'strings': 5322, 'open': 3798, 'source': 5160, 'computation': 1102, 'null': 3711, 'float': 2110, 'jframe': 2902, 'basic': 589, 'shapes': 5001, 'regular': 4554, 'detect': 1517, 'volume': 6060, 'changed': 874, 'horizontal': 2471, 'slider': 5097, '100': 18, 'width': 6162, 'images': 2579, 'serial': 4951, 'print': 4222, 'arduino': 412, 'checkbox': 889, 'outofmemory': 3863, 'instance': 2713, 'deploy': 1479, 'clickonce': 961, 'signing': 5043, '2d': 72, 'clickable': 958, 'created_at': 1277, 'shopping': 5015, 'cart': 824, 'item': 2820, 'added': 232, 'compiler': 1075, 'declared': 1423, 'yet': 6286, 'visible': 6045, 'replacement': 4610, 'net': 3598, 'apps': 405, 'npm': 3685, '+': 8, 'mocha': 3425, 'watch': 6086, 'accurately': 196, 'watching': 6087, 'stl': 5282, 'prevents': 4209, 'strict': 5314, 'clock': 972, 'overloading': 3879, 'optional': 3833, 'tuples': 5751, 'statements': 5255, 'tomcat7': 5662, 'shows': 5027, 'inactive': 2607, 'users': 5952, 'manager': 3265, 'backbonejs': 559, 'elements': 1768, 'fired': 2083, 'views': 6035, 'remote': 4580, 'notification': 3680, 'launch': 3035, 'background': 562, 'proper': 4281, 'completion': 1087, 'vim': 6038, 'mobile': 3424, 'didnt': 1551, 'runtime': 4780, 'weird': 6141, 'moq': 3473, 'nil': 3634, 'combine': 1034, 'plot': 4086, 'read': 4449, 'nomethoderror': 3644, 'nilnilclass': 3635, 'jbutton': 2892, 'actionlistener': 206, 'producing': 4253, 'several': 4993, 'security': 4887, 'catching': 839, 'fullscreen': 2204, 'seems': 4893, 'parallel': 3922, 'prime': 4218, 'duplicating': 1712, 'script': 4852, 'cli': 956, 'tuple': 5750, 'tabs': 5511, 'handler': 2389, 'examples': 1890, 'custom': 1326, 'soft': 5135, 'panel': 3915, 'windowsce': 6184, '60': 129, 'exec': 1904, 'status': 5263, 'realtime': 4463, 'lookup': 3203, 'twitter': 5764, 'followers': 2126, 'looking': 3201, 'day': 1392, 'calendar': 778, 'three': 5605, 'sprite': 5203, 'huge': 2515, 'leak': 3051, 'many': 3275, 'relationships': 4565, 'eloquent': 1773, 'write': 6226, 'encoding': 1797, 'utf8': 5958, 'storing': 5293, '2dimensional': 73, 'sqlite': 5215, 'hibernate': 2438, 'gwt': 2374, 'grab': 2316, 'svg': 5441, 'routing': 4755, 'plain': 4072, 'typescript': 5779, 'standard': 5241, 'hangs': 2397, 'runs': 4778, 'textfield': 5574, 'listening': 3125, 'socket': 5130, 'phpfpm': 4023, 'rotating': 4744, 'threaded': 5597, 'cpu': 1265, 'systemstring': 5495, 'complex': 1088, 'must': 3532, 'zero': 6298, 'testing': 5561, 'internationalization': 2758, '2nd': 75, 'httpwebrequest': 2513, 'obj': 3729, 'rendering': 4594, 'cause': 844, 'di': 1536, 'nginx': 3625, 'flask': 2101, 'receiving': 4474, 'space': 5163, 'byte': 753, 'boolean': 679, 'pip': 4053, '25': 67, 'module': 3450, 'suffix': 5412, 'certain': 861, 'substring': 5396, 'md5': 3337, 'nsurl': 3705, 'decimals': 1418, 'ffmpeg': 2030, 'upto': 5929, '32': 86, 'unexpected': 5852, 'token': 5657, 'connecting': 1146, 'ant': 355, 'failed': 1995, 'construct': 1169, 'symfony': 5459, '14': 34, 'domain': 1653, 'currently': 1322, 'logged': 3181, 'initialize': 2674, 'double': 1661, 'xpath': 6268, '10': 17, 'codec': 998, 'decode': 1426, 'uninitialized': 5861, 'equivalent': 1849, 'vb': 5993, 'left': 3060, 'stdout': 5272, 'much': 3506, 'slower': 5105, 'manually': 3274, 'stage': 5236, 'e': 1721, 'dict': 1546, 'returning': 4707, 'enumeration': 1836, 'powershell': 4160, 'resolved': 4659, 'compression': 1101, 'loop': 3204, 'winform': 6187, 'timers': 5631, 'notify': 3683, 'timer': 5630, 'raised': 4407, 'maximize': 3330, 'echo': 1733, 'statment': 5261, 'pdf': 3972, 'major': 3251, 'search': 4873, 'combo': 1037, 'classes': 933, 'sublime': 5370, 'datagrid': 1362, 'button': 747, 'two': 5766, 'paste': 3958, 'ie10': 2549, 'syntax': 5469, 'end': 1804, 'public': 4313, 'step': 5278, 'histograms': 2456, 'ggplot2': 2278, 'admin': 245, 'menu': 3362, 'whats': 6147, 'right': 4725, 'connect': 1144, 'microsoft': 3388, '2007': 54, 'boot': 683, 'respond': 4666, 'instanceof': 2714, 'allow': 295, 'empty': 1785, 'body': 673, 'statement': 5254, 'foo': 2133, 'canonical': 799, 'transmit': 5706, 'protocol': 4294, 'buffers': 730, 'uiwebview': 5825, 'identify': 2538, 'last': 3026, 'message': 3371, 'rcp': 4436, 'job': 2912, 'finished': 2076, 'patch': 3959, 'extension': 1964, 'tostring': 5673, 'upload': 5920, 'back': 557, 'contents': 1191, 'nice': 3633, 'kendo': 2976, 'widget': 6160, '2003': 52, 'relationship': 4564, 'icon': 2529, 'sizes': 5083, 'expected': 1931, 'got': 2312, 'true': 5739, 'range': 4417, 'control': 1207, 'linker': 3109, 'compiling': 1079, 'simulator': 5063, 'symbols': 5458, 'meta': 3380, 'indexphp': 2643, 'refreshing': 4540, 'prepared': 4188, 'constraint': 1167, 'within': 6193, 'sqlalchemy': 5208, 'detected': 1518, 'recursive': 4501, 'handlers': 2390, 'overriding': 3883, 'onload': 3790, 'faster': 2011, 'determine': 1521, 'temp': 5542, 'please': 4084, 'specify': 5180, 'disabling': 1586, 'click': 957, 'prevent': 4206, 'enabling': 1790, 'duplicate': 1709, 'fixed': 2095, 'recommended': 4486, 'high': 2446, 'traffic': 5685, 'dojo': 1650, 'switching': 5455, 'editable': 1741, 'logout': 3191, 'authentication': 508, 'groups': 2353, '1': 16, 'buffer': 726, 'strategy': 5301, 'login': 3186, 'react': 4444, 'es6': 1858, 'lines': 3101, 'imshow': 2605, 'zoom': 6308, 'onsubmit': 3793, 'ternary': 5559, 'operator': 3822, 'javalangnoclassdeffounderror': 2866, 'org': 3842, 'axis2': 552, 'speech': 5182, 'recognition': 4479, 'ckeditor': 927, 'disadvantages': 1587, 'making': 3257, 'serializable': 4952, 'catch': 838, 'divide': 1621, '2012': 58, 'derived': 1487, 'arraylist': 429, 'non': 3645, 'calling': 786, 'scope': 4839, 'vs2008': 6063, 'device': 1533, 'argv': 421, 'frame': 2176, 'rstudio': 4765, 'shared': 5003, 'transaction': 5690, 'aborted': 164, 'persist': 4004, 'mean': 3340, 'decimal': 1417, 'see': 4888, 'characters': 881, 'mathrandom': 3319, 'random': 4414, 'ints': 2775, 'sessions': 4976, 'enum': 1834, 'nslog': 3693, 'messages': 3374, 'leaks': 3053, 'exact': 1887, 'regexp': 4546, 'pagination': 3903, 'filtering': 2062, 'migrating': 3394, 'article': 435, '3x': 98, 'initializing': 2679, 'nsarray': 3686, 'keys': 2988, 'causes': 846, '500': 116, 'tolist': 5659, 'take': 5516, 'generates': 2245, 'sinatra': 5066, 'computer': 1105, 'quartz': 4374, 'returned': 4706, '255': 68, 'blocks': 665, 'yii': 6289, 'resizing': 4656, 'workspace': 6213, 'rename': 4589, 'marshall': 3302, 'jaxws': 2890, 'jaxb': 2888, 'tag': 5512, 'link': 3102, '3d': 96, 'initialization': 2673, 'conversion': 1214, 'thrown': 5611, 'violation': 6040, 'incorrect': 2622, '_post': 155, 'font': 2129, 'uilabel': 5800, 'concatenate': 1109, 'inputs': 2694, 'radio': 4399, 'hidden': 2440, 'win32': 6171, 'side': 5032, 'bit': 648, 'rate': 4426, 'avplayer': 542, 'http': 2496, 'live': 3139, 'audio': 502, 'streaming': 5307, 'showing': 5025, 'merging': 3369, 'datasets': 1370, 'common': 1052, 'integration': 2735, 'container': 1184, 'centering': 857, 'fitting': 2092, 'angular2': 338, 'driver': 1687, 'yaxis': 6281, 'intersect': 2768, 'xaxis': 6248, 'playframework': 4081, 'deadlock': 1408, 'postgresql': 4151, 'merge': 3367, 'factory': 1988, 'deserialize': 1497, 'compare': 1064, 'html5': 2491, 'drag': 1674, 'events': 1878, 'fires': 2085, 'validate': 5972, 'download': 1667, 'title': 5644, 'recording': 4491, 'stream': 5305, 'enable': 1788, 'area': 413, 'controls': 1211, 'adjusting': 244, 'automatic': 526, 'textboxes': 5570, 'javafx': 2857, '22': 63, 'referencing': 4530, '2010': 56, 'jsonnet': 2947, 'serialize': 4954, 'works': 6211, 'fine': 2073, 'parsing': 3941, 'sequence': 4947, 'gaps': 2224, 'posting': 4152, 'unchecked': 5839, 'checkboxes': 890, 'programatically': 4263, 'uiimage': 5796, 'uiview': 5821, 'winforms': 6188, 'free': 2181, '2013': 59, 'caching': 767, 'older': 3773, 'threejs': 5606, 'mesh': 3370, 'light': 3088, 'loads': 3152, 'extern': 1966, 'uncheck': 5838, 'swing': 5450, 'popup': 4128, 'losing': 3209, 'localstorage': 3162, 'nodejs': 3641, 'tell': 5540, 'rs': 4761, 'marks': 3299, 'still': 5281, 'vertical': 6014, 'redirection': 4514, 'extract': 1972, 'minus': 3411, 'sign': 5035, 'site': 5074, 'jar': 2844, 'jsp': 2954, 'mysql2': 3546, '187': 41, '106': 23, 'applied': 400, 'operands': 3818, 'xcode': 6249, '7': 133, 'randomly': 4416, 'apostrophe': 372, 'changing': 876, 'css': 1307, 'separately': 4939, 'dont': 1656, 'go': 2300, 'beyond': 626, 'gmail': 2296, 'contacts': 1181, 'oauth': 3726, 'windowonload': 6178, 'ie7': 2552, 'minimum': 3409, 'maximum': 3332, 'owner': 3888, 'hex': 2433, 'native': 3573, 'fixing': 2096, 'private': 4234, 'accessor': 186, 'trouble': 5736, 'patterns': 3963, 'wicket': 6158, 'bean': 596, 'inmemory': 2689, 'info': 2659, 'javalangoutofmemoryerror': 2871, 'heap': 2422, 'complete': 1083, 'updated': 5914, 'tab': 5500, 'chat': 887, 'bring': 714, 'human': 2516, 'readable': 4451, 'multi': 3509, 'declare': 1422, 'scripts': 4854, 'javalangclasscastexception': 2861, 'cast': 833, 'combobox': 1038, 'copy': 1228, 'allocated': 292, 'moving': 3489, 'scroll': 4855, 'writing': 6230, 'masked': 3305, 'disk': 1599, 'png': 4093, 'core': 1231, 'interest': 2750, 'postback': 4147, 'doesnt': 1649, 'encrypt': 1800, 'iterate': 2825, 'lambda': 3015, 'equation': 1847, 'batch': 593, 'calls': 789, 'x': 6239, 'seconds': 4880, 'give': 2284, 'always': 318, 'false': 2003, 'wcf': 6093, 'const': 1161, 'lpcwstr': 3220, 'defined': 1444, 'ok': 3771, 'unicodeencodeerror': 5860, 'grant': 2326, 'malformed': 3258, 'azure': 554, 'ad': 226, 'pin': 4050, 'smtp': 5118, 'pojos': 4104, 'definition': 1447, 'cmd': 988, 'jars': 2845, 'relative': 4566, 'mode': 3435, 'properly': 4282, 'safari': 4791, 'arrow': 433, 'captcha': 810, 'webbrowser': 6101, 'picturebox': 4041, 'viewport': 6034, 'absolute': 166, 'addresses': 240, 'permitted': 4000, 'limited': 3094, 'nunit': 3723, 'javaioioexception': 2859, 'gui': 2367, 'good': 2306, 'linking': 3110, 'support': 5429, 'adonet': 251, 'swf': 5447, 'sandbox': 4800, 'subtract': 5398, 'keeps': 2975, 'pointers': 4100, 'arrays': 432, 'groupby': 2350, 'partial': 3943, 'gray': 2334, 'overlay': 3876, 'uibutton': 5790, 'knowing': 3006, 'sub': 5355, 'vectors': 6001, 'uncaught': 5837, 'typeerror': 5775, 'iis': 2567, 'types': 5778, 'probability': 4236, 'small': 5109, 'v': 5964, 'big': 628, 'color': 1022, 'associative': 477, 'action': 203, 'route': 4749, 'attributes': 501, 'keeping': 2974, 'assembly': 460, 'xaml': 6246, 'powerpoint': 4159, 'designer': 1502, 'vsto': 6067, 'bound': 692, 'sqldatasource': 5213, 'concat': 1108, 'result': 4688, 'executing': 1912, 'windowprint': 6180, 'logger': 3182, 'clicking': 960, 'hyperlink': 2519, 'dates': 1385, 'comment': 1048, 'root': 4739, 'whole': 6156, 'debugging': 1416, 'scheduled': 4830, 'special': 5173, 'replaced': 4609, 'xls': 6255, 'webview': 6132, 'apply': 401, 'realm': 4462, 'latest': 3030, 'inserted': 2700, 'categorical': 840, 'features': 2019, 'uitableviewcontroller': 5817, 'nsdictionary': 3690, 'registration': 4551, 'zip': 6303, 'giving': 2287, 'mix': 3419, 'break': 707, 'activity': 223, 'modules': 3452, 'requirejs': 4640, 'physical': 4034, 'overrides': 3882, '40': 100, 'httpclient': 2498, 'alternative': 315, 'webapi': 6097, 'track': 5683, 'pages': 3901, 'speed': 5183, 'automapper': 523, 'mapping': 3285, 'dbnull': 1400, 'invisible': 2781, 'ie9': 2554, 'bug': 731, 'joda': 2915, 'param': 3924, 'semantic': 4923, 'grammar': 2324, 'immediately': 2584, 'mailbox': 3242, 'pythonic': 4348, 'bool': 678, 'elasticsearch': 1764, 'times': 5632, 'logging': 3183, 'magento': 3239, 'unit': 5867, 'jackson': 2841, 'deserialization': 1496, 'linked': 3106, 'nsuserdefaults': 3708, 'starting': 5248, 'foreach': 2140, 'override': 3881, 'iterating': 2826, 'ifelse': 2557, 'thousand': 5594, 'separator': 4942, 'highcharts': 2448, 'sparse': 5170, 'preview': 4210, 'office': 3766, 'storyboard': 5294, 'nonzero': 3664, 'disappear': 1590, 'develop': 1525, 'groovy': 2347, 'duplicates': 1711, 'else': 1774, 'online': 3789, 'stored': 5291, 'procedure': 4241, 'firebird': 2081, 'pdo': 3975, 'localhost': 3155, 'pictures': 4042, 'gif': 2279, 'jpeg': 2926, 'datareader': 1366, 'locale': 3154, 'skip': 5084, 'orderby': 3838, 'spark': 5169, 'direct': 1572, 'cygwin': 1339, 'performance': 3988, 'jsf': 2940, 'ids': 2547, 'swapping': 5446, 'linkedlist': 3108, 'settimeout': 4987, 'fn': 2119, 'universal': 5872, 'serverside': 4964, 'accurate': 195, 'collision': 1020, 'detection': 1520, 'word': 6200, 'doc': 1635, 'plist': 4085, 'devise': 1535, 'jfreechart': 2903, 'jpanel': 2924, 'generated': 2244, 'netbeans': 3599, 'level': 3074, 'letter': 3072, 'yes': 6284, 'lazy': 3043, 'music': 3531, 'ipod': 2804, 'touch': 5677, 'pc': 3971, 'styles': 5351, 'attached': 487, 'hover': 2480, 'pseudo': 4307, 'firebug': 2082, 'debugger': 1415, 'applicationproperties': 398, 'production': 4255, 'dealing': 1410, 'underlying': 5843, 'provider': 4302, 'internally': 2756, 'src': 5223, 'phpini': 4024, 'mockito': 3429, 'injecting': 2684, 'mock': 3426, 'textblock': 5568, 'margin': 3290, 'linqtoentities': 3113, 'creator': 1282, 'raphael': 4422, 'alphabetic': 304, 'accent': 169, 'chart': 884, 'every': 1881, 'iterations': 2828, 'logic': 3184, 'unrecognized': 5893, 'plotting': 4088, 'monthly': 3470, 'ggplot': 2277, 'external': 1967, 'remaining': 4578, 'days': 1394, 'till': 5622, 'node': 3640, 'charts': 886, 'graphs': 2332, 'something': 5147, 'declares': 1424, 'wrap': 6221, 'relation': 4561, 'exist': 1917, 'different': 1558, 'particular': 3946, 'account': 192, 'alphabetical': 305, 'order': 3837, '30': 78, 'rdlc': 4439, 'documents': 1646, 'stop': 5285, 'wrong': 6232, 'uint32': 5803, 'unsigned': 5900, 'textview': 5580, 'im': 2574, 'invoke': 2784, 'ionic': 2792, 'span': 5167, 'threadsafe': 5603, 'started': 5247, 'stack': 5230, 'sum': 5418, 'happens': 2400, 'waiting': 6075, 'd3js': 1343, 'sibling': 5031, 'self': 4920, 'triggered': 5731, 'aurelia': 503, 'datatables': 1376, 'dependency': 1474, 'injection': 2685, 'inject': 2682, 'transactions': 5692, 'opengl': 3806, 'alpha': 302, 'migrate': 3393, 'existing': 1919, 'cms': 990, 'like': 3091, 'neither': 3593, 'queries': 4375, 'smooth': 5114, 'uitextview': 5819, 'bottom': 690, 'mongodb': 3461, 'passportjs': 3954, 'username': 5951, 'selection': 4911, 'tests': 5563, 'idea': 2533, '13': 33, 'recursively': 4502, 'modify': 3448, 'want': 6078, 'pdfs': 3974, 'phpunit': 4030, 'coverage': 1260, 'corrupted': 1242, 'segmentation': 4898, 'fault': 2015, '11': 25, 'hashmap': 2409, 'jstl': 2955, 'entry': 1833, 'mysql_query': 3551, 'mysql_fetch_array': 3549, 'cluster': 985, 'numpy': 3721, 'ninject': 3636, 'identity': 2540, 'defer': 1441, 'reader': 4452, 'installed': 2710, 'easiest': 1728, 'consumer': 1177, 'webservice': 6123, 'traversal': 5712, 'iterative': 2829, 'templates': 5547, 'polymorphism': 4114, 'immediate': 2583, 'mvc3': 3539, 'async': 481, 'handled': 2388, 'fatal': 2013, 'nonobject': 3660, 'jtextfield': 2957, 'assertion': 462, 'share': 5002, 'id': 2531, 'rails3': 4404, 'jdk': 2897, 'fragment': 2174, 'activemq': 218, 'stops': 5288, 'queue': 4383, 'mysqlsock': 3558, 'recognize': 4480, 'mamp': 3260, 'circular': 924, 'references': 4529, 'warnings': 6084, 'caused': 845, 'forward': 2168, 'declarations': 1421, 'digits': 1566, 'places': 4070, 'infinite': 2655, 'getter': 2274, 'setter': 4984, 'uitableview': 5814, 'past': 3957, 'relational': 4562, 'procedures': 4242, 'practice': 4163, 'libraries': 3080, 'initialise': 2671, 'servlet': 4970, '__getitem__': 148, 'selenium': 4918, 'solution': 5140, 'pop': 4121, 'dialogs': 1544, 'internet': 2759, 'explorer': 1947, 'cache': 765, 'arrayadapter': 428, 'pushing': 4327, 'appengine': 386, 'bot': 688, 'crawler': 1272, 'abstract': 168, 'freeze': 2184, 'feature': 2018, 'shouldnt': 5022, 'functions': 2211, 'scikit': 4836, 'learn': 3054, 'dummy': 1705, 'grouped': 2351, 'carray': 820, 'unicode': 5858, 'equivalents': 1850, 'openid': 3807, 'pure': 4321, 'virtual': 6041, 'inline': 2687, 'bundle': 741, 'strange': 5299, 'supporting': 5431, 'crashes': 1269, 'accordion': 191, 'activate': 212, 'links': 3111, 'delete': 1457, 'affect': 260, '64': 131, 'upgrade': 5918, 'reload': 4573, 'backing': 567, '20': 49, 'attr': 497, 'triggering': 5732, 'mouseover': 3480, 'instruction': 2723, 'reduce': 4519, 'lag': 3014, 'painting': 3906, 'filename': 2046, 'occurrence': 3755, 'optimizing': 3831, 'garbage': 2225, 'uialertview': 5787, 'buttons': 750, 'subviews': 5404, 'suggestions': 5415, 'scale': 4815, 'real': 4459, 'datepicker': 1384, 'slicing': 5095, 'scrolling': 4860, 'zooming': 6309, 'timeouts': 5628, 'arithmetic': 422, 'reflection': 4537, 'modified': 3445, 'feed': 2021, 'itemssource': 2822, 'done': 1655, 'ways': 6092, 'happen': 2398, 'servlets': 4972, 'sometimes': 5148, 'transactional': 5691, 'multithreading': 3529, 'would': 6216, 'threading': 5598, 'mutually': 3536, 'independent': 2632, 'tasks': 5529, 'part': 3942, 'advantages': 256, 'distributed': 1617, 'disable': 1584, 'math': 3317, '35': 92, 'subprocesscall': 5381, 'crontab': 1290, 'aws': 547, 'performing': 3990, 'databinding': 1357, 'drawing': 1681, 'room': 4738, 'alphanumeric': 308, 'dot': 1658, 'nsdate': 3688, 'chars': 882, 'u': 5783, 'opening': 3808, 'downloading': 1670, 'rather': 4427, 'displaying': 1607, 'base': 585, 'encoded': 1794, 'actually': 225, 'pk': 4063, 'clean': 945, 'hql': 2485, 'stdmap': 5271, 'integrating': 2734, 'extensions': 1965, 'temporary': 5550, 'distinguish': 1616, '200': 50, 'ienumerablet': 2556, 'optimized': 3830, 'min': 3402, 'consolelog': 1158, 'sync': 5462, 'scraping': 4846, 'umbraco': 5829, 'nonexistent': 3653, 'desktop': 1505, 'frameworks': 2179, 'fade': 1990, 'importing': 2600, 'spec': 5172, 'war': 6081, 'uses': 5953, 'erlang': 1853, 'controllers': 1209, 'addin': 234, 'w': 6071, 'jscrollpane': 2938, 'stdthread': 5275, 'sleep': 5091, 'finding': 2071, 'converting': 1220, 'according': 189, 'culture': 1315, 'suppressing': 5435, 'warning': 6083, 'retrieve': 4698, 'photos': 4018, 'fan': 2005, 'reactjs': 4446, 'immutable': 2585, 'carrierwave': 822, 'middle': 3389, 'surrounded': 5439, 'stay': 5264, 'env': 1838, '32bit': 89, '64bit': 132, 'arent': 415, 'phonegap': 4015, 'uicollectionview': 5792, 'unwanted': 5909, '0s': 14, 'diagonally': 1539, 'becomes': 603, 'really': 4461, 'slow': 5104, 'lot': 3212, '404': 104, 'usercontrol': 5947, 'masterpage': 3310, 'unused': 5907, 'json_decode': 2943, 'nothing': 3678, 'produce': 4250, 'plots': 4087, 'chunk': 917, 'knitr': 3002, 'webdriver': 6105, 'pipe': 4054, 'cookie': 1222, 'life': 3084, 'declaration': 1420, 'malloc': 3259, 'alignment': 288, 'symbol': 5457, 'occurrences': 3756, 'computed': 1104, 'jre': 2934, 'supported': 5430, 'unless': 5875, 'acting': 202, 'crazy': 1274, 'gsub': 2359, 'dd': 1402, 'mysqldb': 3554, 'yyyymmdd': 6295, 'actual': 224, 'td': 5532, 'appending': 385, 'tutorials': 5757, 'learning': 3055, 'resources': 4663, 'valid': 5971, 'opencl': 3800, 'builds': 735, 'failing': 1996, 'arguments': 420, 'call_user_func': 780, 'emberjs': 1783, 'declaring': 1425, 'interpreter': 2764, 'hard': 2401, 'drive': 1685, 'makes': 3256, 'turn': 5752, 'pitch': 4059, 'black': 654, 'responsive': 4674, 'onmouseover': 3791, 'dump': 1706, 'prepare': 4187, 'documentcreateelement': 1643, 'struts2': 5342, 'mocking': 3428, 'nhibernate': 3631, 'profile': 4258, 'removing': 4588, 'four': 2173, 'increase': 2624, 'tableview': 5508, 'together': 5654, 'tabitem': 5504, 'logs': 3192, 'worked': 6206, 'wamp': 6077, 'docx': 1648, 'social': 5129, 'ngrepeat': 3628, 'splice': 5190, 'might': 3392, 'fail': 1994, 'results': 4690, 'closest': 979, 'series': 4959, 'broken': 717, 'bubble': 723, 'manipulate': 3269, 'cross': 1293, 'windowopen': 6179, 'wheel': 6148, 'openlayers': 3809, 'endpoints': 1810, 'conflicting': 1138, 'previous': 4212, 'remotely': 4581, 'slice': 5093, 'mysqli': 3555, 'radgrid': 4398, 'deleted': 1458, 'document': 1641, 'displays': 1609, 'ends': 1811, 'repeating': 4604, 'try': 5745, 'detached': 1513, 'posix': 4142, 'javamail': 2877, 'phps': 4027, 'plugins': 4090, 'news': 3614, 'asks': 448, 'sudo': 5410, 'cloud': 983, 'datastore': 1373, 'appium': 387, 'desired': 1504, 'launching': 3038, 'navigate': 3577, 'identifier': 2536, 'consume': 1176, 'per': 3981, 'jvm': 2965, 'upon': 5925, 'reloading': 4575, 'phantomjs': 4012, 'wall': 6076, 'reservation': 4646, 'available': 536, 'tbody': 5530, 'region': 4547, 'marionette': 3292, 'resolving': 4661, 'certification': 864, 'unittest': 5868, 'items': 2821, 'accuracy': 194, 'msi': 3501, 'installer': 2711, 'editing': 1743, 'storyboards': 5295, 'looping': 3205, 'makefile': 3254, 'submitting': 5377, 'ipython': 2807, 'panels': 3916, 'dollar': 1651, 'amount': 322, 'confusion': 1143, 'redirect_uri': 4511, 'dropbox': 1692, 'threw': 5607, 'javax': 2886, 'servletcontext': 4971, 'shortcut': 5017, 'gd': 2235, 'keypress': 2987, 'stdstring': 5274, 'comparing': 1067, 'arraylists': 430, 'rotate': 4742, 'repeated': 4601, 'extended': 1961, 'protobuf': 4293, 'containing': 1186, 'shown': 5026, 'toolkit': 5666, 'precision': 4169, 'training': 5688, '16bit': 38, 'jtable': 2956, 'border': 685, 'appear': 377, 'urls': 5936, 'wait': 6073, 'typing': 5781, 'power': 4158, 'getdata': 2266, 'mandatory': 3267, 'onclientclick': 3780, 'preventing': 4208, 'safe': 4792, 'maven': 3326, 'heroku': 2432, 'push': 4324, 'git': 2282, 'related': 4560, 'division': 1625, 'signalr': 5037, 'hub': 2514, 'negative': 3592, 'active': 215, 'navigation': 3579, 'dispose': 1610, 'streamreader': 5308, 'streamwriter': 5310, 'backgroundimage': 564, 'depending': 1477, 'timestamp': 5635, 'midnight': 3391, 'photo': 4017, 'puzzle': 4331, 'nullpointerexception': 3714, 'managing': 3266, 'primefaces': 4219, 'advantage': 255, 'conform': 1140, '1d': 45, 'figure': 2037, 'represent': 4623, 'repeater': 4603, 'jpa2': 2923, 'persisting': 4007, 'onetoone': 3786, 'bidirectional': 627, 'shadow': 4998, 'lock': 3171, 'taking': 5519, 'codeblocks': 997, 'ide': 2532, 'headers': 2419, 'lowercase': 3217, 'signal': 5036, 'unlock': 5878, 'gems': 2240, 'jsoup': 2953, 'emacs': 1776, '15': 36, 'xxx': 6275, '2015': 60, '45': 111, 'registry': 4552, 'notnull': 3684, 'transient': 5699, 'compress': 1098, 'killed': 2995, 'sharepoint': 5004, 'cancel': 794, '302': 80, 'downloads': 1671, 'primary': 4216, 'multimodule': 3516, 'setup': 4990, 'swt': 5456, 'release': 4567, 'draggable': 1675, 'restcontroller': 4678, 'itext': 2832, 'bounce': 691, 'builtin': 738, 'pool': 4118, 'throwing': 5610, 'sqlexception': 5214, 'ienumerable': 2555, 'db': 1395, 'mvvm': 3543, 'linqtosql': 3114, 'silverlight': 5048, 'modifying': 3449, 'datasource': 1371, 'apis': 369, 'front': 2196, 'picture': 4040, 'trim': 5734, 'spaces': 5164, 'members': 3355, 'colon': 1021, 'simplexml': 5054, 'coffeescript': 1007, 'youre': 6292, 'developing': 1529, '53': 123, 'eg': 1757, 'customer': 1327, 'constants': 1164, 'annotations': 349, 'schedule': 4829, 'ms': 3497, 'uirouter': 5807, 'states': 5256, 'workbook': 6205, 'ignores': 2565, 'validating': 5974, 'postfix': 4149, 'increment': 2626, 'paths': 3961, 'xy': 6277, 'args': 417, 'capture': 812, 'htmlactionlink': 2492, 'toolbar': 5664, 'incoming': 2618, 'aspx': 457, 'behind': 615, 'whether': 6151, 'macros': 3237, 'createfile': 1278, 'across': 200, 'know': 3005, 'successful': 5407, 'bytes': 755, 'refactoring': 4524, 'memorystream': 3361, 'capitalize': 808, 'efficiently': 1756, 'bigo': 634, 'clarification': 929, 'freezes': 2185, 'couple': 1257, 'minutes': 3413, 'treat': 5716, 'wchar_t': 6094, 'interop': 2760, 'underscorejs': 5846, 'isnt': 2809, 'escaping': 1861, '1204': 30, 'guava': 2364, 'block': 662, 'htmlagilitypack': 2493, 'extracting': 1973, 'promise': 4276, 'sorted': 5155, 'indexed': 2635, 'named': 3563, 'capturing': 814, 'supports': 5432, 'platforms': 4076, 'scatterplot': 4824, 'unfortunately': 5854, 'stopped': 5286, 'emulator': 1787, 'transparent': 5708, 'finally': 2066, 'websphere': 6129, 'evaluate': 1869, 'haml': 2383, 'link_to': 3103, 'helper': 2430, '__dopostback': 146, 'equality': 1845, 'design': 1500, 'viewmodel': 6031, 'opposed': 3824, 'activerecord': 219, 'clients': 965, 'fork': 2146, 'refer': 4525, 'option': 3832, 'everything': 1882, 'cucumber': 1313, 'steps': 5279, 'scenario': 4825, 'openssl': 3814, 'mongo': 3459, 'building': 734, 'footer': 2134, 'junk': 2962, 'underneath': 5844, 'udp': 5785, 'beautifulsoup': 601, 'findall': 2068, 'generating': 2246, 'wmi': 6197, 'shift': 5010, 'ctrl': 1311, 'alt': 311, 'paper': 3918, 'posted': 4148, 'package': 3891, 'couldnt': 1249, 'expand': 1925, 'synchronization': 5464, 'jekyll': 2898, 'serve': 4960, 'implicit': 2593, 'checkmark': 897, 'pause': 3964, 'equal': 1844, 'arbitrary': 408, 'matches': 3314, 'eager': 1722, 'lib': 3078, 'following': 2127, 'communicate': 1054, 's3': 4790, 'folders': 2123, 'bucket': 725, 'hot': 2477, 'extends': 1963, 'runtimeexception': 4782, 'look': 3200, 'crystal': 1302, 'reports': 4619, 'unicodedecodeerror': 5859, 'ascii': 442, 'ordinal': 3841, '128': 32, 'encodeuricomponent': 1796, 'encode': 1793, 'age': 267, '24': 66, 'str': 5296, 'simplest': 5053, 'credentials': 1283, '220': 64, 'mouseenter': 3477, 'scanner': 4821, 'mq': 3496, 'months': 3471, 'creates': 1279, 'foreign': 2142, 'condition': 1122, 'general': 2242, 'utility': 5960, 'gzip': 2375, 'systemtimerstimer': 5496, 'subscription': 5390, 'management': 3263, 'elastic': 1763, 'beanstalk': 598, 'category': 842, 'sqlquery': 5218, 'effect': 1750, 'multithreaded': 3528, 'construction': 1172, 'trees': 5720, 'browsing': 722, 'transform': 5696, 'already': 309, 'deck': 1419, 'cards': 817, 'permission': 3998, '192': 43, 'snow': 5124, 'leopard': 3069, 'including': 2616, 'affected': 261, 'resharper': 4652, 'sublist': 5371, 'require': 4637, 'loaderror': 3150, 'drawrect': 1683, 'cropping': 1292, 'uiscrollview': 5808, 'suitable': 5416, 'jpanels': 2925, 'exit': 1921, 'receive': 4470, 'attempting': 495, 'memcache': 3357, 'somehow': 5145, 'setcookie': 4979, 'asp': 451, 'prepend': 4191, 'backslash': 568, 'uri': 5930, 'listeners': 3124, 'focused': 2121, 'exactly': 1888, 'httpresponse': 2506, 'webkit': 6113, 'hiding': 2443, 'insecure': 2697, 'dimensional': 1569, 'total': 5674, 'place': 4065, 'crash': 1267, 'onchange': 3777, 'section': 4882, 'openmp': 3810, 'game': 2221, 'getbytes': 2265, 'implemented': 2590, 'company': 1061, 'wide': 6159, 'pom': 4116, 'paging': 3904, 'fragments': 2175, 'completed': 1084, 'after': 265, 'selectors': 4916, '6': 128, 'segment': 4897, 'raw': 4431, 'backgroundworker': 566, 'settings': 4989, 'inherited': 2664, 'autofac': 516, 'truncated': 5741, '2008': 55, 'recursion': 4500, 'substrings': 5397, 'exists': 1920, 'graphics': 2330, 'directx': 1582, 'soap': 5125, 'providing': 4304, 'posts': 4153, 'ngclick': 3620, 'multithread': 3527, 'manage': 3261, 'reactive': 4445, 'instant': 2716, 'necessary': 3588, 'listbox': 3118, 'coordinate': 1224, 'triangle': 5723, 'hostname': 2476, 'parsed': 3938, 'sencha': 4925, 'benefits': 622, 'oo': 3795, 'databases': 1355, 'xmlhttprequest': 6260, 'allowed': 296, 'preflight': 4182, 'role': 4733, 'purpose': 4322, 'contextloaderlistener': 1195, 'translating': 5704, 'actions': 209, 'years': 6283, 'illegal': 2571, 'directly': 1578, 'inconsistent': 2621, 'unserialize': 5898, 'javaiofilenotfoundexception': 2858, 'sdcard': 4868, 'anonymous': 350, 'understanding': 5849, 'daemon': 1344, 'boost': 681, 'colors': 1025, 'individual': 2650, 'cmake': 987, 'out': 3858, 'config': 1128, 'homestead': 2467, 'discrete': 1597, 'variadic': 5989, 'wrapper': 6223, 'jsonresult': 2951, 'layer': 3039, 'webapp': 6098, 'javalangclassnotfoundexception': 2862, 'rsa': 4762, 'decryption': 1435, 'breaks': 711, 'ldap': 3045, 'authenticated': 506, 'differences': 1557, 'collect': 1012, 'fetching': 2028, 'environment': 1840, 'head': 2417, 'mediawiki': 3352, 'primitive': 4220, 'rearrange': 4464, 'uploaded': 5921, 'passed': 3950, 'closures': 982, 'achieve': 197, 'points': 4102, 'polygon': 4109, 'conditional': 1123, 'l': 3011, 'bash': 588, 'counting': 1253, 'appears': 380, 'mpi': 3493, 'execution': 1913, 'systemin': 5485, 'segue': 4900, 'identical': 2535, 'closure': 981, 'lpwstr': 3221, 'defaultdict': 1439, 'original': 3848, 'mapbox': 3281, 'downloaded': 1669, 'entire': 1826, 'parts': 3947, 'assets': 465, 'libs': 3082, 'manifest': 3268, 'rid': 4724, 'loops': 3206, 'marker': 3296, 'notifications': 3681, '3rd': 97, 'party': 3948, 'concatenation': 1111, 'jni': 2911, 'opencart': 3799, 'product': 4254, 'ensure': 1820, 'continuing': 1201, 'preparedstatement': 4189, 'disallowed': 1589, 'headertemplate': 2420, 'occurred': 3754, 'potential': 4154, 'wrapping': 6224, 'writer': 6228, 'reason': 4465, 'completely': 1085, 'fastest': 2012, 'percentages': 3984, 'base64': 586, 'adobe': 250, 'air': 272, 'multiselect': 3526, 'restricting': 4684, 'cells': 854, 'ambiguous': 320, 'tooltip': 5669, 'offset': 3769, 'filling': 2059, 'dataset': 1369, 'exporting': 1951, 'cookies': 1223, 'truncate': 5740, 'truncating': 5742, 'full': 2202, 'reinitialize': 4555, 'opens': 3811, 'causing': 847, 'pythonrequests': 4349, 'str_replace': 5297, 'sufficient': 5411, 'attacks': 492, 'jersey': 2900, 'context': 1194, 'annotation': 348, 'texture': 5578, 'incrementing': 2629, 'preprocessor': 4192, 'blob': 661, 'constructors': 1174, 'stock': 5284, 'market': 3298, 'max': 3328, 'erase': 1851, 'piping': 4058, 'resolve': 4658, 'clipboard': 969, 'deploying': 1481, 'shiny': 5012, 'standalone': 5240, 'included': 2614, 'unix': 5873, 'alphabetically': 306, 'amazon': 319, 'https': 2508, 'logistic': 3188, 'anchors': 332, 'example': 1889, 'throws': 5612, 'google+': 2308, 'customise': 1328, 'liferay': 3086, 'simulate': 5060, 'determined': 1522, 'scrapy': 4847, 'scrape': 4845, 'websites': 6126, 'useful': 5944, 'explode': 1946, 'counter': 1252, 'uisearchbar': 5809, 'casperjs': 831, 'protect': 4290, 'gaussian': 2228, 'nsmutablearray': 3695, 'also': 310, 'log4j': 3177, 'unhandled': 5855, 'schema': 4833, 'overload': 3877, 'move': 3483, 'retaining': 4695, 'listing': 3126, 'interpreted': 2763, 'overridden': 3880, 'outside': 3870, 'subscript': 5388, 'requires': 4643, 'world': 6214, 'autofill': 517, 'expects': 1933, 'repeat': 4600, 'intranet': 2774, 'center': 855, 'collectionview': 1018, 'simply': 5059, 'webapplication': 6099, 'deployed': 1480, 'tornado': 5672, 'uitableviewcell': 5815, 'uppercase': 5927, 'purchase': 4320, 'inapp': 2609, 'restkit': 4680, 'nsmanagedobject': 3694, 'instances': 2715, 'webpack': 6116, 'subset': 5392, 'pixels': 4062, 'stays': 5265, 'jquerymobile': 2931, 'round': 4746, 'nearest': 3587, 'tools': 5667, 'itunes': 2834, 'collapsible': 1010, 'says': 4810, 'specification': 5177, 'behavior': 613, 'beginners': 608, 'or': 3835, 'ram': 4411, 'geocode': 2253, 'ipaddress': 2801, 'jumping': 2960, 'solving': 5144, 'quadratic': 4367, 'processing': 4247, 'camera': 792, 'es': 1857, 'largest': 3025, '12': 29, '000': 11, 'frequency': 2188, 'engine': 1815, '27': 71, 'nokogiri': 3643, 'coredata': 1232, 'doctrine': 1639, 'emit': 1784, 'nsmutabledictionary': 3696, 'deprecated': 1483, 'treeview': 5722, 'javalangstring': 2873, 'distance': 1614, 'continuous': 1202, 'twodimensional': 5767, 'xna': 6266, 'problems': 4239, 'scatter': 4823, 'elegant': 1766, 'numeric': 3719, 'preference': 4177, 'pane': 3914, 'centered': 856, 'force': 2137, 'ocr': 3759, 'invariant': 2779, 'alert': 278, 'subplot': 5378, 'raises': 4408, 'subclass': 5360, 'superclass': 5425, 'week': 6134, 'requestmapping': 4633, 'secured': 4885, 'large': 3023, 'directives': 1577, 'mismatch': 3414, 'shape': 5000, 'vs2013': 6066, 'never': 3606, 'redis': 4517, 'showdialog': 5024, 'sounds': 5158, 'cocoa': 991, 'leaving': 3059, 'parser': 3940, 'getelementsbytagname': 2270, 'alternate': 313, 'tr': 5681, 'embedding': 1781, 'embedded': 1780, 'business': 745, 'layers': 3040, 'unreachable': 5890, 'encrypting': 1802, 'decrypting': 1434, 'interfaces': 2752, 'differs': 1561, 'img': 2582, 'theme': 5585, 'generation': 2247, 'contain': 1182, 'cron': 1289, 'integers': 2730, 'ordering': 3840, 'sections': 4883, 'loaded': 3148, 'capybara': 815, 'howto': 2484, 'avoiding': 541, 'someone': 5146, 'objectoriented': 3738, 'devexpress': 1531, 'datetimepicker': 1390, 'choice': 908, 'wildcards': 6168, 'routes': 4752, 'home': 2464, 'known': 3007, 'queues': 4384, 'appended': 383, 'since': 5067, 'scenarios': 4826, 'extremely': 1975, 'flow': 2113, 'panning': 3917, 'raphaeljs': 4423, 'cyclic': 1338, 'freezing': 2186, 'multiply': 3522, 'backup': 571, 'domains': 1654, 'subdomains': 5366, 'richtextbox': 4723, 'appearing': 379, 'formatter': 2157, 'keyvalue': 2991, 'ssh': 5225, '_request': 156, '_get': 153, 'wxwidgets': 6238, 'etc': 1866, 'differentiate': 1559, 'copies': 1227, 'pycharm': 4335, 'swap': 5445, 'stdset': 5273, 'discover': 1596, 'occurs': 3758, 'registered': 4549, 'swipe': 5452, 'documentation': 1642, 'intermittent': 2754, 'assigning': 469, 'breaking': 708, 'jasmine': 2846, 'fgets': 2032, 'pydev': 4336, 'jython': 2968, 'startup': 5250, 'optimize': 3829, 'webxml': 6133, 'longest': 3197, 'least': 3056, 'asynchronous': 482, 'synchronous': 5467, 'straight': 5298, 'sharing': 5005, 'fast': 2010, 'flexible': 2106, 'iterator': 2830, 'glow': 2294, 'usable': 5939, 'querying': 4377, 'girl': 2280, 'association': 475, 'restore': 4681, 'bold': 674, 'anchor': 331, 'corners': 1234, 'album': 277, 'mark': 3293, 'indices': 2646, 'indigo': 2647, 'invocation': 2782, 'flash': 2100, 'ex': 1886, 'emails': 1778, 'sleeping': 5092, 'recover': 4493, 'subclasses': 5361, 'extra': 1971, 'designed': 1501, 'repeats': 4605, 'del': 1451, 'backspace': 570, 'overflow': 3871, 'classpath': 941, 'beans': 597, 'despite': 1506, 'auth': 504, 'swagger': 5444, 'crud': 1299, 'tool': 5663, 'recognised': 4478, 'include_path': 2613, 'mdb': 3338, 'made': 3238, 'concrete': 1116, 'c#net': 758, 'driven': 1686, 'formal': 2153, 'matched': 3313, 'occasionally': 3748, 'stretch': 5313, 'menuitem': 3364, '2000': 51, 'bower': 697, 'restful': 4679, 'twisted': 5763, 'yields': 6288, 'listt': 3132, 'overlapping': 3874, 'segments': 4899, 'factorygirl': 1989, 'preload': 4185, 'uiviewcontroller': 5822, 'clicks': 962, 'star': 5244, 'gps': 2314, '422': 109, 'infix': 2657, 'calculator': 777, 'register': 4548, 'nsdata': 3687, 'conflicts': 1139, 'unresolved': 5895, 'partialview': 3945, 'hashtable': 2412, 'remember': 4579, 'b': 555, 'keywords': 2993, 'volatile': 6058, 'explicit': 1944, 'establish': 1863, 'secure': 4884, 'refactor': 4523, 'imports': 2601, 'overhead': 3872, 'youtube': 6293, 'channel': 877, 'dimension': 1568, 'itextsharp': 2833, 'reverse': 4713, 'bigdecimal': 629, 'scala': 4812, 'ejb': 1759, 'glassfish': 2288, 'wise': 6192, 'coordinates': 1225, 'assignment': 470, 'birthday': 647, 'file_get_contents': 2040, 'cases': 830, 'cs': 1303, 'cython': 1341, 'clexe': 955, 'javalanginteger': 2865, 'messagebox': 3372, 'though': 5593, 'contentsize': 1192, 'starts': 5249, 'late': 3028, 'invoking': 2786, 'edge': 1738, 'functional': 2209, 'foreignkey': 2143, 'beginner': 607, 'logical': 3185, 'na': 3561, 'normalizing': 3668, 'pixel': 4061, 'deleting': 1460, 'explicitly': 1945, 'raise': 4406, 'book': 675, 'pager': 3900, 'pthread': 4309, 'hosted': 2474, 'phpexcel': 4022, 'sheet': 5006, 'international': 2757, 'fuzzy': 2213, 'acceptable': 173, 'padding': 3897, 'vaadin': 5967, 'propagation': 4280, 'oncreate': 3781, 'docker': 1637, 'positive': 4141, 'modifier': 3446, 'escape': 1859, 'vc++': 5998, 'jsonp': 2949, 'rand': 4413, 'dispatch': 1602, 'descending': 1489, 'instantly': 2721, 'marshalling': 3303, 'fortran': 2167, 'chain': 870, 'pair': 3907, 'codility': 1004, 'oledb': 3774, 'tip': 5641, 'sprintf': 5202, 'websockets': 6128, 'opacity': 3797, 'instantiated': 2718, 'simplexmlelement': 5057, 'helpers': 2431, 'environments': 1841, 'none': 3650, 'applications': 399, 'master': 3309, 'exclude': 1900, 'pyramid': 4343, 'letters': 3073, 'attaching': 488, 'polymorphic': 4113, 'smoothly': 5116, 'animate': 341, 'pretty': 4204, 'polynomial': 4115, 'keyword': 2992, 'arc': 409, 'enums': 1837, 'mkmapview': 3422, 'templated': 5545, 'foundation': 2172, 'boxes': 699, 'has_many': 2403, 'resets': 4650, 'jobject': 2913, 'autolayout': 521, 'disabled': 1585, 'uitextfield': 5818, 'responder': 4667, 'alter': 312, 'optimal': 3826, 'locations': 3170, 'codes': 1003, 'combinations': 1033, 'toggle': 5655, 'streams': 5309, 'formats': 2155, 'mp3': 3491, 'subview': 5403, 'disappears': 1592, 'sure': 5436, 'idisposable': 2545, 'integrate': 2732, 'specifying': 5181, 'question': 4381, 'language': 3020, '_files': 152, 'ignored': 2564, 'backwards': 573, 'bufferedreader': 728, 'uploads': 5924, 'larger': 3024, 'mb': 3335, 'instructions': 2724, 'webmethod': 6115, 'vbscript': 5997, 'answer': 354, 'entityframework': 1829, 'discriminator': 1598, 'redux': 4521, 'reactrouter': 4448, 'refreshes': 4539, 'mongoclient': 3460, 'anything': 360, 'jsonarray': 2945, 'jsonobject': 2948, 'serving': 4969, 'permissions': 3999, 'llvm': 3142, 'clang': 928, 'retrive': 4701, 'ampersand': 325, 'animated': 342, 'apple': 389, 'clipping': 970, 'multilevel': 3514, 'typo3': 5782, 'h2': 2378, 'getaddrinfo': 2262, 'nsthread': 3703, 'nstimer': 3704, 'translate': 5702, 'matrices': 3323, 'validator': 5977, 'merged': 3368, 'automated': 525, 'updates': 5916, 'depth': 1484, 'caption': 811, 'ror': 4741, 'activation': 214, 'tricky': 5727, 'convention': 1212, 'lucene': 3224, 'concurrentmodificationexception': 1121, 'fileinfo': 2044, 'mimetype': 3401, 'description': 1491, 'enabled': 1789, 'spinner': 5188, 'outer': 3859, 'referenceerror': 4528, 'short': 5016, 'discount': 1595, 'price': 4214, 'listview': 3133, 'details': 1516, 'opera': 3816, 'normal': 3666, 'histogram': 2455, 'websocket': 6127, 'initiate': 2681, 'dev': 1524, 'knockout': 3003, 'log4net': 3179, 'lpcstr': 3219, 'outofmemoryexception': 3865, 'obtain': 3745, 'linear': 3098, 'multidimensional': 3512, 'metadata': 3381, 'tags': 5514, 'populating': 4127, 'validations': 5976, '42': 108, 'fill': 2057, 'whitespace': 6154, 'p': 3889, 'aes': 258, 'securely': 4886, 'tabcontrol': 5503, 'connections': 1148, 'dropped': 1698, 'overwrite': 3884, 'unmarshalling': 5882, 'typed': 5773, 'complexity': 1089, 'pow': 4157, 'destructor': 1511, 'nsdateformatter': 3689, 'paypal': 3970, 'superview': 5426, 'bounds': 696, 'subprocess': 5380, 'piped': 4055, 'simulation': 5062, 'card': 816, 'systemoutofmemoryexception': 5491, 'pinch': 4051, 'unity': 5870, 'reorder': 4597, 'tabbar': 5501, 'upper': 5926, 'techniques': 5537, 'depends': 1478, 'throw': 5608, 'reflecting': 4536, 'highlight': 2451, 'dictionaries': 1547, 'jinja': 2904, 'embed': 1779, 'ever': 1880, 'except': 1896, 'communicating': 1055, 'firebase': 2080, 'sqlstate': 5220, 'tokens': 5658, 'include_once': 2612, 'composite': 1094, 'observation': 3742, 'el': 1761, 'phpmyadmin': 4026, 'wp': 6217, 'insertion': 2702, 'received': 4471, 'seem': 4891, 'slash': 5089, 'twig': 5761, 'caret': 818, 'scanf': 4820, 'carriage': 821, 'rn': 4730, 'delimited': 1462, 'webrtc': 6121, 'dlls': 1632, 'animations': 345, 'pick': 4036, 'uipickerview': 5806, 'codefirst': 1000, 'migration': 3395, 'blade': 656, 'connectivity': 1150, 'asynctask': 484, 'odbc': 3762, 'come': 1039, 'calculating': 774, 'globally': 2292, 'occurence': 3752, 'contexts': 1197, 'imagemagick': 2578, 'suspend': 5440, 'expose': 1952, 'flag': 2098, 'archive': 411, 'continuewith': 1200, 'score': 4843, 'oriented': 3846, 'gallery': 2220, 'limit': 3092, 'backgroundcolor': 563, 'subclassing': 5362, 'datatype': 1378, 'consecutive': 1153, 'tcp': 5531, 'generators': 2249, 'imageview': 2580, '__file__': 147, 'h': 2376, 'uinavigationbar': 5801, 'material': 3316, 'lodash': 3175, 'sitemap': 5076, 'align': 285, 'zone': 6307, 'compact': 1060, 'rmi': 4729, 'proguard': 4272, 'processes': 4246, 'communication': 1056, 'paperclip': 3919, 'queryset': 4378, 'connector': 1151, 'super': 5424, 'lxml': 3228, 'pig': 4048, 'implementing': 2591, 'delegates': 1455, 'weka': 6142, 'thumbnail': 5614, 'subarrays': 5357, 'illegalstateexception': 2573, 'paragraphs': 3921, 'bindings': 642, 'cut': 1333, 'scientific': 4835, 'orm': 3850, 'lost': 3211, 'equals': 1846, 'runnable': 4775, 'detecting': 1519, 'initial': 2669, 'detail': 1514, 'jms': 2909, 'corner': 1233, 'valgrind': 5970, 'possibly': 4145, 'selectedindex': 4906, 'raising': 4409, 'lowest': 3218, 'underscore': 5845, 'mapper': 3284, 'portrait': 4134, 'landscape': 3018, 'javanetconnectexception': 2878, 'refused': 4541, 'simplexml_load_file': 5055, 'closed': 977, 'expecting': 1932, 'titles': 5645, 'attempt': 493, 'direction': 1574, 'rotation': 4745, 'jobs': 2914, 'locate': 3164, 'htaccess': 2488, 'comments': 1049, '43': 110, 'provide': 4300, 'additional': 237, 'hello': 2427, 'dependencies': 1473, 'artifact': 437, 'multiprocessing': 3525, 'forloop': 2147, 'taken': 5517, 'borland': 687, 'gcc': 2231, 'compilers': 1076, 'neo4j': 3594, 'prev': 4205, 'slideshow': 5099, 'typefile': 5776, 'converted': 1217, 'hooks': 2470, 'woocommerce': 6199, 'pyqt4': 4342, 'icons': 2530, 'importerror': 2599, 'sqlite3': 5216, 'firing': 2087, 'ul': 5827, 'pressing': 4202, 'entitymanagerfactory': 1831, 'hashtag': 2413, 'structures': 5339, 'predicate': 4172, 'today': 5652, 'inserting': 2701, 'categories': 841, 'rtf': 4767, 'undeclared': 5840, 'concurrency': 1117, 'simultaneous': 5064, 'mutexes': 3535, 'gae': 2218, 'mechanize': 3347, 'ascx': 443, 'alone': 300, 'removal': 4582, 'matlab': 3321, 'indicator': 2645, 'forever': 2144, 'closing': 980, 'unmarshall': 5881, 'phpstorm': 4029, 'accessed': 182, 'magic': 3240, 'router': 4751, 'uitableviewcells': 5816, 'synchronize': 5465, 'infowindow': 2661, 'msbuild': 3498, 'jenkins': 2899, 'nsurlconnection': 3706, 'sun': 5422, 'mssql': 3502, 'manytoone': 3279, 'xss': 6272, 'attack': 491, 'gone': 2305, 'vnext': 6056, 'macro': 3236, 'sass': 4802, 'requiring': 4644, 'ready': 4458, 'sliding': 5101, 'putting': 4330, 'jqueryui': 2933, 'twice': 5760, 'autocompletion': 515, 'resetting': 4651, 'beginning': 609, 'mstest': 3503, 'redirecting': 4513, 'practise': 4165, 'directorygetfiles': 1581, 'locked': 3172, 'stuck': 5345, 'instantiate': 2717, 'resolves': 4660, 'internal': 2755, 'underline': 5842, 'liststring': 3131, 'knockoutjs': 3004, 'mousemove': 3478, 'protractor': 4299, 'ini': 2667, 'manipulation': 3271, 'ball': 577, 'underscores': 5847, 'lwjgl': 3227, 'guess': 2365, 'compatibility': 1070, 'drivers': 1688, 'fopen': 2135, 'reuse': 4710, 'nondefault': 3649, 'clone': 974, 'questions': 4382, 'ranges': 4420, 'stringformat': 5318, 'consider': 1154, 'literal': 3136, 'released': 4568, 'practices': 4164, 'around': 424, 'nginclude': 3624, 'thing': 5587, 'floating': 2111, 'produces': 4252, 'products': 4256, 'prestashop': 4203, 'max_execution_time': 3329, 'nameerror': 3564, 'rss': 4764, 'expensive': 1934, 'hdfs': 2416, 'smtpclient': 5119, 'mod_wsgi': 3432, 'interaction': 2745, 'virtualenv': 6043, 'comprehension': 1096, 'unbind': 5834, 'easy': 1731, 'stringcontains': 5317, 'xamarin': 6244, 'appconfig': 375, 'aggregation': 269, 'initialized': 2676, 'initializer': 2677, 'encodings': 1798, 'pylab': 4338, 'javas': 2880, 'concurrenthashmap': 1119, 'webform': 6108, 'attr_accessor': 498, 'conditionals': 1125, 'edges': 1739, 'borders': 686, 'vertically': 6015, 'printer': 4226, 'preferences': 4178, 'updatepanel': 5915, 'int32': 2726, 'incomplete': 2620, 'compiled': 1074, 'notepad++': 3675, 'recognizing': 4482, 'messing': 3378, 'stackoverflow': 5233, 'caught': 843, 'prefix': 4180, 'jqueryajax': 2930, 'fire': 2079, 'success': 5406, 'callbacks': 783, 'joined': 2918, 'mysql_real_escape_string': 3552, 'established': 1864, 'interval': 2770, 'jdbctemplate': 2896, 'sessionfactory': 4975, 'expire': 1937, 'dead': 1407, 'hanging': 2395, 'lots': 3213, 'openfiledialog': 3805, '50': 115, 'continuously': 1203, 'middleware': 3390, 'exchange': 1899, 'scales': 4817, 'subtype': 5401, 'originally': 3849, 'fly': 2118, 'pm': 4092, 'inputstream': 2695, 'turning': 5754, 'off': 3764, 'concurrent': 1118, 'tls': 5647, 'systemnetwebexception': 5489, 'going': 2304, 'capistrano': 806, '127': 31, 'keyup': 2990, 'leaflet': 3050, 'sequentially': 4950, 'splitting': 5192, 'parallelforeach': 3923, 'iframes': 2559, 'sqldatareader': 5212, 'minute': 3412, 'receives': 4473, 'checks': 899, 'ascending': 441, 'formatted': 2156, 'predefined': 4171, 'density': 1470, 'metro': 3386, 'grade': 2319, 'average': 538, 'grades': 2320, 'attachments': 490, 'scalar': 4814, 'criteria': 1285, 'executes': 1911, 'visit': 6046, 'placeholders': 4068, 'measure': 3344, 'lower': 3216, 'growing': 2354, 'software': 5136, 'directories': 1579, 'earth': 1726, '46': 112, 'stdvector': 5276, 'act': 201, 'concatenating': 1110, 'datalist': 1365, 'choose': 910, 'navigator': 3582, 'expect': 1930, 'backward': 572, 'boundaries': 693, 'rewrite': 4717, 'rules': 4773, 'descriptors': 1494, 'kernel': 2980, 'assistance': 472, 'components': 1092, 'epoch': 1843, 'springdatajpa': 5198, 'minified': 3405, 'radiobutton': 4400, 'cdi': 849, 'divided': 1622, 'holding': 2463, 'rerender': 4645, 'street': 5311, 'xsd': 6269, 'meaning': 3341, 'concurrently': 1120, 'systemargumentexception': 5477, 'nonascii': 3646, 'sound': 5157, 'xmlelement': 6258, 'bitmapimage': 650, 'gulp': 2373, 'bars': 584, 'v2': 5965, 'webclient': 6103, 'dots': 1659, 'dropdownlist': 1694, 'operand': 3817, 'redraw': 4518, 'exc_bad_access': 1891, 'querystring': 4380, 'payments': 3969, 'clr': 984, 'hybrid': 2518, 'camel': 790, 'andengine': 333, 'delimiters': 1464, 'decoding': 1428, 'urllib': 5933, 'python3': 4347, 'customized': 1331, 'evaluating': 1871, 'commit': 1050, 'succeeded': 5405, 'filenames': 2047, 'exercise': 1915, 'margins': 3291, 'gridlayout': 2343, 'chosen': 913, 'imported': 2598, 'perfectly': 3986, 'dimensions': 1570, 'delegation': 1456, 'ws': 6233, 'windowsh': 6185, 'cstring': 1309, 'textboxfor': 5571, 'screenshot': 4851, 'weeks': 6138, 'hbase': 2415, 'scan': 4819, 'arrows': 434, 'cuda': 1314, 'applescript': 391, 'progressbar': 4271, 'flip': 2108, 'httprequest': 2504, 'authenticate': 505, 'io': 2788, 'whose': 6157, 'insensitive': 2698, 'sequences': 4948, 'decorators': 1430, 'visitor': 6048, 'dbmigrate': 1399, 'quantile': 4372, 'normalize': 3667, 'comparisons': 1069, 'rule': 4772, 'occured': 3751, 'pyside': 4344, 'lightweight': 3090, 'vendor': 6003, 'horizontally': 2472, 'robust': 4732, 'platform': 4075, 'phrase': 4031, 'finder': 2070, 'chartjs': 885, 'countdown': 1251, 'finish': 2075, 'debug': 1414, 'latex': 3031, 'white': 6153, 'hashing': 2408, 'javalangnosuchfielderror': 2867, 'trace': 5682, 'everytime': 1883, 'asmx': 450, '18': 40, 'lambdas': 3016, 'simplexml_load_string': 5056, 'reliably': 4572, 'kml': 3001, 'behaviour': 614, 'extjs4': 1970, 'pressed': 4200, 'greater': 2338, 'redeclare': 4507, 'previously': 4213, 'signature': 5039, 'asterisk': 479, 'ellipse': 1772, 'listboxitem': 3120, 'devices': 1534, 'anyone': 359, 'getjson': 2272, 'customizing': 1332, 'hexadecimal': 2434, 'newline': 3611, 'filesystem': 2055, 'developer': 1527, 'activities': 222, 'assignments': 471, 'processstart': 4249, 'animating': 343, 'indexpath': 2642, 'analytics': 329, 'restart': 4676, 'ce': 850, 'lose': 3207, 'preferably': 4176, 'select2': 4902, 'situation': 5078, 'square': 5221, 'aspect': 453, 'ratio': 4429, 'hook': 2469, 'fluent': 2114, 'biggest': 631, 'sent': 4933, 'mysqli_query': 3557, 'meteor': 3382, 'derive': 1486, 'recv': 4503, 'hosting': 2475, 'linkedin': 3107, 'gcm': 2234, 'piece': 4045, 'navigating': 3578, 'hour': 2478, 'crop': 1291, 'boostasio': 682, 'weight': 6139, 'joining': 2919, 'prop': 4279, 'profiling': 4261, 'hadoop': 2381, 'cleanup': 949, 'var': 5983, 'cgi': 867, 'c++11': 762, 'decorator': 1429, 'dplyr': 1673, 'classcastexception': 932, '503': 118, 'certificate': 862, 'explain': 1942, 'dock': 1636, 'postgres': 4150, 'positioned': 4138, 'bringing': 715, 'loader': 3149, 'yield': 6287, 'reversed': 4714, 'branching': 706, 'maybe': 3334, 'z': 6296, 'friends': 2194, 'japanese': 2843, 'responding': 4668, 'undo': 5850, 'onetomany': 3785, 'allocation': 294, 'allocate': 291, 'newlines': 3612, 'excluding': 1901, 'payment': 3968, 'gateway': 2226, 'dataurl': 1380, 'referring': 4534, 'increasing': 2625, 'subsequence': 5391, 'nsnumber': 3697, 'greek': 2339, 'notation': 3672, 'imply': 2595, 'outputting': 3869, 'xhtml': 6253, 'ask': 446, 'win': 6170, 'textinput': 5577, 'viewmodels': 6032, 'sqlserver': 5219, 'board': 672, 'cover': 1259, 'markers': 3297, 'implements': 2592, 'orientation': 3845, 'dbcontext': 1397, 'decrease': 1431, 'effects': 1753, 'persistent': 4006, '__nsarraym': 151, 'pull': 4317, 'mixed': 3420, 'viewer': 6029, 'specifically': 5176, 'viewing': 6030, 'reporting': 4618, 'purposes': 4323, 'jboss': 2891, 'deployment': 1482, 'javalangunsupportedclassversionerror': 2875, 'addition': 236, 'mapkit': 3282, 'tfs': 5581, 'cached': 766, 'minification': 3404, 'cpanel': 1262, 'strip': 5325, 'agility': 270, 'pack': 3890, 'buffered': 727, 'gravity': 2333, 'mediaplayer': 3351, 'utc': 5956, 'contact': 1180, 'cprogram': 1264, 'x86': 6242, 'crashing': 1270, 'failure': 1998, 'jlabel': 2906, 'settext': 4986, 'tableviewcell': 5509, 'restarting': 4677, 'cities': 925, 'circle': 922, 'timestamps': 5636, 'explanation': 1943, 'presses': 4201, 'legal': 3063, 'profiler': 4259, 'evaluation': 1872, '_session': 158, 'xsl': 6270, 'crypto': 1301, 'writes': 6229, 'minimized': 3408, 'i++': 2523, 'scheduler': 4831, 'automation': 529, 'kb': 2972, 'gauge': 2227, 'grails': 2323, 'third': 5591, 'objectid': 3734, 'replacing': 4612, 'ignoring': 2566, 'punctuation': 4319, 'cellforrowatindexpath': 853, 'hashcode': 2406, 'tabbed': 5502, 'g': 2216, 'occurring': 3757, 'menus': 3365, 'observe': 3743, 'observable': 3740, 'v3': 5966, 'continue': 1198, 'packages': 3892, 'blur': 670, 'contained': 1183, 'nonui': 3663, 'couchbase': 1246, 'bulk': 739, 'akka': 275, 'successfully': 5408, 'uwp': 5963, 'nth': 3709, '403': 103, 'forbidden': 2136, 'smarty': 5113, 'coding': 1005, 'imap': 2581, 'chance': 872, 'digit': 1564, '__init__': 149, 'props': 4288, 'await': 543, 'ec2': 1732, 'www': 6236, 'recaptcha': 4469, 'preserve': 4197, 'games': 2222, 'configurable': 1129, 'qtcreator': 4366, 'polymer': 4112, 'delivery': 1465, 'signals': 5038, 'concerns': 1114, 'unload': 5877, 'approach': 403, 'popover': 4123, 'manual': 3273, 'visualize': 6053, 'selectmenu': 4914, 'nas': 3572, 'either': 1758, 'wp7': 6218, 'datetimefield': 1388, '_server': 157, 'curve': 1325, 'x64': 6241, 'bluetooth': 669, 'scheme': 4834, 'accept': 172, 'worth': 6215, 'webelement': 6107, 'arabic': 407, 'subcategory': 5359, 'unavailable': 5833, 'htmlspecialchars': 2495, 'winrt': 6189, 'iso': 2810, '8601': 140, 'ideas': 2534, 'removed': 4585, 'similarity': 5050, 'packets': 3894, 'packet': 3893, 'tweet': 5758, 'benefit': 621, 'ref': 4522, 'javadoc': 2855, '75': 136, 'cumulative': 1316, 'subquery': 5385, 'trycatch': 5746, 'coming': 1041, 'de': 1406, 'kit': 2999, 'surface': 5437, 'breakpoint': 709, 'typeof': 5777, 'seperated': 4945, 'sample': 4798, 'solve': 5142, 'ljavalangobject': 3141, 'minimize': 3407, 'monitoring': 3465, 'djangoadmin': 1628, 'hashes': 2407, 'strong': 5330, 'newly': 3613, 'filtered': 2061, 'extending': 1962, 'functionality': 2210, 'actionbar': 204, 'loses': 3208, 'push_back': 4325, 'scheduling': 4832, 'imagebutton': 2576, 'sentences': 4935, 'paragraph': 3920, 'positions': 4140, 'threadingtimer': 5599, 'positioning': 4139, 'actively': 217, 'considered': 1155, 'canvastodataurl': 802, 'listobject': 3129, 'javautildate': 2885, 'fscanf': 2199, 'deep': 1436, 'pyspark': 4345, 'monitor': 3464, 'express': 1955, 'edition': 1744, 'low': 3215, 'stable': 5229, 'served': 4961, 'rollback': 4736, 'rubygem': 4769, 'applicable': 394, 'styling': 5354, '__declspec': 145, 'pairs': 3909, 'multipart': 3517, 'multiline': 3515, 'accepts_nested_attributes_for': 177, 'practical': 4162, 'locking': 3173, 'expired': 1938, 'selector': 4915, 'attachment': 489, 'impact': 2586, 'periodically': 3995, 'handshake': 2393, 'uisplitviewcontroller': 5811, 'uinavigationcontroller': 5802, 'stls': 5283, 'pieces': 4046, 'ticks': 5618, 'divs': 1626, 'pipes': 4057, 'suppress': 5434, 'advanced': 254, 'caesar': 768, 'cipher': 921, 'specifier': 5179, 'note': 3673, 'xmx': 6265, 'amounts': 323, 'jade': 2842, 'matter': 3325, 'overwriting': 3885, 'legend': 3064, 'guide': 2370, 'nan': 3570, 'tried': 5728, 'parseint': 3939, 'zipfile': 6304, 'instagram': 2707, 'iterable': 2824, 'dataframes': 1361, 'browserify': 720, 'multiplying': 3523, 'met': 3379, 'mvc5': 3541, 'transport': 5709, 'provided': 4301, 'pem': 3978, 'stat': 5251, 'located': 3165, 'frontend': 2197, 'mongoid': 3462, 'predict': 4173, 'zipped': 6305, 'wav': 6089, 'allowing': 297, 'gdi+': 2237, 'axes': 550, 'raster': 4425, 'documentready': 1645, 'aggregate': 268, 'analysis': 328, 'scores': 4844, '301': 79, 'writable': 6225, 'quit': 4388, 'printf': 4227, 'important': 2597, 'hell': 2426, 'var_dump': 5984, 'die': 1553, 'listen': 3122, 'blinking': 660, 'remain': 4576, 'webconfig': 6104, 'formula': 2165, 'pie': 4044, 'say': 4808, 'wifi': 6164, 'operators': 3823, '26': 70, 'wiring': 6191, 'pthreads': 4311, 'unexpectedly': 5853, 'unwrapping': 5910, 'exc_bad_instruction': 1892, 'structs': 5336, 'camelcase': 791, 'stripe': 5326, 'membership': 3356, 'objc': 3730, 'marked': 3295, 'intellisense': 2739, 'perl': 3996, 'routesrb': 4753, 'crm': 1288, '2011': 57, 'uitabbar': 5812, 'syntaxerror': 5470, 'timed': 5624, 'defining': 1446, 'jasperreport': 2848, 'accessible': 184, 'alive': 289, 'webinf': 6112, 'labels': 3013, 'think': 5589, 'grunt': 2355, 'ashx': 444, 'nullable': 3712, 'theres': 5586, 'occurance': 3750, 'val': 5969, 'subdirectory': 5364, 'jpg': 2927, 'applicationcontext': 396, 'associations': 476, 'ef': 1748, 'alertdialog': 279, 'simplify': 5058, 'inputted': 2696, 'rabbitmq': 4396, 'mootools': 3472, '33': 90, 'blocked': 663, 'iis7': 2568, 'referrer': 4533, 'formatting': 2158, 'chromes': 916, 'inspect': 2705, 'mpmovieplayercontroller': 3494, 'playing': 4082, 'kafka': 2970, 'polling': 4108, 'decrypt': 1433, 'unmarshal': 5880, 'qwidget': 4393, 'parents': 3935, 'replaces': 4611, 'servers': 4963, 'placement': 4069, 'vars': 5991, 'j2me': 2840, 'runner': 4776, 'activeadmin': 216, 'statically': 5259, 'nspredicate': 3699, 'jwt': 2967, 'csrf': 1306, 'verification': 6005, 'classic': 935, 'rubygems': 4770, 'polyline': 4111, 'g++': 2217, 'multibyte': 3510, 'jcombobox': 2894, 'populated': 4126, 'follow': 2124, 'mapped': 3283, 'databind': 1356, 'crossbrowser': 1294, 'fake': 1999, 'significant': 5042, 'modern': 3442, 'assemblies': 459, 'fancybox': 2007, 'annotated': 347, 'uninstall': 5862, 'lion': 3116, 'scrollbar': 4857, 'programmatic': 4264, 'belongs': 618, 'unhashable': 5856, 'recognized': 4481, 'unreadable': 5892, 'monotouch': 3468, 'robot': 4731, 'crossdomain': 1295, 'unity3d': 5871, 'calculated': 773, 'hangman': 2396, 'interrupt': 2767, 'raw_input': 4432, 'beautiful': 600, 'visualstudio': 6054, '41': 106, '52': 122, 'sources': 5161, 'isolate': 2812, 'anyobject': 358, 'pythons': 4350, '16': 37, 'celery': 851, 'worker': 6207, 'systemcurrenttimemillis': 5478, 'xp': 6267, '400': 101, 'payload': 3967, 'radius': 4402, 'formbased': 2159, 'doxygen': 1672, 'parentheses': 3933, 'mono': 3466, 'fullcalendar': 2203, 'cors': 1244, 'innertext': 2692, 'blink': 659, '0xc0000005': 15, 'xwwwformurlencoded': 6273, 'surfaceview': 5438, 'professional': 4257, 'enterprise': 1825, 'defaults': 1440, 'formed': 2161, 'secondary': 4879, 'manytomany': 3276, 'repaint': 4599, 'origin': 3847, 'stylesheet': 5352, 'welcome': 6143, 'odata': 3761, 'initialisation': 2670, 'localhost8080': 3156, 'richfaces': 4722, 'lxmlhtml': 3229, 'findby': 2069, '#ifdef': 4, 'controlling': 1210, 'ff': 2029, 'ultimate': 5828, 'bindingsource': 643, '1000': 19, 'colour': 1026, 'fall': 2000, 'porting': 4132, 'stand': 5239, 'unescape': 5851, 'choices': 909, 'ld': 3044, 'bytearray': 754, 'callable': 781, 'subscribe': 5386, 'cocoapods': 992, 'pods': 4096, 'plus': 4091, 'allows': 298, 'geting': 2271, 'identifying': 2539, 'indexes': 2638, 'ext': 1959, 'picking': 4038, 'ee': 1747, 'advice': 257, 'ansi': 352, 'appropriate': 404, 'localization': 3157, 'later': 3029, 'cin': 920, 'dismissing': 1601, 'freed': 2182, 'ndk': 3585, 'configured': 1133, 'covered': 1261, 'httprequestmessage': 2505, 'seed': 4889, 'scrolltop': 4863, 'period': 3993, 'hitting': 2460, 'oop': 3796, 'gmt': 2298, 'docs': 1638, 'endless': 1808, 'customize': 1330, 'flatten': 2104, 'visualization': 6052, 'djangos': 1630, 'filefield': 2043, 'smaller': 5110, 'maintain': 3248, 'reducing': 4520, 'resttemplate': 4687, 'timing': 5639, 'file_put_contents': 2041, 'saves': 4805, 'half': 2382, 'godaddy': 2302, 'consuming': 1178, 'alamofire': 276, 'xlsx': 6256, 'tutorial': 5756, 'retain': 4694, 'pil': 4049, 'cameras': 793, 'cloning': 975, 'j2ee': 2839, 'scratch': 4848, 'mappings': 3286, 'alphabets': 307, 'multiples': 3520, 'conditions': 1126, 'apns': 371, 'providers': 4303, 'session_start': 4974, 'wrapped': 6222, 'centos': 858, '54': 124, 'indexing': 2640, 'dashes': 1351, 'cgridview': 869, 'accepting': 175, 'suddenly': 5409, 'italic': 2819, 'mathematical': 3318, 'sdl': 4870, 'rgb': 4720, 'webservices': 6124, 'sqlconnection': 5211, 'selectedvalue': 4909, 'pyc': 4334, 'whilst': 6152, 'beta': 624, 'responds': 4669, 'pairwise': 3910, 'pid': 4043, 'markup': 3300, 'registering': 4550, 'rownames': 4757, 'summing': 5420, 'ppt': 4161, 'setinterval': 4981, 'representation': 4624, 'communications': 1057, 'setdata': 4980, 'breakpoints': 710, 'ddd': 1403, 'great': 2337, 'normally': 3669, 'az': 553, 'reliable': 4571, 'referer': 4532, 'isset': 2815, 'drawer': 1679, 'banner': 579, 'java_home': 2852, 'referenced': 4527, 'mysql_result': 3553, 'utf': 5957, 'whitespaces': 6155, 'firewall': 2086, 'launched': 3036, 'timeline': 5625, 'stringstream': 5324, 'fontawesome': 2130, 'picker': 4037, 'routeprovider': 4750, 'disappearing': 1591, 'multicolumn': 3511, '1054': 22, 'nongeneric': 3654, 'ilist': 2569, 'ilistt': 2570, 'typecasting': 5772, 'indexof': 2641, 'storage': 5289, 'spent': 5185, 'concise': 1115, 'httppost': 2503, 'nets': 3601, 'slashes': 5090, 'backslashes': 569, 'crawling': 1273, 'electron': 1765, 'guessing': 2366, 'xslt': 6271, 'jsonstringify': 2952, 'inbox': 2610, 'testsuite': 5564, 'nonstatic': 3662, '256': 69, 'renaming': 4590, 'appjs': 388, 'simple_form': 5052, 'elementwise': 1769, 'jaxrs': 2889, 'determining': 1523, 'destroyed': 1509, 'xamarinforms': 6245, 'crossplatform': 1297, 'twoway': 5768, 'r2': 4395, 'gdb': 2236, 'xampp': 6247, 'win7': 6172, 'static_cast': 5258, 'dynamic_cast': 1716, 'javasqldate': 2883, 'htm': 2489, 'massive': 3308, 'vs2010': 6064, 'chunks': 918, 'protected': 4291, 'readonly': 4456, 'pyplot': 4340, 'sitecore': 5075, 'analog': 327, 'onto': 3794, 'waitforsingleobject': 6074, 'dataview': 1381, 'peer': 3977, 'sends': 4930, 'fx': 2215, 'qimage': 4353, 'interceptor': 2749, 'complicated': 1090, 'cyrillic': 1340, 'mutable': 3533, 'webbased': 6100, 'concept': 1112, 'i18n': 2524, 'qpushbutton': 4358, 'cycle': 1337, 'json_encode': 2944, 'dealloc': 1411, 'invoked': 2785, 'seemingly': 4892, 'unrelated': 5894, 'integrityerror': 2737, 'unmanaged': 5879, '5x': 127, 'connected': 1145, 'entitymanager': 1830, 'newtonsoft': 3615, 't_variable': 5499, 'webrequest': 6120, 'validated': 5973, 'todays': 5653, 'mm': 3423, 'yyyy': 6294, 'temporarily': 5549, 'dictionarystring': 1549, 'dowhile': 1664, 'mysql_num_rows': 3550, 'euler': 1867, 'visibility': 6044, 'prints': 4230, 'scrollto': 4862, 'pending': 3979, 'performseguewithidentifier': 3991, 'authorization': 509, 'prefixes': 4181, 'systemiofilenotfoundexception': 5488, 'css3': 1308, 'javasqlsqlexception': 2884, 'bits': 651, 'workaround': 6204, 'intercept': 2747, 'observer': 3744, 'complement': 1082, 'braces': 702, 'transfer': 5694, 'near': 3586, 'serialport': 4958, 'dir': 1571, 'stringify': 5319, 'engines': 1816, 'springmvc': 5199, 'presentation': 4195, 'organize': 3843, 'downgrade': 1666, 'spot': 5193, 'basis': 591, 'systemdrawingimage': 5483, 'neural': 3605, 'salesforce': 4796, 'dash': 1348, 'dismiss': 1600, 'reflect': 4535, 'scikitlearn': 4837, 'caller': 785, 'aborting': 165, 'subject': 5369, 'ordered': 3839, '2x': 76, 'inactivity': 2608, 'distribution': 1618, 'processor': 4248, '23': 65, 'coldfusion': 1008, '56': 126, 'viewdidload': 6027, 'chess': 902, 'current_user': 1321, 'transition': 5700, 'expiration': 1936, 'jmeter': 2908, 'modifiers': 3447, 'manner': 3272, 'awt': 548, 'webgl': 6110, 'retina': 4696, 'pro': 4235, 'geocoding': 2254, 'expires': 1939, 'br': 701, 'paint': 3905, 'eventhandler': 1876, 'retrieval': 4697, 'subsets': 5393, 'autowired': 533, 'transitions': 5701, 'entered': 1823, 'flags': 2099, 'authenticating': 507, 'vowels': 6061, 'exceeded': 1893, 'annotate': 346, 'summary': 5419, 'statistics': 5260, 'gpu': 2315, 'leading': 3047, 'submenu': 5372, 'confirm': 1135, 'rich': 4721, 'mapreduce': 3287, 'manytomanyfield': 3277, 'placeholder': 4067, 'androidviewinflateexception': 335, 'angle': 336, 'openshift': 3812, 'monodevelop': 3467, 'inherits': 2666, 'directions': 1575, 'resultset': 4691, 'pomxml': 4117, 'log4jxml': 3178, 'goes': 2303, 'submitted': 5376, 'msg': 3500, 'aop': 363, 'se': 4872, 'delimiter': 1463, 'obtained': 3746, 'consumption': 1179, 'composer': 1093, 'affects': 263, 'uibootstrap': 5789, 'bottleneck': 689, 'partially': 3944, 'trusted': 5744, 'appearance': 378, 'unsorted': 5901, 'utils': 5961, 'memcached': 3358, 'overlap': 3873, 'flex': 2105, 'httpurlconnection': 2512, '51': 120, 'read_csv': 4450, 'stars': 5245, 'syncdb': 5463, 'ngif': 3623, 'pymongo': 4339, 'killing': 2996, 'ifstream': 2561, 'compute': 1103, 'imagefield': 2577, 'windows8': 6183, 'struts': 5341, 'guice': 2368, 'applying': 402, 'converter': 1218, 'demo': 1468, 'logo': 3189, 'sqlcommand': 5210, 'skscene': 5088, 'safety': 4794, 'commandline': 1044, 'scrollbars': 4858, 'sunday': 5423, 'comes': 1040, 'lnk2019': 3146, 'incorrectly': 2623, 'namespaces': 3568, 'xib': 6254, 'million': 3398, 'removefromsuperview': 4586, 'listitem': 3128, 'effectively': 1752, 'abort': 163, 'enhanced': 1818, 'unpack': 5887, 'counts': 1256, 'homework': 2468, 'repeatedly': 4602, 'ca': 764, 'hang': 2394, 'become': 602, 'unparseable': 5888, 'varchar': 5986, 'newtonsoftjson': 3616, 'autowire': 532, 'requirements': 4642, 'cascading': 827, 'eventtarget': 1879, 'unread': 5891, 'rolling': 4737, 'babel': 556, 'contour': 1204, 'outline': 3861, 'advance': 253, 'may': 3333, 'ember': 1782, 'ngshow': 3630, 'violates': 6039, 'clearly': 953, 'roles': 4734, '401': 102, 'afnetworking': 264, 'w3c': 6072, 'propertyinfo': 4285, 'iteration': 2827, 'cmdexe': 989, 'hours': 2479, 'confused': 1141, 'instantiation': 2720, 'styled': 5350, 'py': 4333, 'activex': 221, 'jinja2': 2905, 'couchdb': 1247, 'overwritten': 3886, 'bridge': 713, 'timeseries': 5633, 'x11': 6240, 'interacting': 2744, 'chef': 901, 'filters': 2063, 'asset': 464, 'pipeline': 4056, 'renders': 4595, 'preventdefault': 4207, 'datagridviews': 1364, 'identity_insert': 2541, 'lengths': 3068, 'popular': 4124, 'ftp': 2201, 'fonts': 2131, 'gb': 2229, 'rounded': 4747, 'auto_now_add': 513, 'runtimeerror': 4781, 'jserb': 2939, 'polygons': 4110, 'final': 2064, 'volley': 6059, 'hardware': 2402, 'reaches': 4442, 'nsurlrequest': 3707, 'urllib2': 5934, 'piechart': 4047, 'automating': 528, 'keyerror': 2986, 'hy000': 2517, 'confirmation': 1136, 'fileupload': 2056, 'systemaccessviolationexception': 5476, 'cout': 1258, '405': 105, 'init': 2668, 'movie': 3488, 'webcam': 6102, 'textures': 5579, 'corruption': 1243, 'soapclient': 5126, 'mysql2error': 3547, 'absolutely': 167, 'formpanel': 2162, 'assigned': 468, 'zf2': 6301, 'xmlreader': 6262, 'otherwise': 3857, 'repositories': 4621, 'nesting': 3597, 'collapse': 1009, 'webpages': 6118, 'atomic': 485, 'helloworld': 2428, 'karma': 2971, 'classnotfoundexception': 940, 'geom_line': 2256, 'scene': 4827, 'means': 3342, 'friendly': 2193, 'nethttp': 3600, 'paginate': 3902, 'preceded': 4167, 'fb': 2016, 'cforeach': 866, 'rebuild': 4468, 'noclassdeffounderror': 3639, 'indentation': 2631, 'ioerror': 2790, 'cxf': 1336, 'calayer': 771, 'median': 3350, 'systemnullreferenceexception': 5490, 'recommend': 4483, 'artisan': 439, 'built': 737, 'delay': 1452, 'stuff': 5348, 'maximized': 3331, 'nsinteger': 3691, '2005': 53, 'opensource': 3813, 'hasmany': 2414, 'outlook': 3862, 'reply': 4614, 'shortest': 5020, 'written': 6231, 'executed': 1908, 'keystore': 2989, 'jruby': 2935, 'stringjoin': 5320, 'bookmark': 676, 'compared': 1065, 'coded': 999, 'resume': 4692, 'played': 4079, 'wsdl': 6234, 'dist': 1613, 'getattr': 2263, 'usb': 5941, 'mass': 3307, 'gradient': 2321, 'layouts': 3042, 'xmlserializer': 6263, '1404': 35, 'sortable': 5154, 'tensorflow': 5552, 'seeing': 4890, 'smoother': 5115, 'bitwise': 652, 'toolsjar': 5668, 'externals': 1968, 'stringbuilder': 5316, 'mixing': 3421, 'nonblocking': 3647, 'recommendation': 4484, 'easing': 1730, 'localize': 3158, 'operating': 3819, 'leave': 3057, 'colours': 1027, 'computing': 1107, 'endpoint': 1809, 'percent': 3982, 'precise': 4168, 'decrement': 1432, 'func': 2207, 'skips': 5086, 'regarding': 4543, 'uint8_t': 5805, 'unlimited': 5876, 'notice': 3679, 'cake': 769, 'reconnect': 4488, 'seo': 4936, 'myclass': 3544, 'personal': 4009, 'rowwise': 4759, 'columnwise': 1030, 'efficiency': 1754, 'stringreplace': 5321, 'soup': 5159, 'conversions': 1215, 't_string': 5498, 'combining': 1036, 'size_t': 5080, 'listed': 3121, 'vuejs': 6069, 'ioc': 2789, 'nullreferenceexception': 3715, 'mime': 3400, 'responses': 4673, 'jsonparse': 2950, 'clearing': 952, 'machines': 3232, 'spider': 5187, 'mails': 3244, 'qml': 4356, 'factor': 1985, 'exported': 1950, 'mistake': 3418, 'caseinsensitive': 829, '17': 39, '311': 85, 'subscribers': 5387, 'evil': 1884, 'actionresult': 208, 'sense': 4931, 'nonnumeric': 3659, 'objectmapper': 3737, 'poco': 4094, 'lightbox': 3089, 'passwords': 3956, 'adjust': 243, 'autoincrement': 520, 'rightclick': 4726, 'kotlin': 3008, 'cordova': 1230, 'accomplish': 188, 'classname': 939, 'union': 5863, 'rights': 4727, 'resizable': 4653, 'sender': 4927, 'request_uri': 4629, 'reached': 4441, 'hides': 2442, 'nest': 3595, 'keydown': 2985, 'listviews': 3135, 'circles': 923, 'localtime': 3163, 'nsregularexpression': 3700, 'integrated': 2733, 'lan': 3017, 'iso88591': 2811, 'however': 2483, 'trailing': 5686, 'hresult': 2487, 'stroke': 5329, 'javac': 2854, 'igniter': 2562, 'javalangnullpointerexception': 2869, 'configurations': 1131, 'drawn': 1682, '__attribute__': 144, 'aligned': 286, 'nosuchmethodexception': 3671, 'duplicated': 1710, 'searches': 4875, 'corresponding': 1239, 'moved': 3485, 'mercurial': 3366, 'slowly': 5106, 'protection': 4292, 'programmer': 4267, 'modification': 3444, 'restrictions': 4686, 'existence': 1918, 'svn': 5443, 'qt4': 4362, 'dragging': 1676, 'http_referer': 2497, 'xdocument': 6250, 'q': 4351, 'cshtml': 1305, 'interpreting': 2765, 'reordering': 4598, 'initializers': 2678, 'followed': 2125, 'coerced': 1006, 'fixnum': 2097, 'definitions': 1448, 'license': 3083, 'indicate': 2644, 'solr': 5139, 'incrementally': 2628, 'hand': 2384, 'rdd': 4438, 'treating': 5717, 'troubleshooting': 5738, 'strategies': 5300, 'clojure': 973, 'setters': 4985, 'expressjs': 1958, 'reserved': 4648, 'relations': 4563, 'scoped': 4840, 'relevant': 4570, 'anymore': 357, 'autowiring': 534, 'flasksqlalchemy': 2102, 'timepicker': 5629, 'checkboxlist': 891, 'inherit': 2662, 'segfault': 4896, 'initializecomponent': 2675, 'sidebar': 5033, 'intervention': 2772, 'scoping': 4842, 'crawl': 1271, 'classification': 936, 'grey': 2341, 'hhmm': 2435, 'duration': 1713, 'objectdatasource': 3732, 'mousewheel': 3482, 'invalidoperationexception': 2778, 'castle': 835, 'windsor': 6186, 'mod': 3430, '#object': 6, 'systemstackoverflowexception': 5494, 'widths': 6163, 'gesture': 2259, 'assert': 461, 'integral': 2731, 'javalangillegalargumentexception': 2863, 'traverse': 5713, 'inheriting': 2665, 'sine': 5068, 'wave': 6090, 'tray': 5715, 'publish': 4314, 'spanish': 5168, 'along': 301, 'earlier': 1724, 'constructs': 1175, 'easier': 1727, 'although': 317, 'forcing': 2139, 'taskbar': 5527, 'greasemonkey': 2336, 'crashed': 1268, 'doctrine2': 1640, 'almost': 299, 'javaxmailmessagingexception': 2887, 'locally': 3160, 'addclass': 231, 'removeclass': 4584, 'barplot': 583, 'targets': 5525, 'fallback': 2001, 'exits': 1924, 'often': 3770, 'datarow': 1367, 'transformation': 5697, 'maintaining': 3249, 'destination': 1507, 'containers': 1185, 'javascripts': 2882, 'accessibility': 183, 'upgrading': 5919, 'permutation': 4001, 'ifs': 2560, 'slightly': 5102, 'certificates': 863, 'delayed': 1453, 'respect': 4664, 'guid': 2369, 'taskrun': 5528, 'periodic': 3994, 'asking': 447, 'enough': 1819, 'mailer': 3243, 'argumenterror': 419, 'hold': 2462, 'vice': 6019, 'versa': 6008, 'scrollview': 4864, 'requesting': 4632, 'differently': 1560, 'smart': 5112, 'invalidate': 2777, 'redefinition': 4508, 'typedef': 5774, 'responseredirect': 4672, 'rmarkdown': 4728, 'latin1': 3033, 'socketio': 5133, 'scrolled': 4859, 'solutions': 5141, 'diff': 1554, 'accounts': 193, 'pooling': 4119, 'localized': 3159, 'proc': 4240, 'cursor': 1323, 'performed': 3989, 'higher': 2449, 'ef6': 1749, '1st': 47, 'highchart': 2447, 'binded': 640, 'signed': 5041, 'literals': 3137, 'clauses': 944, 'administrator': 247, 'hierarchical': 2444, 'permgen': 3997, 'medium': 3353, 'enclosing': 1792, 'ios6': 2795, 'ios5': 2794, 'frequently': 2190, 'developers': 1528, 'programs': 4269, 'leads': 3048, 'javalangnosuchmethoderror': 2868, 'ljava': 3140, 'lang': 3019, 'xmlgregoriancalendar': 6259, 'childs': 906, 'overloaded': 3878, 'momentjs': 3456, 'meteorjs': 3383, 'struggling': 5340, 'spreadsheets': 5195, 'ssis': 5226, 'stacktrace': 5235, 'currency': 1319, '21': 62, 'ibm': 2527, 'from': 2195, 'typetext': 5780, 'userdefined': 5949, 'deletion': 1461, 'optimization': 3827, 'cassandra': 832, 'multiplication': 3521, 'interpret': 2762, 'reactnative': 4447, 'onblur': 3776, 'googlemap': 2309, 'stanford': 5243, 'warn': 6082, 'classs': 942, 'usercontrols': 5948, 'behaving': 612, 'urlspy': 5937, 'pound': 4156, 'outputstream': 3868, 'premature': 4186, 'indent': 2630, 'processed': 4245, 'adjacent': 242, 'observablecollection': 3741, 'selectlist': 4913, 'intent': 2742, 'nonnull': 3657, 'sqlparameter': 5217, 'published': 4315, 'k': 2969, 'ci': 919, 'lat': 3027, 'lng': 3144, 'strongly': 5331, 'lead': 3046, 'xhr': 6252, 'filenotfoundexception': 2048, 'wildfly': 6169, 'gemfile': 2239, 'tweets': 5759, 'interprocess': 2766, 'linebreaks': 3100, 'uitabbarcontroller': 5813, 'nav': 3575, 'referential': 4531, 'countries': 1254, 'depend': 1472, 'team': 5534, 'executables': 1906, 'macos': 3234, 'commaseparated': 1047, 'requirement': 4641, 'plaintext': 4073, 'designing': 1503, 'scss': 4866, 'mozilla': 3490, 'separating': 4940, 'logon': 3190, 'kinect': 2998, 'jscript': 2937, 'selects': 4917, 'follows': 2128, 'removes': 4587, 'osgi': 3853, 'groupbox': 2349, 'shallow': 4999, 'sites': 5077, 'has_one': 2404, 'compareto': 1066, 'shopify': 5014, 'diagram': 1540, 'minor': 3410, 'represented': 4625, 'computers': 1106, 'apart': 367, 'coloring': 1024, 'subcategories': 5358, 'retriving': 4702, 'datatypes': 1379, 'collection_select': 1016, 'scrolls': 4861, 'seen': 4894, 'appender': 384, 'english': 1817, 'sprites': 5205, 'uibuttons': 5791, 'joins': 2920, 'motion': 3474, 'assume': 478, 'subtracting': 5399, 'smallest': 5111, 'injected': 2683, 'qualifier': 4368, 'effective': 1751, 'tips': 5642, 'vista': 6050, 'turned': 5753, 'moment': 3455, 'stopping': 5287, 'recyclerview': 4505, 'print_r': 4223, 'sd': 4867, 'mechanism': 3346, 'unittesting': 5869, 'commons': 1053, 'unordered_map': 5886, 'catalog': 837, 'objectforkey': 3733, 'ago': 271, 'timezones': 5638, 'textfile': 5576, 'sftp': 4994, 'viewcontroller': 6024, 'deallocated': 1412, 'dns': 1634, 'mavericks': 3327, '109': 24, 'people': 3980, 'critical': 1286, 'datarows': 1368, 'hit': 2458, 'comparator': 1063, 'debian': 1413, '#2': 2, 'randomize': 4415, 'arrayliststring': 431, 'httpcontext': 2499, 'retry': 4704, 'javalangarrayindexoutofboundsexception': 2860, 'oauthexception': 3728, 'hovering': 2481, 'msvc': 3504, 'mediaelement': 3349, 'extraction': 1974, 'deal': 1409, 'prefer': 4175, 'lm': 3143, 'polar': 4105, 'facet': 1982, 'attempted': 494, 'regression': 4553, 'asm': 449, '_id': 154, 'before_filter': 604, 'enforcing': 1814, 'fosuserbundle': 2170, 'roll': 4735, 'vba': 5995, 'deviation': 1532, 'integrity': 2736, 'quality': 4371, '365': 95, 'ive': 2837, 'digital': 1565, 'weak': 6095, 'homebrew': 2465, 'fabricjs': 1978, 'sys': 5472, 'pl': 4064, 'bracket': 703, 'fieldset': 2036, 'activating': 213, 'snap': 5121, 'heatmap': 2423, 'qplot': 4357, 'searchbar': 4874, 'restriction': 4685, 'autoload': 522, 'decoded': 1427, 'conf': 1127, 'rect': 4495, 'jasperreports': 2849, 'contextmenu': 1196, 'tries': 5729, 'hierarchy': 2445, 'redirect_to': 4510, 'sentence': 4934, 'technique': 5536, 'jvms': 2966, 'urlaction': 5932, 'fwrite': 2214, 'wants': 6080, 'flipping': 2109, 'unordered': 5885, 'vb6': 5994, 'represents': 4627, 'respective': 4665, 'toast': 5651, 'asterisks': 480, 'fatalerrorexception': 2014, 'suggestion': 5414, 'grids': 2345, 'compiles': 1077, 'indexhtml': 2639, 'formdata': 2160, 'activerecordrecordnotfound': 220, 'calculations': 776, 'expr': 1954, 'dashed': 1350, 'reconnecting': 4489, 'javalangillegalstateexception': 2864, 'wp8': 6219, 'adds': 241, 'expiry': 1941, 'phpsessid': 4028, 'recommendations': 4485, 'handlebarsjs': 2387, 'propertyplaceholderconfigurer': 4286, 'popups': 4129, 'mule': 3507, '34': 91, 'cascade': 826, 'quote': 4391, 'unmatched': 5883, 'hint': 2454, 'pushed': 4326, 'begin': 606, 'alphabet': 303, 'tablet': 5507, '00': 10, 'globals': 2293, 'subfolder': 5367, 'behave': 610, 'markdown': 3294, 'ansible': 353, 'ist': 2818, 'profiles': 4260, 'limiting': 3095, 'formset': 2164, 'chaining': 871, 'filestream': 2054, 'eclipselink': 1736, 'abc': 160, 'grabbing': 2317, 'ngclass': 3619, 'limitations': 3093, 'uiimagepickercontroller': 5797, 'cocos2d': 993, 'identifiers': 2537, 'socketerror': 5131, 'datetimes': 1391, 'scenes': 4828, 'stamp': 5238, 'wizard': 6196, 'ability': 161, 'before_save': 605, 'customising': 1329, 'pros': 4289, 'cons': 1152, 'adt': 252, 'cdata': 848, 'mdi': 3339, 'github': 2283, 'httpget': 2500, 'locals': 3161, 'bins': 645, 'windowlocation': 6175, 'intervals': 2771, 'getelementsbyclassname': 2269, 'mbstring': 3336, 'yesterday': 6285, 'syspath': 5474, '#include': 5, 'getelementbyid': 2268, 'gtk': 2361, 'executenonquery': 1909, 'nib': 3632, 'skipping': 5085, 'hits': 2459, 'ssrs': 5228, 'tpl': 5680, 'collected': 1013, 'signs': 5044, 'cvmat': 1335, 'ndarray': 3584, 'handles': 2391, '55': 125, 'numberformatexception': 3717, 'weighted': 6140, 'drools': 1690, 'primaryexpression': 4217, 'toarray': 5650, 'presented': 4196, '09': 13, 'silent': 5046, 'viewcontrollers': 6025, 'nltk': 3638, 'protocols': 4295, 'sdl2': 4871, 'unbound': 5835, 'callout': 788, 'terminating': 5557, 'thousands': 5595, 'shipping': 5013, 'deeply': 1437, 'app_code': 374, 'grayscale': 2335, 'separators': 4943, 'dropdownlists': 1695, 'selectedindexchanged': 4907, 'omit': 3775, 'applets': 393, 'googles': 2311, 'pdfptable': 3973, 'unsafe': 5896, 'qlineedit': 4355, 'reloaddata': 4574, 'limits': 3096, 'visitors': 6049, 'geolocation': 2255, 'consolewriteline': 1160, 'rack': 4397, 'bat': 592, 'indexer': 2636, 'replicate': 4613, 'figures': 2038, 'routine': 4754, 'anaconda': 326, 'ensuring': 1821, 'f': 1976, 'inflating': 2658, 'windows7': 6182, 'solved': 5143, 'chinese': 907, 'navigationbar': 3580, 'httpservletresponse': 2510, 'sha256': 4996, 'avfoundation': 539, 'uniqueness': 5866, 'candidate': 797, 'rewriting': 4719, 'pan': 3912, 'hyphen': 2521, 'daily': 1345, 'templatefield': 5546, 'pulling': 4318, 'viewed': 6028, 'facets': 1983, 'parentchild': 3932, 'fcm': 2017, 'inserts': 2703, 'consistently': 1156, 'zindex': 6302, 'datatemplate': 1377, 'cleaning': 947, 'weblogic': 6114, 'family': 2004, 'strlen': 5328, '1024': 21, 'px': 4332, 'dataannotations': 1353, 'emulate': 1786, 'sysargv': 5473, '19': 42, 'getdate': 2267, 'filled': 2058, 'turns': 5755, 'php5': 4020, 'concepts': 1113, 'prices': 4215, 'combined': 1035, 'contract': 1206, 'apples': 390, 'telerik': 5539, 'acces': 178, 'enforce': 1813, 'buffering': 729, 'streamed': 5306, 'idiom': 2543, 'unset': 5899, 'recreate': 4494, 'preferred': 4179, 'directed': 1573, 'collecting': 1014, 'expanding': 1928, 'collapsing': 1011, 'widgets': 6161, 'bigint': 632, 'pthread_create': 4310, 'dumping': 1708, '48': 113, 'asio': 445, 'descriptor': 1493, 'rotated': 4743, 'previews': 4211, 'navigationcontroller': 3581, 'querysets': 4379, 'interact': 2743, 'hyperlinks': 2520, 'compressed': 1099, 'apachepoi': 366, 'tracking': 5684, 'intact': 2728, 'parametrized': 3929, 'newer': 3609, 'migrations': 3396, 'spawn': 5171, 'repo': 4615, '110': 26, 'glsl': 2295, 'writeobject': 6227, 'headless': 2421, 'scopes': 4841, 'onetoonefield': 3787, 'crudrepository': 1300, 'talk': 5520, 'flat': 2103, 'sizeof': 5082, 'selfclosing': 4921, 'crossorigin': 1296, 'occurences': 3753, 'rxjava': 4788, 'dialogbox': 1543, 'complains': 1081, 'elapsed': 1762, 'lnk2001': 3145, 'clob': 971, 'checkboxs': 892, 'ossystem': 3854, 'substitute': 5395, 'itemtemplate': 2823, 'future': 2212, 'feedback': 2022, 'recipient': 4476, 'away': 545, 'alias': 283, 'nuget': 3710, 'rc': 4435, 'proxies': 4305, 'gruntjs': 2356, 'intended': 2740, 'twilio': 5762, 'keras': 2979, 'serialized': 4955, 'colored': 1023, 'offline': 3768, 'gmap': 2297, 'placing': 4071, 'anyway': 361, 'committed': 1051, 'vue': 6068, 'didselectrowatindexpath': 1552, 'xxxx': 6276, 'rating': 4428, 'redirected': 4512, 'factors': 1987, 'db2': 1396, 'subplots': 5379, 'finalize': 2065, 'collector': 1019, 'reusing': 4711, 'browse': 718, 'leaves': 3058, 'contenttype': 1193, 'oserror': 3852, 'blog': 666, 'assertionerror': 463, 'structured': 5338, 'octal': 3760, 'gain': 2219, 'manipulating': 3270, 'newbie': 3608, 'iostream': 2798, 'miss': 3416, 'checkout': 898, 'outofmemoryerror': 3864, 'conflict': 1137, 'wsgirequest': 6235, 'xmpp': 6264, 'datacontext': 1359, 'outputs': 3867, 'refuses': 4542, 'qstring': 4360, 'stub': 5343, 'slots': 5103, 'findviewbyid': 2072, 'exiting': 1923, 'webforms': 6109, 'backcolor': 560, 'bindparam': 644, 'googlemaps': 2310, 'throwable': 5609, 'spa': 5162, 'dao': 1347, 'macho': 3233, 'unauthorized': 5832, 'acl': 198, 'cube': 1312, 'availability': 535, 'xmlns': 6261, 'appdelegate': 376, 'std': 5266, 'jndi': 2910, 'shuffle': 5029, 'battleship': 595, 'timely': 5626, 'fashion': 2009, 'radiobuttonlist': 4401, 'books': 677, 'tapped': 5522, 'fresh': 2191, 'vertices': 6016, 'vertex': 6013, 'persistence': 4005, 'stubbing': 5344, 'recurring': 4499, 'buildxml': 736, 'winapi': 6173, 'pad': 3896, 'feel': 2024, 'subprocesscheck_output': 5382, 'mainobject': 3247, 'presence': 4193, 'perspective': 4010, 'autoscroll': 531, 'yahoo': 6279, '#define': 3, 'treemap': 5719, 'crlf': 1287, 'publishing': 4316, 'plan': 4074, 'supplied': 5427, 'tricks': 5726, 'commysqljdbcdriver': 1059, 'us': 5938, 'jetty': 2901, 'awteventqueue0': 549, 'separation': 4941, 'cleanly': 948, 'little': 3138, 'endian': 1806, 'forced': 2138, 'update_attributes': 5913, 'dropping': 1699, 'rails4': 4405, 'picklist': 4039, 'retrieved': 4699, 'semicolon': 4924, 'sized': 5081, 'dreamweaver': 1684, 'fstream': 2200, 'requestquerystring': 4635, 'singletons': 5071, 'c1083': 763, 'opencv2': 3802, 'formulas': 2166, 'mouseup': 3481, '504': 119, 'miles': 3397, 'shrink': 5028, 'phtml': 4033, 'get_or_create': 2261, 'somewhere': 5149, 'tail': 5515, 'raspberry': 4424, 'pi': 4035, 'nonlinear': 3655, 'uniqid': 5864, 'weekends': 6136, 'bundling': 744, 'expiring': 1940, 'soon': 5151, 'djangorestframework': 1629, 'choosing': 912, 'lifetime': 3087, 'nsinvalidargumentexception': 3692, 'passenger': 3951, 'c++0x': 761, 'wheres': 6150, 'fadein': 1991, 'drawbacks': 1678, 'jasper': 2847, 'idle': 2546, 'mod_rewrite': 3431, 'ngdisabled': 3621, 'finger': 2074, 'guaranteed': 2363, 'translation': 5705, 'kivy': 3000, 'uisegmentedcontrol': 5810, 'simulating': 5061, 'reversing': 4715, 'detailed': 1515, 'sever': 4992, 'flush': 2116, 'enumerate': 1835, '61': 130, 'bind_param': 639, 'locks': 3174, 'prism': 4233, 'viewbag': 6023, 'legacy': 3062, 'captured': 813, 'passes': 3952, 'gracefully': 2318, '360': 94, 'degrees': 1450, 'locating': 3166, 'modelspy': 3441, 'rewriterule': 4718, 'subarray': 5356, 'slices': 5094, 'reusable': 4709, 'clears': 954, 'javaee': 2856, 'rubys': 4771, 'synchronously': 5468, 'nonnullable': 3658, 'dbseed': 1401, 'doubles': 1662, 'teamcity': 5535, 'credit': 1284, 'scanning': 4822, 'ngoptions': 3627, 'dice': 1545, 'copied': 1226, 'biginteger': 633, 'fedora': 2020, 'rangeerror': 4419, 'setrequestheader': 4982, 'red': 4506, '1gb': 46, 'pre': 4166, 'aes256': 259, 'toggling': 5656, 'rvalue': 4785, 'uidatepicker': 5795, 'scrollable': 4856, 'history': 2457, 'exited': 1922, 'mocked': 3427, 'adb': 229, 'x86_64': 6243, 'symmetric': 5461, 'feeds': 2023, 'requestparam': 4634, 'reportviewer': 4620, 'jsfiddle': 2941, 'recompile': 4487, '71': 135, 'cancellation': 795, 'portable': 4131, 'descriptions': 1492, 'clustering': 986, 'thymeleaf': 5616, 'wget': 6146, 'executorservice': 1914, 'eof': 1842, 'systemtype': 5497, 'xyz': 6278, 'nsobject': 3698, 'charset': 883, 'downloadable': 1668, 'filecopy': 2042, 'idiomatic': 2544, 'defines': 1445, 'remainder': 4577, 'messaging': 3376, 'prototypes': 4298, 'recipients': 4477, 'datetimenow': 1389, 'dirty': 1583, 'squares': 5222, 'improve': 2603, 'ended': 1805, 'apache2': 365, 'readfile': 4453, 'corrupt': 1241, 'spritekit': 5204, 'childnodes': 904, 'stripping': 5327, 'impossible': 2602, 'evenly': 1874, 'divisible': 1624, 'multiplayer': 3518, 'viable': 6018, 'policy': 4106, 'estimation': 1865, 'term': 5553, 'javalangunsatisfiedlinkerror': 2874, 'classloader': 938, 'mscorlibdll': 3499, 'looks': 3202, 'httphandler': 2501, 'sums': 5421, 'icloud': 2528, 'varying': 5992, 'rxjs': 4789, 'clientid': 964, 'tile': 5620, 'scaffolding': 4811, 'snake': 5120, 'vs2012': 6065, 'mpmovieplayerviewcontroller': 3495, 'delphi': 1466, 'stray': 5302, 'msword': 3505, 'qtablewidget': 4365, 'representing': 4626, 'adapt': 227, 'exhausted': 1916, 'subversion': 5402, 'graphing': 2331, 'shutdown': 5030, 'shortcuts': 5018, 'int64': 2727, 'edittext': 1746, '90': 142, 'rank': 4421, 'portion': 4133, 'inference': 2653, 'quantity': 4373, 'mysql_connect': 3548, 'clientserver': 966, 'des': 1488, 'ports': 4135, 'dicts': 1550, 'geo': 2252, 'degree': 1449, 'hhmmss': 2436, 'strcpy': 5304, 'invoice': 2783, 'pinvoke': 4052, 'confusing': 1142, 'versioning': 6010, 'early': 1725, 'hive': 2461, 'dumped': 1707, 'nonempty': 3651, 'lt': 3222, 'disposed': 1611, 'webstorm': 6131, 'reponse': 4616, 'lvalue': 3226, 'menubar': 3363, 'watermark': 6088, 'specialization': 5174, 'ioexception': 2791, 'subscriptable': 5389, 'compressing': 1100, 'databound': 1358, 'sklearn': 5087, 'ie11': 2550, 'supply': 5428, 'foreground': 2141, 'flickering': 2107, 'automate': 524, 'prior': 4231, 'gender': 2241, 'abbreviations': 159, 'userid': 5950, 'transactionscope': 5693, 'reach': 4440, 'httpresponsemessage': 2507, 'fetched': 2027, 'viewpager': 6033, 'javanetsocketexception': 2879, 'uiimages': 5798, 'datefromstring': 1383, '#1': 1, 'linearlayout': 3099, 'pdoexception': 3976, 'targeting': 5524, 'aka': 274, 'rangebased': 4418, 'administration': 246, 'nosuchmethoderror': 3670, 'manytomanyfields': 3278, 'dispatch_async': 1603, '2gb': 74, 'macosx': 3235, 'improving': 2604, 'stdlist': 5270, 'associate': 473, 'shorthand': 5021, 'documentwrite': 1647, 'converters': 1219, 'readline': 4455, 'belongs_to': 619, 'handlebars': 2386, 'branch': 705, 'subqueries': 5384, 'buttonclick': 749, 'twitterbootstrap': 5765, 'sscanf': 5224, 'samples': 4799, 'systemoutprintln': 5492, 'nanoseconds': 3571, 'escaped': 1860, 'thirdparty': 5592, 'nonconst': 3648, 'friend': 2192, '193': 44, 'encountered': 1799, 'daylight': 1393, 'savings': 4807, 'unzip': 5911, 'wix': 6195, 'stackoverflowerror': 5234, 'finite': 2078, 'logcat': 3180, 'reject': 4557, 'timespan': 5634, 'german': 2258, 'namespaced': 3567, 'ear': 1723, 'frequent': 2189, 'sheets': 5007, 'c#s': 759, 'transforming': 5698, 'ran': 4412, 'aspbutton': 452, 'select_tag': 4903, 'stylesheets': 5353, 'ngroute': 3629, 'submits': 5375, 'precompiled': 4170, 'aligning': 287, 'allocating': 293, 'jodatime': 2916, 'uploader': 5922, 'subfolders': 5368, 'interview': 2773, 'translated': 5703, 'qapplication': 4352, 'birth': 646, 'nio': 3637, 'things': 5588, 'deselect': 1495, 'strength': 5312, 'springsecurity': 5201, 'languages': 3021, 'edited': 1742, 'saying': 4809, 'cv': 1334, 'capital': 807, 'mp4': 3492, 'move_uploaded_file': 3484, 'meant': 3343, 'intermediate': 2753, 'initialising': 2672, 'thumb': 5613, 'pushviewcontroller': 4328, 'mvc2': 3538, 'stdclass': 5267, 'backgroundposition': 565, 'poor': 4120, '_': 143, 'filereader': 2051, 'temperature': 5543, 'ending': 1807, 'carry': 823, 'restricted': 4683, 'scripting': 4853, 'fetchall': 2026, 'fancy': 2006, 'solid': 5138, 'money': 3458, 'packing': 3895, 'forwarding': 2169, 'dropdowns': 1696, 'corresponds': 1240, 'homepage': 2466, 'javalangruntimeexception': 2872, 'thinks': 5590, 'titanium': 5643, 'consolereadline': 1159, 'face': 1979, 'hashmaps': 2410, '502': 117, 'developed': 1526, 'intensive': 2741, 'kepler': 2978, 'luna': 3225, 'htmlelement': 2494, 'getattribute': 2264, 'java8': 2851, 'netty': 3602, 'trust': 5743, 'person': 4008, 'dim': 1567, 'prototypejs': 4297, 'guarantee': 2362, 'requestbody': 4630, 'hashset': 2411, 'exclusive': 1902, 'stateless': 5253, 'stores': 5292, 'misplaced': 3415, 'permutations': 4002, 'println': 4229, '05': 12, 'printed': 4225, 'gridlines': 2344, 'promises': 4277, 'seleniumwebdriver': 4919, 'transparency': 5707, 'probably': 4237, '__init__py': 150, 'vectorstring': 6002, 'forin': 2145, 'pojo': 4103, 'actionlink': 205, 'fits': 2091, 'synchronized': 5466, 'amp': 324, 'idictionary': 2542, 'bearer': 599, 'barcode': 582, 'keychain': 2983, 'troubles': 5737, 'unusual': 5908, 'assetsprecompile': 466, 'memoryerror': 3360, 'ews': 1885, 'occur': 3749, 'viewdata': 6026, 'reveal': 4712, 'longrunning': 3199, 'channels': 878, 'subsetting': 5394, 'community': 1058, 'sec': 4877, 'cleared': 951, 'zurb': 6310, 'resulting': 4689, 'shorter': 5019, 'benchmark': 620, 'gldrawelements': 2289, 'individually': 2651, 'accents': 171, 'standards': 5242, '80': 138, 'accessory': 187, 'varbinary': 5985, 'systemdatetime': 5481, 'springs': 5200, 'hacking': 2380, 'screens': 4850, 'fileoutputstream': 2049, 'arm': 423, 'ios8': 2797, 'grep': 2340, 'tooltips': 5670, 'fileinputstream': 2045, 'enemy': 1812, 'movement': 3486, 'recvfrom': 4504, 'threadpool': 5601, 'workflow': 6209, 'subprocesspopen': 5383, 'isolated': 2813, 'accepted': 174, 'gap': 2223, 'winxp': 6190, 'windowlocationhref': 6176, 'ngchange': 3618, 'grand': 2325, 'central': 859, 'dto': 1701, 'uint8': 5804, '1110': 28, 'nghide': 3622, 'tensor': 5551, 'placed': 4066, 'reads': 4457, 'snippet': 5122, 'contenteditable': 1189, 'uicollectionviewcell': 5793, 'producer': 4251, 'proceed': 4243, 'fibonacci': 2033, 'phase': 4013, 'indirectly': 2649, 'sequelize': 4946, 'leaked': 3052, 'require_once': 4638, 'dotted': 1660, 'juno': 2963, 'javalibrarypath': 2876, 'sailsjs': 4795, 'measuring': 3345, 'tiff': 5619, 'pod': 4095, 'oneliner': 3783, 'xx': 6274, 'bigger': 630, 'textboxs': 5572, 'inspector': 2706, 'quiz': 4389, 'digest': 1563, 'belong': 616, 'transferred': 5695, 'capitan': 809, 'balance': 576, 'chooser': 911, 'dialect': 1541, 'finishes': 2077, 'f#': 1977, 'inlines': 2688, 'dividing': 1623, 'arrange': 425, 'onfocus': 3788, 'chromedriver': 915, 'contentlength': 1190, 'entering': 1824, 'tdd': 5533, 'multilanguage': 3513, 'closes': 978, 'bigquery': 635, 'bizarre': 653, 'listint': 3127, 'datetimedate': 1387, 'websql': 6130, 'numerical': 3720, 'vagrant': 5968, 'textfields': 5575, 'parameterless': 3927, 'nvarchar': 3724, 'strpos': 5332, 'strptime': 5333, 'serializer': 4956, 'disconnect': 1593, 'marshal': 3301, 'systemint32': 5486, 'to_json': 5649, 'dword': 1714, 'authorized': 511, 'modes': 3443, 'vanilla': 5982, 'responsebody': 4671, 'keycode': 2984, 'fully': 2206, 'sphere': 5186, 'xelement': 6251, 'pos': 4136, 'tagging': 5513, 'form1': 2149, 'cf': 865, 'facing': 1984, 'apk': 370, 'logins': 3187, 'involving': 2787, 'svm': 5442, 'uibarbuttonitem': 5788, 'uitoolbar': 5820, 'happening': 2399, 'exceeds': 1894, 'sonar': 5150, 'complaining': 1080, 'useless': 5945, 'bundles': 743, 'paired': 3908, 'webdriverjs': 6106, 'systemdrawing': 5482, 'actionscript': 210, 'gnu': 2299, 'makefiles': 3255, 'logstash': 3193, 'paused': 3965, 'subtraction': 5400, 'basics': 590, 'aspectj': 454, '510': 121, 'dos': 1657, 'bypassing': 752, 'uid': 5794, 'contours': 1205, 'form2': 2150, 'yaml': 6280, 'rounding': 4748, 'selectable': 4904, 'trans': 5689, 'offer': 3765, '111': 27, '36': 93, 'linkage': 3104, 'rootscope': 4740, 'preexisting': 4174, 'propertys': 4287, 'workers': 6208, '307': 82, 'kv': 3009, 'threadlocal': 5600, 'trap': 5711, 'accesing': 179, 'nonnegative': 3656, 'phrases': 4032, 'shifting': 5011, 'speeding': 5184, 'factories': 1986, 'booleans': 680, 'snippets': 5123, 'selections': 4912, 'runtimegetruntime': 4783, 'multiprocess': 3524, 'official': 3767, 'qtableview': 4364, 'cost': 1245, 'viewstate': 6036, 'nbsp': 3583, 'messagesource': 3375, 'playback': 4078, 'gt': 2360, 'qualifying': 4370, 'diagnostic': 1537, 'behaves': 611, 'erb': 1852, 'executereader': 1910, 'weekly': 6137, 'webserver': 6122, 'dynamodb': 1720, 'webpart': 6119, 'ejb3': 1760, 'cleaner': 946, 'synthesize': 5471, 'dynamical': 1717, 'qlabel': 4354, 'form_for': 2151, 'cgrect': 868, 'trick': 5725, 'sip': 5073, 'eventlistener': 1877, 'classifier': 937, 'loss': 3210, 'student': 5346, 'gpa': 2313, 'sapui5': 4801, 'httpservletrequest': 2509, 'dashboard': 1349, 'kwargs': 3010, 'infer': 2652, 'uuid': 5962, 'templating': 5548, 'admob': 248, 'exposing': 1953, '70': 134, 'expansion': 1929, 'latin': 3032, 'windowonbeforeunload': 6177, 'telling': 5541, 'rbind': 4434, 'ipn': 2803, 'globalasax': 2291, 'indexerror': 2637, 'checkedlistbox': 894, 'playlist': 4083, 'checksum': 900, 'boxplot': 700, 'sorry': 5152, 'went': 6145, 'avaudioplayer': 537, 'easily': 1729, 'uiviewcontrollers': 5823, 'slug': 5108, '322': 87, 'arg': 416, 'aliases': 284, 'bank': 578, 'outgoing': 3860, 'jsondumps': 2946, 'filesize': 2053, 'locationhref': 3168, '303': 81, 'casts': 836, 'comparable': 1062, 'compiletime': 1078, 'quickest': 4386, 'constructed': 1170, 'sendkeys': 4929, 'reasons': 4466, 'disconnected': 1594, 'sequential': 4949, 'aware': 544, 'realloc': 4460, 'swift3': 5449, 'highlighted': 2452, 'gis': 2281, 'networking': 3604, 'nonstandard': 3661, 'minimal': 3406, 'switchcase': 5454, 'eliminate': 1771, 'soapui': 5128, 'releasing': 4569, 'rejected': 4558, 'perfect': 3985, 'wasnt': 6085, 'gcd': 2233, 'illegalargumentexception': 2572, 'gstreamer': 2358, 'as3': 440, 'crossthread': 1298, 'cancelled': 796, 'h1': 2377, 'scalable': 4813, 'subdirectories': 5363, 'spy': 5206, 'dual': 1703, 'blueprint': 668, 'pg': 4011, 'singly': 5072, 'systeminvalidoperationexception': 5487, 'afterwards': 266, 'monday': 3457, 'tuesday': 5749, 'infinity': 2656, 'fadeout': 1992, 'deny': 1471, 'gccs': 2232, '#pragma': 7, 'among': 321, 'constrained': 1166, 'scrollviewer': 4865, 'initially': 2680, 'listboxes': 3119, 'principal': 4221, 'actionviewtemplateerror': 211, 'held': 2425, 'corpus': 1235, 'hi': 2437, 'locationpath': 3169, 'php7': 4021, 'blanks': 658, 'flushing': 2117, 'newest': 3610, 'systemexit': 5484, 'doubly': 1663, 'hibernatecfgxml': 2439, 'treeset': 5721, 'tiles': 5621, 'setattribute': 4978, 'ie6': 2551, 'phones': 4016, 'implementations': 2589, 'driving': 1689, 'aspxgridview': 458, 'launcher': 3037, 'alternating': 314, 'constantly': 1163, 'interpolation': 2761, 'evaluated': 1870, 'notebook': 3674, 'completes': 1086, 'dtype': 1702, 'angularui': 340, 'scaled': 4816, 'bullets': 740, 'appendchild': 382, 'secret': 4881, 'virtualbox': 6042, 'unspecified': 5902, 'zipping': 6306, '202': 61, 'clip': 968, 'pst': 4308, 'jlabels': 2907, 'vulnerability': 6070, 'vc11': 5999, 'comprehensions': 1097, 'rdata': 4437, 'cursors': 1324, 'badge': 575, 'accordingly': 190, 'geometry': 2257, 'validators': 5978, 'traversing': 5714, 'verifying': 6007, 'attempts': 496, 'selfsigned': 4922, 'reaching': 4443, 'ipv4': 2805, 'ipv6': 2806, 'rectangular': 4498, 'difficulty': 1562, 'rt': 4766, 'fread': 2180, 'viewwillappear': 6037, 'modelchoicefield': 3437, 'lefthand': 3061, 'technology': 5538, 'cartesian': 825, 'lexical': 3076, 'dependencyproperty': 1475, 'diagonal': 1538, 'touches': 5678, 'jbuttons': 2893, 'triple': 5735, 'signup': 5045, 'util': 5959, 'noob': 3665, 'mousedown': 3476, 'upstream': 5928, 'slows': 5107, 'runworkercompleted': 4784, 'disallow': 1588, 'shell_exec': 5009, 'visited': 6047, 'cert': 860, 'dbcreate': 1398, 'freeing': 2183, 'poll': 4107, 'lotus': 3214, 'notes': 3676, 'pageload': 3899, 'mysterious': 3559, 'relate': 4559, 'typeahead': 5771, 'incremental': 2627, 'disposing': 1612, 'cpus': 1266, 'qt5': 4363, 'yosemite': 6291, 'datasources': 1372, 'unsatisfiedlinkerror': 5897, 'natural': 3574, 'goal': 2301, 'oauth2': 3727, 'verbose': 6004, 'dlopen': 1633, 'toolbox': 5665, 'uk': 5826, 'brew': 712, 'expanded': 1927, 'sticky': 5280, 'algorithms': 282, 'whenever': 6149, 'servicestack': 4968, 'fluentnhibernate': 2115, 'capabilities': 804, 'qr': 4359, 'modalpopupextender': 3434, 'regardless': 4544, 'triangles': 5724, 'setuptools': 4991, 'class_name': 931, 'deletes': 1459, 'multivariate': 3530, 'sqlce': 5209, 'inferred': 2654, 'falls': 2002, 'tolowercase': 5660, 'dereferencing': 1485, 'fontsize': 2132, 'est': 1862, 'textboxtext': 5573, 'echoing': 1734, 'array_search': 427, 'independently': 2633, 'zeroes': 6299, 'majorminor': 3252, 'jupyter': 2964, 'graphical': 2329, 'webgrid': 6111, 'unqualifiedid': 5889, 'unbuffered': 5836, 'masking': 3306, 'antipattern': 356, 'delta': 1467, 'compound': 1095, 'autogenerated': 518, 'getters': 2275, 'palindrome': 3911, 'orgjsonjsonexception': 3844, 'actionperformed': 207, 'solaris': 5137, 'ts': 5748, 'salt': 4797, 'fs': 2198, 'deserialized': 1498, 'bubbling': 724, 'systemdatasqlclientsqlexception': 5480, 'sha1': 4995, 'tmp': 5648, 'th': 5582, 'in_array': 2606, 'strcmp': 5303, 'unterminated': 5905, 'projection': 4274, 'moduleexports': 3451, 'elif': 1770, 'revert': 4716, 'accented': 170, 'unhide': 5857, 'mapstring': 3289, 'batches': 594, 'barchart': 581, 'slides': 5098, 'fft': 2031, 'javalangnumberformatexception': 2870, 'spam': 5166, 'differ': 1555, 'repetition': 4606, 'graphic': 2328, 'down': 1665, 'lon': 3194, 'anywhere': 362, 'stale': 5237, 'totally': 5675, 'threadsleep': 5604, 'wild': 6166, '415': 107, 'overlaps': 3875, 'ivars': 2836, '310': 84, 'theano': 5584, 'silently': 5047, 'button_to': 748, 'httpmodule': 2502, 'autoplay': 530, 'equations': 1848, 'constrain': 1165, 'fulltext': 2205, 'nstextfield': 3702, 'ibaction': 2526, 'numpys': 3722, 'kendoui': 2977, 'stacking': 5232, 'continues': 1199, 'drawimage': 1680, 'messageboxshow': 3373, 'quotation': 4390, 'describe': 1490, 'distributions': 1619, 'sides': 5034, 'weekend': 6135, 'persian': 4003, 'modulus': 3454, 'exponent': 1948, 'terms': 5558, 'opposite': 3825, 'displaynone': 1608, 'rational': 4430, 'classforname': 934, 'isolation': 2814, 'stats': 5262, 'french': 2187, 'areas': 414, 'reinstall': 4556, 'fading': 1993, 'parenthesis': 3934, 'onreadystatechange': 3792, 'j': 2838, 'tableviews': 5510, 'appsettings': 406, 'performselector': 3992, 'seg': 4895, 'expandablelistview': 1926, 'socketexception': 5132, 'rx': 4787, 'deferred': 1442, 'dynamics': 1719, 'untrusted': 5906, 'javabean': 2853, 'calloc': 787, 'qualifiers': 4369, 'wanted': 6079, 'eclipses': 1737, 'printable': 4224, 'elsewhere': 1775, 'intercepting': 2748, 'destructors': 1512, 'how': 2482, 'injector': 2686, 'train': 5687, 'mulitple': 3508, 'ivar': 2835, 'unsubscribe': 5903, 'rpc': 4760, 'swings': 5451, 'shaders': 4997, 'blue': 667, 'notified': 3682, 'len': 3066, 'systemdatadatarowview': 5479, 'mysqli_connect': 3556, 'hyphens': 2522, 'leaf': 3049, 'applicationcontextxml': 397, 'reserve': 4647, 'totals': 5676, 'modulo': 3453, 'authorizeattribute': 510, 'belonging': 617, 'selecteditem': 4908, 'unnecessary': 5884, 'httpsurlconnection': 2511, 'checker': 895, 'ptr': 4312, 'text_field': 5566, 'potentially': 4155, 'dangerous': 1346, 'bounding': 695, 'form_tag': 2152, 'uiviews': 5824, 'articles': 436, 'codeigniters': 1002, 'wikipedia': 6165, 'mathround': 3320, 'experience': 1935, 'ancestor': 330, 'capacity': 805, 'csharp': 1304, 'artifacts': 438, 'encoder': 1795, 'stealing': 5277, 'stdfunction': 5268, 'mvn': 3542, 'strtotime': 5334, 'converts': 1221, 'soapfault': 5127, 'guis': 2372, 'enclosed': 1791, 'far': 2008, 'nullpointer': 3713, 'autoimplemented': 519, 'jtoken': 2958, 'signatures': 5040, 'mailto': 3245, 'popen': 4122, 'renderer': 4593, 'addon': 238, 'touchstart': 5679, 'alloc': 290, 'prepareforsegue': 4190, 'filepath': 2050, 'bmp': 671, 'legends': 3065, 'firstordefault': 2089, 'possibility': 4143, 'cap': 803, 'envelope': 1839, 'inclusion': 2617, 'alfresco': 280, 'replaceall': 4608, 'ado': 249, 'droppable': 1697, 'aspnetmvc': 456, 'resx': 4693}\n",
            "{1677: 'draw', 5231: 'stacked', 4394: 'r', 3545: 'mysql', 4901: 'select', 4492: 'records', 1386: 'datetime', 2034: 'field', 3070: 'less', 5178: 'specified', 5979: 'value', 5555: 'terminate', 6181: 'windows', 4014: 'phone', 139: '81', 373: 'app', 2260: 'get', 1320: 'current', 5623: 'time', 5175: 'specific', 1255: 'country', 6017: 'via', 2929: 'jquery', 1134: 'configuring', 5661: 'tomcat', 5942: 'use', 5227: 'ssl', 546: 'awesome', 3596: 'nested', 4977: 'set', 4089: 'plugin', 230: 'add', 3607: 'new', 905: 'children', 5718: 'tree', 5990: 'various', 3075: 'levels', 1275: 'create', 3280: 'map', 2942: 'json', 4670: 'response', 4768: 'ruby', 4403: 'rails', 77: '3', 4763: 'rspec', 5560: 'test', 3384: 'method', 784: 'called', 5197: 'springboot', 3085: 'lifecycle', 1897: 'exception', 2596: 'import', 1352: 'data', 1895: 'excel', 1354: 'database', 5954: 'using', 4019: 'php', 3747: 'obtaining', 3731: 'object', 3926: 'parameterized', 5770: 'type', 6194: 'without', 1171: 'constructing', 930: 'class', 2800: 'ipad', 4910: 'selecting', 5565: 'text', 2704: 'inside', 2693: 'input', 5521: 'tap', 2932: 'jquerys', 2208: 'function', 1735: 'eclipse', 760: 'c++', 3403: 'mingw', 4262: 'program', 5556: 'terminated', 2881: 'javascript', 779: 'call', 3782: 'one', 4296: 'prototype', 351: 'another', 2769: 'intersection', 3117: 'list', 4983: 'sets', 3196: 'longer', 162: 'able', 2441: 'hide', 2982: 'keyboard', 2796: 'ios7', 2025: 'fetch', 2981: 'key', 5448: 'swift', 873: 'change', 4060: 'pivot', 2418: 'header', 5544: 'template', 137: '8', 1149: 'connectionstring', 1803: 'encryption', 3071: 'let', 5786: 'ui', 4538: 'refresh', 3195: 'long', 4777: 'running', 3820: 'operation', 625: 'better', 6091: 'way', 1907: 'execute', 2039: 'file', 4346: 'python', 1157: 'console', 3866: 'output', 4774: 'run', 3253: 'make', 48: '2', 5615: 'thumbnails', 1001: 'codeigniter', 2850: 'java', 880: 'character', 6062: 'vs', 879: 'char', 3359: 'memory', 5940: 'usage', 684: 'bootstrap', 3433: 'modal', 976: 'close', 1822: 'enter', 4199: 'press', 3112: 'linq', 4376: 'query', 2348: 'group', 4700: 'retrieving', 3983: 'percentage', 3012: 'label', 2816: 'issue', 3804: 'openerp', 2973: 'keep', 3739: 'objects', 6022: 'view', 4818: 'scaling', 551: 'axis', 500: 'attributeerror', 3652: 'nonetype', 499: 'attribute', 5191: 'split', 381: 'append', 3311: 'mat', 4607: 'replace', 3778: 'onclick', 4509: 'redirect', 4266: 'programme', 181: 'accesscontrolalloworigin', 4194: 'present', 4631: 'requested', 4662: 'resource', 1855: 'error', 1280: 'creating', 757: 'c#', 798: 'cannot', 2594: 'implicitly', 1216: 'convert', 5315: 'string', 1627: 'django', 3438: 'modelform', 5023: 'show', 1620: 'div', 5096: 'slide', 540: 'avoid', 746: 'busy', 3022: 'laravel', 99: '4', 4708: 'returns', 273: 'ajax', 4146: 'post', 2385: 'handle', 6282: 'year', 4703: 'retrofit', 5070: 'singleton', 2357: 'gson', 1263: 'cpp', 3387: 'mfc', 1229: 'copying', 6096: 'web', 4526: 'reference', 4273: 'project', 5671: 'top', 2093: 'five', 2699: 'insert', 2634: 'index', 364: 'apache', 4097: 'poi', 3898: 'page', 2154: 'format', 6212: 'worksheet', 5646: 'tkinter', 4270: 'progress', 580: 'bar', 5290: 'store', 2575: 'image', 3960: 'path', 2895: 'jdbc', 1147: 'connection', 474: 'associated', 3262: 'managed', 3519: 'multiple', 5506: 'tables', 3436: 'model', 6290: 'yii2', 1208: 'controller', 3565: 'names', 455: 'aspnet', 3540: 'mvc4', 834: 'casting', 2729: 'integer', 426: 'array', 2276: 'getting', 5923: 'uploading', 950: 'clear', 3385: 'methods', 4228: 'printing', 2112: 'floats', 3716: 'number', 6300: 'zeros', 5051: 'simple', 756: 'c', 3603: 'network', 3725: 'o', 3081: 'library', 5955: 'usr', 636: 'bin', 2722: 'instead', 3153: 'local', 649: 'bitmap', 637: 'binary', 3821: 'operations', 1438: 'default', 3241: 'mail', 6210: 'working', 1828: 'entity', 2178: 'framework', 1615: 'distinct', 1969: 'extjs', 893: 'checked', 3642: 'nodes', 5374: 'submit', 3130: 'lists', 1767: 'element', 3949: 'pass', 5981: 'values', 2490: 'html', 2660: 'information', 1548: 'dictionary', 5100: 'slidetoggle', 1605: 'display', 1276: 'created', 3801: 'opencv', 334: 'android', 2719: 'instantiating', 3566: 'namespace', 6220: 'wpf', 4849: 'screen', 4657: 'resolution', 1188: 'content', 5257: 'static', 5505: 'table', 852: 'cell', 1606: 'displayed', 2793: 'ios', 141: '9', 623: 'best', 514: 'autocomplete', 5413: 'suggest', 281: 'algorithm', 1374: 'datastructure', 558: 'backbone', 3440: 'modelsave', 4928: 'sending', 4329: 'put', 4515: 'redirects', 2285: 'given', 4973: 'session', 914: 'chrome', 3537: 'mvc', 4433: 'razor', 3417: 'missing', 1017: 'collections', 2148: 'form', 1382: 'date', 1405: 'ddmmyyyy', 5349: 'style', 1718: 'dynamically', 3105: 'linkbutton', 262: 'affecting', 3856: 'others', 888: 'check', 4098: 'point', 3097: 'line', 963: 'client', 4628: 'request', 1997: 'fails', 5627: 'timeout', 5065: 'simultaneously', 199: 'acquire', 5912: 'update', 2327: 'graph', 3322: 'matplotlib', 1375: 'datatable', 2690: 'inner', 2917: 'join', 1715: 'dynamic', 1029: 'columns', 1236: 'correct', 228: 'adapter', 3962: 'pattern', 3735: 'objective', 4803: 'save', 2122: 'folder', 2563: 'ignore', 4758: 'rows', 5156: 'sorting', 1652: 'dom', 337: 'angular', 1576: 'directive', 4497: 'rectangles', 3617: 'next', 3928: 'parameters', 5931: 'url', 6297: 'zend', 2663: 'inheritance', 180: 'access', 4238: 'problem', 5980: 'valueerror', 3312: 'match', 3953: 'passing', 5134: 'sockets', 903: 'child', 1499: 'deserializing', 6257: 'xml', 6009: 'version', 395: 'application', 1905: 'executable', 1187: 'contains', 5904: 'unsupported', 410: 'architecture', 2525: 'i386', 1031: 'com', 5935: 'urlopen', 1854: 'errno', 20: '10061', 5865: 'unique', 1032: 'combination', 638: 'bind', 1691: 'drop', 2088: 'first', 1404: 'ddl', 83: '31', 1801: 'encrypted', 2238: 'gem', 943: 'clause', 2035: 'fields', 2379: 'hack', 2307: 'google', 3288: 'maps', 368: 'api', 2243: 'generate', 926: 'city', 5252: 'state', 3562: 'name', 5874: 'unknown', 5523: 'target', 4284: 'property', 392: 'applet', 3230: 'mac', 3851: 'os', 3034: 'latitude', 3198: 'longitude', 3479: 'mouseout', 3123: 'listener', 6201: 'wordpress', 2067: 'find', 4756: 'row', 4387: 'quickly', 2802: 'iphone', 1043: 'command', 5554: 'terminal', 4705: 'return', 3324: 'matrix', 3589: 'need', 5710: 'transpose', 486: 'attach', 1360: 'dataframe', 3931: 'parent', 4265: 'programmatically', 1342: 'd3', 2936: 'js', 5617: 'tick', 5165: 'spacing', 2273: 'gets', 3377: 'messed', 3469: 'month', 694: 'boundary', 2405: 'hash', 5946: 'user', 2090: 'fit', 3591: 'needs', 4957: 'serializing', 527: 'automatically', 2708: 'install', 2084: 'firefox', 3576: 'navbar', 512: 'auto', 3041: 'layout', 1168: 'constraints', 2746: 'interactive', 2751: 'interface', 733: 'builder', 2994: 'kill', 4244: 'process', 5475: 'system', 5008: 'shell', 4988: 'setting', 5637: 'timezone', 800: 'cant', 4475: 'recent', 1980: 'facebook', 2429: 'help', 1542: 'dialog', 1875: 'event', 3147: 'load', 721: 'browsers', 2738: 'intellij', 1162: 'constant', 1956: 'expression', 4639: 'required', 828: 'case', 1693: 'dropdown', 587: 'based', 1832: 'entries', 6198: 'wont', 6203: 'work', 3231: 'machine', 4341: 'pyqt', 233: 'addeventlistener', 4926: 'send', 5596: 'thread', 2120: 'focus', 3134: 'listviewitem', 1644: 'documentgetelementbyid', 2691: 'innerhtml', 2553: 'ie8', 1755: 'efficient', 2725: 'int', 2780: 'inverse', 1740: 'edit', 5769: 'txt', 1124: 'conditionally', 2060: 'filter', 2808: 'iqueryable', 2250: 'generic', 4622: 'repository', 2776: 'invalid', 2648: 'indirect', 5747: 'trying', 4490: 'record', 5207: 'sql', 3955: 'password', 4278: 'prompt', 4545: 'regex', 3590: 'needed', 4077: 'play', 6021: 'videos', 6125: 'website', 4454: 'reading', 5269: 'stdin', 664: 'blocking', 6020: 'video', 3772: 'old', 4675: 'rest', 1042: 'comma', 4938: 'separated', 1015: 'collection', 5196: 'spring', 896: 'checking', 3354: 'member', 5335: 'struct', 2346: 'gridview', 1949: 'export', 5640: 'tinymce', 4080: 'player', 3348: 'media', 5189: 'splash', 176: 'accepts', 1310: 'csv', 5323: 'stringsplit', 1704: 'due', 657: 'blank', 3077: 'li', 3626: 'ngmodel', 5246: 'start', 655: 'blackberry', 4268: 'programming', 4876: 'searching', 4869: 'sdk', 4385: 'quick', 1580: 'directory', 1028: 'column', 3763: 'odd', 1873: 'even', 3718: 'numbers', 5602: 'threads', 316: 'alternatives', 4275: 'projects', 5049: 'similar', 2921: 'joomla', 1700: 'drupal', 467: 'assign', 5987: 'variable', 4283: 'properties', 185: 'accessing', 2290: 'global', 3779: 'onclicklistener', 418: 'argument', 5830: 'uml', 4184: 'preg_replace', 1318: 'curly', 704: 'brackets', 88: '323', 742: 'bundler', 1248: 'could', 1071: 'compatible', 6011: 'versions', 1903: 'exe', 2961: 'junit', 4617: 'report', 5526: 'task', 1981: 'facebooks', 5117: 'sms', 716: 'broadcast', 4472: 'receiver', 5518: 'takes', 2450: 'highest', 4232: 'priority', 4467: 'reboot', 3067: 'length', 9: '0', 751: 'bypass', 967: 'clientside', 5975: 'validation', 4786: 'rvm', 2709: 'installation', 5784: 'ubuntu', 5730: 'trigger', 819: 'carousel', 4306: 'proxy', 1130: 'configuration', 5831: 'unable', 4516: 'redirecttoaction', 2831: 'iterators', 2619: 'incompatible', 1510: 'destruction', 1476: 'dependent', 1173: 'constructor', 574: 'bad', 5460: 'symfony2', 2163: 'forms', 3834: 'options', 3677: 'notfoundhttpexception', 5373: 'submission', 2392: 'handling', 5733: 'triggers', 3836: 'oracle', 3463: 'mongoose', 782: 'callback', 6144: 'well', 5917: 'updating', 3439: 'models', 114: '5', 801: 'canvas', 2817: 'issues', 1068: 'comparison', 5988: 'variables', 4101: 'pointing', 3936: 'parse', 4144: 'possible', 2959: 'jump', 4793: 'safely', 1508: 'destroy', 6174: 'window', 6237: 'wxpython', 2615: 'includes', 5493: 'systems', 3264: 'managepy', 4779: 'runserver', 4806: 'saving', 2177: 'frames', 1072: 'compilation', 2171: 'found', 3937: 'parsecom', 3079: 'libgdx', 2588: 'implementation', 2558: 'iframe', 4137: 'position', 235: 'adding', 772: 'calculate', 1238: 'correlation', 4583: 'remove', 3784: 'ones', 3913: 'pandas', 3828: 'optimizations', 719: 'browser', 3987: 'perform', 4592: 'rendered', 1469: 'denied', 4966: 'service', 1454: 'delegate', 1250: 'count', 1363: 'datagridview', 4838: 'scipy', 732: 'build', 3855: 'osx', 2799: 'ip', 239: 'address', 3304: 'mask', 5569: 'textbox', 5996: 'vbnet', 1045: 'commands', 4905: 'selected', 996: 'codebehind', 4682: 'restrict', 2928: 'jqgrid', 5567: 'textarea', 2424: 'height', 2342: 'grid', 1745: 'editor', 4953: 'serialization', 1960: 'extend', 1898: 'exceptions', 2371: 'guidelines', 5848: 'understand', 5562: 'testng', 5417: 'suite', 1132: 'configure', 6117: 'webpage', 3925: 'parameter', 3887: 'owin', 2473: 'host', 4804: 'saved', 4410: 'rake', 1856: 'errors', 3151: 'loading', 2997: 'kind', 3534: 'mutex', 775: 'calculation', 1827: 'entities', 1556: 'difference', 994: 'cocos2dx', 3223: 'lua', 641: 'binding', 4649: 'reset', 339: 'angularjs', 6006: 'verify', 698: 'box', 959: 'clicked', 5337: 'structure', 4099: 'pointer', 1631: 'dll', 3966: 'pausing', 0: '#', 3399: 'milliseconds', 3930: 'params', 4636: 'requests', 2453: 'highlighting', 6051: 'visual', 5347: 'studio', 1777: 'email', 1091: 'component', 6012: 'versus', 4025: 'phpmailer', 770: 'cakephp', 2611: 'include', 2052: 'files', 1237: 'correctly', 1530: 'development', 5799: 'uiimageview', 5079: 'size', 3560: 'n', 4944: 'seperate', 2230: 'gc', 3176: 'log', 6055: 'vm', 4962: 'server', 2094: 'fix', 3803: 'opened', 4937: 'separate', 1046: 'commas', 4392: 'quotes', 4965: 'serversocket', 4130: 'port', 5433: 'supposed', 3315: 'matching', 4596: 'reopen', 1957: 'expressions', 6057: 'void', 3246: 'main', 2352: 'grouping', 5153: 'sort', 4198: 'preserving', 4361: 'qt', 3250: 'mainwindow', 4654: 'resize', 4655: 'resized', 1604: 'dispatcher', 2548: 'ie', 2486: 'href', 1073: 'compile', 5069: 'single', 2322: 'gradle', 995: 'code', 5583: 'thats', 4932: 'sensitive', 1317: 'curl', 4496: 'rectangle', 4337: 'pygame', 3487: 'moves', 3475: 'mouse', 3167: 'location', 3569: 'naming', 1213: 'conventions', 4125: 'populate', 4878: 'second', 2712: 'installing', 2286: 'gives', 4591: 'render', 3815: 'openxml', 5194: 'spreadsheet', 3736: 'objectivec', 5943: 'used', 6202: 'words', 3701: 'nsstring', 2251: 'generics', 6167: 'wildcard', 1443: 'define', 6000: 'vector', 5841: 'undefined', 5453: 'switch', 1868: 'eval', 2248: 'generator', 4967: 'services', 2587: 'implement', 344: 'animation', 2922: 'jpa', 561: 'backend', 875: 'changes', 483: 'asynchronously', 5365: 'subdomain', 1281: 'creation', 3115: 'linux', 4183: 'preg_match', 5322: 'strings', 3798: 'open', 5160: 'source', 1102: 'computation', 3711: 'null', 2110: 'float', 2902: 'jframe', 589: 'basic', 5001: 'shapes', 4554: 'regular', 1517: 'detect', 6060: 'volume', 874: 'changed', 2471: 'horizontal', 5097: 'slider', 18: '100', 6162: 'width', 2579: 'images', 4951: 'serial', 4222: 'print', 412: 'arduino', 889: 'checkbox', 3863: 'outofmemory', 2713: 'instance', 1479: 'deploy', 961: 'clickonce', 5043: 'signing', 72: '2d', 958: 'clickable', 1277: 'created_at', 5015: 'shopping', 824: 'cart', 2820: 'item', 232: 'added', 1075: 'compiler', 1423: 'declared', 6286: 'yet', 6045: 'visible', 4610: 'replacement', 3598: 'net', 405: 'apps', 3685: 'npm', 8: '+', 3425: 'mocha', 6086: 'watch', 196: 'accurately', 6087: 'watching', 5282: 'stl', 4209: 'prevents', 5314: 'strict', 972: 'clock', 3879: 'overloading', 3833: 'optional', 5751: 'tuples', 5255: 'statements', 5662: 'tomcat7', 5027: 'shows', 2607: 'inactive', 5952: 'users', 3265: 'manager', 559: 'backbonejs', 1768: 'elements', 2083: 'fired', 6035: 'views', 4580: 'remote', 3680: 'notification', 3035: 'launch', 562: 'background', 4281: 'proper', 1087: 'completion', 6038: 'vim', 3424: 'mobile', 1551: 'didnt', 4780: 'runtime', 6141: 'weird', 3473: 'moq', 3634: 'nil', 1034: 'combine', 4086: 'plot', 4449: 'read', 3644: 'nomethoderror', 3635: 'nilnilclass', 2892: 'jbutton', 206: 'actionlistener', 4253: 'producing', 4993: 'several', 4887: 'security', 839: 'catching', 2204: 'fullscreen', 4893: 'seems', 3922: 'parallel', 4218: 'prime', 1712: 'duplicating', 4852: 'script', 956: 'cli', 5750: 'tuple', 5511: 'tabs', 2389: 'handler', 1890: 'examples', 1326: 'custom', 5135: 'soft', 3915: 'panel', 6184: 'windowsce', 129: '60', 1904: 'exec', 5263: 'status', 4463: 'realtime', 3203: 'lookup', 5764: 'twitter', 2126: 'followers', 3201: 'looking', 1392: 'day', 778: 'calendar', 5605: 'three', 5203: 'sprite', 2515: 'huge', 3051: 'leak', 3275: 'many', 4565: 'relationships', 1773: 'eloquent', 6226: 'write', 1797: 'encoding', 5958: 'utf8', 5293: 'storing', 73: '2dimensional', 5215: 'sqlite', 2438: 'hibernate', 2374: 'gwt', 2316: 'grab', 5441: 'svg', 4755: 'routing', 4072: 'plain', 5779: 'typescript', 5241: 'standard', 2397: 'hangs', 4778: 'runs', 5574: 'textfield', 3125: 'listening', 5130: 'socket', 4023: 'phpfpm', 4744: 'rotating', 5597: 'threaded', 1265: 'cpu', 5495: 'systemstring', 1088: 'complex', 3532: 'must', 6298: 'zero', 5561: 'testing', 2758: 'internationalization', 75: '2nd', 2513: 'httpwebrequest', 3729: 'obj', 4594: 'rendering', 844: 'cause', 1536: 'di', 3625: 'nginx', 2101: 'flask', 4474: 'receiving', 5163: 'space', 753: 'byte', 679: 'boolean', 4053: 'pip', 67: '25', 3450: 'module', 5412: 'suffix', 861: 'certain', 5396: 'substring', 3337: 'md5', 3705: 'nsurl', 1418: 'decimals', 2030: 'ffmpeg', 5929: 'upto', 86: '32', 5852: 'unexpected', 5657: 'token', 1146: 'connecting', 355: 'ant', 1995: 'failed', 1169: 'construct', 5459: 'symfony', 34: '14', 1653: 'domain', 1322: 'currently', 3181: 'logged', 2674: 'initialize', 1661: 'double', 6268: 'xpath', 17: '10', 998: 'codec', 1426: 'decode', 5861: 'uninitialized', 1849: 'equivalent', 5993: 'vb', 3060: 'left', 5272: 'stdout', 3506: 'much', 5105: 'slower', 3274: 'manually', 5236: 'stage', 1721: 'e', 1546: 'dict', 4707: 'returning', 1836: 'enumeration', 4160: 'powershell', 4659: 'resolved', 1101: 'compression', 3204: 'loop', 6187: 'winform', 5631: 'timers', 3683: 'notify', 5630: 'timer', 4407: 'raised', 3330: 'maximize', 1733: 'echo', 5261: 'statment', 3972: 'pdf', 3251: 'major', 4873: 'search', 1037: 'combo', 933: 'classes', 5370: 'sublime', 1362: 'datagrid', 747: 'button', 5766: 'two', 3958: 'paste', 2549: 'ie10', 5469: 'syntax', 1804: 'end', 4313: 'public', 5278: 'step', 2456: 'histograms', 2278: 'ggplot2', 245: 'admin', 3362: 'menu', 6147: 'whats', 4725: 'right', 1144: 'connect', 3388: 'microsoft', 54: '2007', 683: 'boot', 4666: 'respond', 2714: 'instanceof', 295: 'allow', 1785: 'empty', 673: 'body', 5254: 'statement', 2133: 'foo', 799: 'canonical', 5706: 'transmit', 4294: 'protocol', 730: 'buffers', 5825: 'uiwebview', 2538: 'identify', 3026: 'last', 3371: 'message', 4436: 'rcp', 2912: 'job', 2076: 'finished', 3959: 'patch', 1964: 'extension', 5673: 'tostring', 5920: 'upload', 557: 'back', 1191: 'contents', 3633: 'nice', 2976: 'kendo', 6160: 'widget', 52: '2003', 4564: 'relationship', 2529: 'icon', 5083: 'sizes', 1931: 'expected', 2312: 'got', 5739: 'true', 4417: 'range', 1207: 'control', 3109: 'linker', 1079: 'compiling', 5063: 'simulator', 5458: 'symbols', 3380: 'meta', 2643: 'indexphp', 4540: 'refreshing', 4188: 'prepared', 1167: 'constraint', 6193: 'within', 5208: 'sqlalchemy', 1518: 'detected', 4501: 'recursive', 2390: 'handlers', 3883: 'overriding', 3790: 'onload', 2011: 'faster', 1521: 'determine', 5542: 'temp', 4084: 'please', 5180: 'specify', 1586: 'disabling', 957: 'click', 4206: 'prevent', 1790: 'enabling', 1709: 'duplicate', 2095: 'fixed', 4486: 'recommended', 2446: 'high', 5685: 'traffic', 1650: 'dojo', 5455: 'switching', 1741: 'editable', 3191: 'logout', 508: 'authentication', 2353: 'groups', 16: '1', 726: 'buffer', 5301: 'strategy', 3186: 'login', 4444: 'react', 1858: 'es6', 3101: 'lines', 2605: 'imshow', 6308: 'zoom', 3793: 'onsubmit', 5559: 'ternary', 3822: 'operator', 2866: 'javalangnoclassdeffounderror', 3842: 'org', 552: 'axis2', 5182: 'speech', 4479: 'recognition', 927: 'ckeditor', 1587: 'disadvantages', 3257: 'making', 4952: 'serializable', 838: 'catch', 1621: 'divide', 58: '2012', 1487: 'derived', 429: 'arraylist', 3645: 'non', 786: 'calling', 4839: 'scope', 6063: 'vs2008', 1533: 'device', 421: 'argv', 2176: 'frame', 4765: 'rstudio', 5003: 'shared', 5690: 'transaction', 164: 'aborted', 4004: 'persist', 3340: 'mean', 1417: 'decimal', 4888: 'see', 881: 'characters', 3319: 'mathrandom', 4414: 'random', 2775: 'ints', 4976: 'sessions', 1834: 'enum', 3693: 'nslog', 3374: 'messages', 3053: 'leaks', 1887: 'exact', 4546: 'regexp', 3903: 'pagination', 2062: 'filtering', 3394: 'migrating', 435: 'article', 98: '3x', 2679: 'initializing', 3686: 'nsarray', 2988: 'keys', 846: 'causes', 116: '500', 5659: 'tolist', 5516: 'take', 2245: 'generates', 5066: 'sinatra', 1105: 'computer', 4374: 'quartz', 4706: 'returned', 68: '255', 665: 'blocks', 6289: 'yii', 4656: 'resizing', 6213: 'workspace', 4589: 'rename', 3302: 'marshall', 2890: 'jaxws', 2888: 'jaxb', 5512: 'tag', 3102: 'link', 96: '3d', 2673: 'initialization', 1214: 'conversion', 5611: 'thrown', 6040: 'violation', 2622: 'incorrect', 155: '_post', 2129: 'font', 5800: 'uilabel', 1109: 'concatenate', 2694: 'inputs', 4399: 'radio', 2440: 'hidden', 6171: 'win32', 5032: 'side', 648: 'bit', 4426: 'rate', 542: 'avplayer', 2496: 'http', 3139: 'live', 502: 'audio', 5307: 'streaming', 5025: 'showing', 3369: 'merging', 1370: 'datasets', 1052: 'common', 2735: 'integration', 1184: 'container', 857: 'centering', 2092: 'fitting', 338: 'angular2', 1687: 'driver', 6281: 'yaxis', 2768: 'intersect', 6248: 'xaxis', 4081: 'playframework', 1408: 'deadlock', 4151: 'postgresql', 3367: 'merge', 1988: 'factory', 1497: 'deserialize', 1064: 'compare', 2491: 'html5', 1674: 'drag', 1878: 'events', 2085: 'fires', 5972: 'validate', 1667: 'download', 5644: 'title', 4491: 'recording', 5305: 'stream', 1788: 'enable', 413: 'area', 1211: 'controls', 244: 'adjusting', 526: 'automatic', 5570: 'textboxes', 2857: 'javafx', 63: '22', 4530: 'referencing', 56: '2010', 2947: 'jsonnet', 4954: 'serialize', 6211: 'works', 2073: 'fine', 3941: 'parsing', 4947: 'sequence', 2224: 'gaps', 4152: 'posting', 5839: 'unchecked', 890: 'checkboxes', 4263: 'programatically', 5796: 'uiimage', 5821: 'uiview', 6188: 'winforms', 2181: 'free', 59: '2013', 767: 'caching', 3773: 'older', 5606: 'threejs', 3370: 'mesh', 3088: 'light', 3152: 'loads', 1966: 'extern', 5838: 'uncheck', 5450: 'swing', 4128: 'popup', 3209: 'losing', 3162: 'localstorage', 3641: 'nodejs', 5540: 'tell', 4761: 'rs', 3299: 'marks', 5281: 'still', 6014: 'vertical', 4514: 'redirection', 1972: 'extract', 3411: 'minus', 5035: 'sign', 5074: 'site', 2844: 'jar', 2954: 'jsp', 3546: 'mysql2', 41: '187', 23: '106', 400: 'applied', 3818: 'operands', 6249: 'xcode', 133: '7', 4416: 'randomly', 372: 'apostrophe', 876: 'changing', 1307: 'css', 4939: 'separately', 1656: 'dont', 2300: 'go', 626: 'beyond', 2296: 'gmail', 1181: 'contacts', 3726: 'oauth', 6178: 'windowonload', 2552: 'ie7', 3409: 'minimum', 3332: 'maximum', 3888: 'owner', 2433: 'hex', 3573: 'native', 2096: 'fixing', 4234: 'private', 186: 'accessor', 5736: 'trouble', 3963: 'patterns', 6158: 'wicket', 596: 'bean', 2689: 'inmemory', 2659: 'info', 2871: 'javalangoutofmemoryerror', 2422: 'heap', 1083: 'complete', 5914: 'updated', 5500: 'tab', 887: 'chat', 714: 'bring', 2516: 'human', 4451: 'readable', 3509: 'multi', 1422: 'declare', 4854: 'scripts', 2861: 'javalangclasscastexception', 833: 'cast', 1038: 'combobox', 1228: 'copy', 292: 'allocated', 3489: 'moving', 4855: 'scroll', 6230: 'writing', 3305: 'masked', 1599: 'disk', 4093: 'png', 1231: 'core', 2750: 'interest', 4147: 'postback', 1649: 'doesnt', 1800: 'encrypt', 2825: 'iterate', 3015: 'lambda', 1847: 'equation', 593: 'batch', 789: 'calls', 6239: 'x', 4880: 'seconds', 2284: 'give', 318: 'always', 2003: 'false', 6093: 'wcf', 1161: 'const', 3220: 'lpcwstr', 1444: 'defined', 3771: 'ok', 5860: 'unicodeencodeerror', 2326: 'grant', 3258: 'malformed', 554: 'azure', 226: 'ad', 4050: 'pin', 5118: 'smtp', 4104: 'pojos', 1447: 'definition', 988: 'cmd', 2845: 'jars', 4566: 'relative', 3435: 'mode', 4282: 'properly', 4791: 'safari', 433: 'arrow', 810: 'captcha', 6101: 'webbrowser', 4041: 'picturebox', 6034: 'viewport', 166: 'absolute', 240: 'addresses', 4000: 'permitted', 3094: 'limited', 3723: 'nunit', 2859: 'javaioioexception', 2367: 'gui', 2306: 'good', 3110: 'linking', 5429: 'support', 251: 'adonet', 5447: 'swf', 4800: 'sandbox', 5398: 'subtract', 2975: 'keeps', 4100: 'pointers', 432: 'arrays', 2350: 'groupby', 3943: 'partial', 2334: 'gray', 3876: 'overlay', 5790: 'uibutton', 3006: 'knowing', 5355: 'sub', 6001: 'vectors', 5837: 'uncaught', 5775: 'typeerror', 2567: 'iis', 5778: 'types', 4236: 'probability', 5109: 'small', 5964: 'v', 628: 'big', 1022: 'color', 477: 'associative', 203: 'action', 4749: 'route', 501: 'attributes', 2974: 'keeping', 460: 'assembly', 6246: 'xaml', 4159: 'powerpoint', 1502: 'designer', 6067: 'vsto', 692: 'bound', 5213: 'sqldatasource', 1108: 'concat', 4688: 'result', 1912: 'executing', 6180: 'windowprint', 3182: 'logger', 960: 'clicking', 2519: 'hyperlink', 1385: 'dates', 1048: 'comment', 4739: 'root', 6156: 'whole', 1416: 'debugging', 4830: 'scheduled', 5173: 'special', 4609: 'replaced', 6255: 'xls', 6132: 'webview', 401: 'apply', 4462: 'realm', 3030: 'latest', 2700: 'inserted', 840: 'categorical', 2019: 'features', 5817: 'uitableviewcontroller', 3690: 'nsdictionary', 4551: 'registration', 6303: 'zip', 2287: 'giving', 3419: 'mix', 707: 'break', 223: 'activity', 3452: 'modules', 4640: 'requirejs', 4034: 'physical', 3882: 'overrides', 100: '40', 2498: 'httpclient', 315: 'alternative', 6097: 'webapi', 5683: 'track', 3901: 'pages', 5183: 'speed', 523: 'automapper', 3285: 'mapping', 1400: 'dbnull', 2781: 'invisible', 2554: 'ie9', 731: 'bug', 2915: 'joda', 3924: 'param', 4923: 'semantic', 2324: 'grammar', 2584: 'immediately', 3242: 'mailbox', 4348: 'pythonic', 678: 'bool', 1764: 'elasticsearch', 5632: 'times', 3183: 'logging', 3239: 'magento', 5867: 'unit', 2841: 'jackson', 1496: 'deserialization', 3106: 'linked', 3708: 'nsuserdefaults', 5248: 'starting', 2140: 'foreach', 3881: 'override', 2826: 'iterating', 2557: 'ifelse', 5594: 'thousand', 4942: 'separator', 2448: 'highcharts', 5170: 'sparse', 4210: 'preview', 3766: 'office', 5294: 'storyboard', 3664: 'nonzero', 1590: 'disappear', 1525: 'develop', 2347: 'groovy', 1711: 'duplicates', 1774: 'else', 3789: 'online', 5291: 'stored', 4241: 'procedure', 2081: 'firebird', 3975: 'pdo', 3155: 'localhost', 4042: 'pictures', 2279: 'gif', 2926: 'jpeg', 1366: 'datareader', 3154: 'locale', 5084: 'skip', 3838: 'orderby', 5169: 'spark', 1572: 'direct', 1339: 'cygwin', 3988: 'performance', 2940: 'jsf', 2547: 'ids', 5446: 'swapping', 3108: 'linkedlist', 4987: 'settimeout', 2119: 'fn', 5872: 'universal', 4964: 'serverside', 195: 'accurate', 1020: 'collision', 1520: 'detection', 6200: 'word', 1635: 'doc', 4085: 'plist', 1535: 'devise', 2903: 'jfreechart', 2924: 'jpanel', 2244: 'generated', 3599: 'netbeans', 3074: 'level', 3072: 'letter', 6284: 'yes', 3043: 'lazy', 3531: 'music', 2804: 'ipod', 5677: 'touch', 3971: 'pc', 5351: 'styles', 487: 'attached', 2480: 'hover', 4307: 'pseudo', 2082: 'firebug', 1415: 'debugger', 398: 'applicationproperties', 4255: 'production', 1410: 'dealing', 5843: 'underlying', 4302: 'provider', 2756: 'internally', 5223: 'src', 4024: 'phpini', 3429: 'mockito', 2684: 'injecting', 3426: 'mock', 5568: 'textblock', 3290: 'margin', 3113: 'linqtoentities', 1282: 'creator', 4422: 'raphael', 304: 'alphabetic', 169: 'accent', 884: 'chart', 1881: 'every', 2828: 'iterations', 3184: 'logic', 5893: 'unrecognized', 4088: 'plotting', 3470: 'monthly', 2277: 'ggplot', 1967: 'external', 4578: 'remaining', 1394: 'days', 5622: 'till', 3640: 'node', 886: 'charts', 2332: 'graphs', 5147: 'something', 1424: 'declares', 6221: 'wrap', 4561: 'relation', 1917: 'exist', 1558: 'different', 3946: 'particular', 192: 'account', 305: 'alphabetical', 3837: 'order', 78: '30', 4439: 'rdlc', 1646: 'documents', 5285: 'stop', 6232: 'wrong', 5803: 'uint32', 5900: 'unsigned', 5580: 'textview', 2574: 'im', 2784: 'invoke', 2792: 'ionic', 5167: 'span', 5603: 'threadsafe', 5247: 'started', 5230: 'stack', 5418: 'sum', 2400: 'happens', 6075: 'waiting', 1343: 'd3js', 5031: 'sibling', 4920: 'self', 5731: 'triggered', 503: 'aurelia', 1376: 'datatables', 1474: 'dependency', 2685: 'injection', 2682: 'inject', 5692: 'transactions', 3806: 'opengl', 302: 'alpha', 3393: 'migrate', 1919: 'existing', 990: 'cms', 3091: 'like', 3593: 'neither', 4375: 'queries', 5114: 'smooth', 5819: 'uitextview', 690: 'bottom', 3461: 'mongodb', 3954: 'passportjs', 5951: 'username', 4911: 'selection', 5563: 'tests', 2533: 'idea', 33: '13', 4502: 'recursively', 3448: 'modify', 6078: 'want', 3974: 'pdfs', 4030: 'phpunit', 1260: 'coverage', 1242: 'corrupted', 4898: 'segmentation', 2015: 'fault', 25: '11', 2409: 'hashmap', 2955: 'jstl', 1833: 'entry', 3551: 'mysql_query', 3549: 'mysql_fetch_array', 985: 'cluster', 3721: 'numpy', 3636: 'ninject', 2540: 'identity', 1441: 'defer', 4452: 'reader', 2710: 'installed', 1728: 'easiest', 1177: 'consumer', 6123: 'webservice', 5712: 'traversal', 2829: 'iterative', 5547: 'templates', 4114: 'polymorphism', 2583: 'immediate', 3539: 'mvc3', 481: 'async', 2388: 'handled', 2013: 'fatal', 3660: 'nonobject', 2957: 'jtextfield', 462: 'assertion', 5002: 'share', 2531: 'id', 4404: 'rails3', 2897: 'jdk', 2174: 'fragment', 218: 'activemq', 5288: 'stops', 4383: 'queue', 3558: 'mysqlsock', 4480: 'recognize', 3260: 'mamp', 924: 'circular', 4529: 'references', 6084: 'warnings', 845: 'caused', 2168: 'forward', 1421: 'declarations', 1566: 'digits', 4070: 'places', 2655: 'infinite', 2274: 'getter', 4984: 'setter', 5814: 'uitableview', 3957: 'past', 4562: 'relational', 4242: 'procedures', 4163: 'practice', 3080: 'libraries', 2671: 'initialise', 4970: 'servlet', 148: '__getitem__', 4918: 'selenium', 5140: 'solution', 4121: 'pop', 1544: 'dialogs', 2759: 'internet', 1947: 'explorer', 765: 'cache', 428: 'arrayadapter', 4327: 'pushing', 386: 'appengine', 688: 'bot', 1272: 'crawler', 168: 'abstract', 2184: 'freeze', 2018: 'feature', 5022: 'shouldnt', 2211: 'functions', 4836: 'scikit', 3054: 'learn', 1705: 'dummy', 2351: 'grouped', 820: 'carray', 5858: 'unicode', 1850: 'equivalents', 3807: 'openid', 4321: 'pure', 6041: 'virtual', 2687: 'inline', 741: 'bundle', 5299: 'strange', 5431: 'supporting', 1269: 'crashes', 191: 'accordion', 212: 'activate', 3111: 'links', 1457: 'delete', 260: 'affect', 131: '64', 5918: 'upgrade', 4573: 'reload', 567: 'backing', 49: '20', 497: 'attr', 5732: 'triggering', 3480: 'mouseover', 2723: 'instruction', 4519: 'reduce', 3014: 'lag', 3906: 'painting', 2046: 'filename', 3755: 'occurrence', 3831: 'optimizing', 2225: 'garbage', 5787: 'uialertview', 750: 'buttons', 5404: 'subviews', 5415: 'suggestions', 4815: 'scale', 4459: 'real', 1384: 'datepicker', 5095: 'slicing', 4860: 'scrolling', 6309: 'zooming', 5628: 'timeouts', 422: 'arithmetic', 4537: 'reflection', 3445: 'modified', 2021: 'feed', 2822: 'itemssource', 1655: 'done', 6092: 'ways', 2398: 'happen', 4972: 'servlets', 5148: 'sometimes', 5691: 'transactional', 3529: 'multithreading', 6216: 'would', 5598: 'threading', 3536: 'mutually', 2632: 'independent', 5529: 'tasks', 3942: 'part', 256: 'advantages', 1617: 'distributed', 1584: 'disable', 3317: 'math', 92: '35', 5381: 'subprocesscall', 1290: 'crontab', 547: 'aws', 3990: 'performing', 1357: 'databinding', 1681: 'drawing', 4738: 'room', 308: 'alphanumeric', 1658: 'dot', 3688: 'nsdate', 882: 'chars', 5783: 'u', 3808: 'opening', 1670: 'downloading', 4427: 'rather', 1607: 'displaying', 585: 'base', 1794: 'encoded', 225: 'actually', 4063: 'pk', 945: 'clean', 2485: 'hql', 5271: 'stdmap', 2734: 'integrating', 1965: 'extensions', 5550: 'temporary', 1616: 'distinguish', 50: '200', 2556: 'ienumerablet', 3830: 'optimized', 3402: 'min', 1158: 'consolelog', 5462: 'sync', 4846: 'scraping', 5829: 'umbraco', 3653: 'nonexistent', 1505: 'desktop', 2179: 'frameworks', 1990: 'fade', 2600: 'importing', 5172: 'spec', 6081: 'war', 5953: 'uses', 1853: 'erlang', 1209: 'controllers', 234: 'addin', 6071: 'w', 2938: 'jscrollpane', 5275: 'stdthread', 5091: 'sleep', 2071: 'finding', 1220: 'converting', 189: 'according', 1315: 'culture', 5435: 'suppressing', 6083: 'warning', 4698: 'retrieve', 4018: 'photos', 2005: 'fan', 4446: 'reactjs', 2585: 'immutable', 822: 'carrierwave', 3389: 'middle', 5439: 'surrounded', 5264: 'stay', 1838: 'env', 89: '32bit', 132: '64bit', 415: 'arent', 4015: 'phonegap', 5792: 'uicollectionview', 5909: 'unwanted', 14: '0s', 1539: 'diagonally', 603: 'becomes', 4461: 'really', 5104: 'slow', 3212: 'lot', 104: '404', 5947: 'usercontrol', 3310: 'masterpage', 5907: 'unused', 2943: 'json_decode', 3678: 'nothing', 4250: 'produce', 4087: 'plots', 917: 'chunk', 3002: 'knitr', 6105: 'webdriver', 4054: 'pipe', 1222: 'cookie', 3084: 'life', 1420: 'declaration', 3259: 'malloc', 288: 'alignment', 5457: 'symbol', 3756: 'occurrences', 1104: 'computed', 2934: 'jre', 5430: 'supported', 5875: 'unless', 202: 'acting', 1274: 'crazy', 2359: 'gsub', 1402: 'dd', 3554: 'mysqldb', 6295: 'yyyymmdd', 224: 'actual', 5532: 'td', 385: 'appending', 5757: 'tutorials', 3055: 'learning', 4663: 'resources', 5971: 'valid', 3800: 'opencl', 735: 'builds', 1996: 'failing', 420: 'arguments', 780: 'call_user_func', 1783: 'emberjs', 1425: 'declaring', 2764: 'interpreter', 2401: 'hard', 1685: 'drive', 3256: 'makes', 5752: 'turn', 4059: 'pitch', 654: 'black', 4674: 'responsive', 3791: 'onmouseover', 1706: 'dump', 4187: 'prepare', 1643: 'documentcreateelement', 5342: 'struts2', 3428: 'mocking', 3631: 'nhibernate', 4258: 'profile', 4588: 'removing', 2173: 'four', 2624: 'increase', 5508: 'tableview', 5654: 'together', 5504: 'tabitem', 3192: 'logs', 6206: 'worked', 6077: 'wamp', 1648: 'docx', 5129: 'social', 3628: 'ngrepeat', 5190: 'splice', 3392: 'might', 1994: 'fail', 4690: 'results', 979: 'closest', 4959: 'series', 717: 'broken', 723: 'bubble', 3269: 'manipulate', 1293: 'cross', 6179: 'windowopen', 6148: 'wheel', 3809: 'openlayers', 1810: 'endpoints', 1138: 'conflicting', 4212: 'previous', 4581: 'remotely', 5093: 'slice', 3555: 'mysqli', 4398: 'radgrid', 1458: 'deleted', 1641: 'document', 1609: 'displays', 1811: 'ends', 4604: 'repeating', 5745: 'try', 1513: 'detached', 4142: 'posix', 2877: 'javamail', 4027: 'phps', 4090: 'plugins', 3614: 'news', 448: 'asks', 5410: 'sudo', 983: 'cloud', 1373: 'datastore', 387: 'appium', 1504: 'desired', 3038: 'launching', 3577: 'navigate', 2536: 'identifier', 1176: 'consume', 3981: 'per', 2965: 'jvm', 5925: 'upon', 4575: 'reloading', 4012: 'phantomjs', 6076: 'wall', 4646: 'reservation', 536: 'available', 5530: 'tbody', 4547: 'region', 3292: 'marionette', 4661: 'resolving', 864: 'certification', 5868: 'unittest', 2821: 'items', 194: 'accuracy', 3501: 'msi', 2711: 'installer', 1743: 'editing', 5295: 'storyboards', 3205: 'looping', 3254: 'makefile', 5377: 'submitting', 2807: 'ipython', 3916: 'panels', 1651: 'dollar', 322: 'amount', 1143: 'confusion', 4511: 'redirect_uri', 1692: 'dropbox', 5607: 'threw', 2886: 'javax', 4971: 'servletcontext', 5017: 'shortcut', 2235: 'gd', 2987: 'keypress', 5274: 'stdstring', 1067: 'comparing', 430: 'arraylists', 4742: 'rotate', 4601: 'repeated', 1961: 'extended', 4293: 'protobuf', 1186: 'containing', 5026: 'shown', 5666: 'toolkit', 4169: 'precision', 5688: 'training', 38: '16bit', 2956: 'jtable', 685: 'border', 377: 'appear', 5936: 'urls', 6073: 'wait', 5781: 'typing', 4158: 'power', 2266: 'getdata', 3267: 'mandatory', 3780: 'onclientclick', 4208: 'preventing', 4792: 'safe', 3326: 'maven', 2432: 'heroku', 4324: 'push', 2282: 'git', 4560: 'related', 1625: 'division', 5037: 'signalr', 2514: 'hub', 3592: 'negative', 215: 'active', 3579: 'navigation', 1610: 'dispose', 5308: 'streamreader', 5310: 'streamwriter', 564: 'backgroundimage', 1477: 'depending', 5635: 'timestamp', 3391: 'midnight', 4017: 'photo', 4331: 'puzzle', 3714: 'nullpointerexception', 3266: 'managing', 4219: 'primefaces', 255: 'advantage', 1140: 'conform', 45: '1d', 2037: 'figure', 4623: 'represent', 4603: 'repeater', 2923: 'jpa2', 4007: 'persisting', 3786: 'onetoone', 627: 'bidirectional', 4998: 'shadow', 3171: 'lock', 5519: 'taking', 997: 'codeblocks', 2532: 'ide', 2419: 'headers', 3217: 'lowercase', 5036: 'signal', 5878: 'unlock', 2240: 'gems', 2953: 'jsoup', 1776: 'emacs', 36: '15', 6275: 'xxx', 60: '2015', 111: '45', 4552: 'registry', 3684: 'notnull', 5699: 'transient', 1098: 'compress', 2995: 'killed', 5004: 'sharepoint', 794: 'cancel', 80: '302', 1671: 'downloads', 4216: 'primary', 3516: 'multimodule', 4990: 'setup', 5456: 'swt', 4567: 'release', 1675: 'draggable', 4678: 'restcontroller', 2832: 'itext', 691: 'bounce', 738: 'builtin', 4118: 'pool', 5610: 'throwing', 5214: 'sqlexception', 2555: 'ienumerable', 1395: 'db', 3543: 'mvvm', 3114: 'linqtosql', 5048: 'silverlight', 3449: 'modifying', 1371: 'datasource', 369: 'apis', 2196: 'front', 4040: 'picture', 5734: 'trim', 5164: 'spaces', 3355: 'members', 1021: 'colon', 5054: 'simplexml', 1007: 'coffeescript', 6292: 'youre', 1529: 'developing', 123: '53', 1757: 'eg', 1327: 'customer', 1164: 'constants', 349: 'annotations', 4829: 'schedule', 3497: 'ms', 5807: 'uirouter', 5256: 'states', 6205: 'workbook', 2565: 'ignores', 5974: 'validating', 4149: 'postfix', 2626: 'increment', 3961: 'paths', 6277: 'xy', 417: 'args', 812: 'capture', 2492: 'htmlactionlink', 5664: 'toolbar', 2618: 'incoming', 457: 'aspx', 615: 'behind', 6151: 'whether', 3237: 'macros', 1278: 'createfile', 200: 'across', 3005: 'know', 5407: 'successful', 755: 'bytes', 4524: 'refactoring', 3361: 'memorystream', 808: 'capitalize', 1756: 'efficiently', 634: 'bigo', 929: 'clarification', 2185: 'freezes', 1257: 'couple', 3413: 'minutes', 5716: 'treat', 6094: 'wchar_t', 2760: 'interop', 5846: 'underscorejs', 2809: 'isnt', 1861: 'escaping', 30: '1204', 2364: 'guava', 662: 'block', 2493: 'htmlagilitypack', 1973: 'extracting', 4276: 'promise', 5155: 'sorted', 2635: 'indexed', 3563: 'named', 814: 'capturing', 5432: 'supports', 4076: 'platforms', 4824: 'scatterplot', 5854: 'unfortunately', 5286: 'stopped', 1787: 'emulator', 5708: 'transparent', 2066: 'finally', 6129: 'websphere', 1869: 'evaluate', 2383: 'haml', 3103: 'link_to', 2430: 'helper', 146: '__dopostback', 1845: 'equality', 1500: 'design', 6031: 'viewmodel', 3824: 'opposed', 219: 'activerecord', 965: 'clients', 2146: 'fork', 4525: 'refer', 3832: 'option', 1882: 'everything', 1313: 'cucumber', 5279: 'steps', 4825: 'scenario', 3814: 'openssl', 3459: 'mongo', 734: 'building', 2134: 'footer', 2962: 'junk', 5844: 'underneath', 5785: 'udp', 601: 'beautifulsoup', 2068: 'findall', 2246: 'generating', 6197: 'wmi', 5010: 'shift', 1311: 'ctrl', 311: 'alt', 3918: 'paper', 4148: 'posted', 3891: 'package', 1249: 'couldnt', 1925: 'expand', 5464: 'synchronization', 2898: 'jekyll', 4960: 'serve', 2593: 'implicit', 897: 'checkmark', 3964: 'pause', 1844: 'equal', 408: 'arbitrary', 3314: 'matches', 1722: 'eager', 3078: 'lib', 2127: 'following', 1054: 'communicate', 4790: 's3', 2123: 'folders', 725: 'bucket', 2477: 'hot', 1963: 'extends', 4782: 'runtimeexception', 3200: 'look', 1302: 'crystal', 4619: 'reports', 5859: 'unicodedecodeerror', 442: 'ascii', 3841: 'ordinal', 32: '128', 1796: 'encodeuricomponent', 1793: 'encode', 267: 'age', 66: '24', 5296: 'str', 5053: 'simplest', 1283: 'credentials', 64: '220', 3477: 'mouseenter', 4821: 'scanner', 3496: 'mq', 3471: 'months', 1279: 'creates', 2142: 'foreign', 1122: 'condition', 2242: 'general', 5960: 'utility', 2375: 'gzip', 5496: 'systemtimerstimer', 5390: 'subscription', 3263: 'management', 1763: 'elastic', 598: 'beanstalk', 842: 'category', 5218: 'sqlquery', 1750: 'effect', 3528: 'multithreaded', 1172: 'construction', 5720: 'trees', 722: 'browsing', 5696: 'transform', 309: 'already', 1419: 'deck', 817: 'cards', 3998: 'permission', 43: '192', 5124: 'snow', 3069: 'leopard', 2616: 'including', 261: 'affected', 4652: 'resharper', 5371: 'sublist', 4637: 'require', 3150: 'loaderror', 1683: 'drawrect', 1292: 'cropping', 5808: 'uiscrollview', 5416: 'suitable', 2925: 'jpanels', 1921: 'exit', 4470: 'receive', 495: 'attempting', 3357: 'memcache', 5145: 'somehow', 4979: 'setcookie', 451: 'asp', 4191: 'prepend', 568: 'backslash', 5930: 'uri', 3124: 'listeners', 2121: 'focused', 1888: 'exactly', 2506: 'httpresponse', 6113: 'webkit', 2443: 'hiding', 2697: 'insecure', 1569: 'dimensional', 5674: 'total', 4065: 'place', 1267: 'crash', 3777: 'onchange', 4882: 'section', 3810: 'openmp', 2221: 'game', 2265: 'getbytes', 2590: 'implemented', 1061: 'company', 6159: 'wide', 4116: 'pom', 3904: 'paging', 2175: 'fragments', 1084: 'completed', 265: 'after', 4916: 'selectors', 128: '6', 4897: 'segment', 4431: 'raw', 566: 'backgroundworker', 4989: 'settings', 2664: 'inherited', 516: 'autofac', 5741: 'truncated', 55: '2008', 4500: 'recursion', 5397: 'substrings', 1920: 'exists', 2330: 'graphics', 1582: 'directx', 5125: 'soap', 4304: 'providing', 4153: 'posts', 3620: 'ngclick', 3527: 'multithread', 3261: 'manage', 4445: 'reactive', 2716: 'instant', 3588: 'necessary', 3118: 'listbox', 1224: 'coordinate', 5723: 'triangle', 2476: 'hostname', 3938: 'parsed', 4925: 'sencha', 622: 'benefits', 3795: 'oo', 1355: 'databases', 6260: 'xmlhttprequest', 296: 'allowed', 4182: 'preflight', 4733: 'role', 4322: 'purpose', 1195: 'contextloaderlistener', 5704: 'translating', 209: 'actions', 6283: 'years', 2571: 'illegal', 1578: 'directly', 2621: 'inconsistent', 5898: 'unserialize', 2858: 'javaiofilenotfoundexception', 4868: 'sdcard', 350: 'anonymous', 5849: 'understanding', 1344: 'daemon', 681: 'boost', 1025: 'colors', 2650: 'individual', 987: 'cmake', 3858: 'out', 1128: 'config', 2467: 'homestead', 1597: 'discrete', 5989: 'variadic', 6223: 'wrapper', 2951: 'jsonresult', 3039: 'layer', 6098: 'webapp', 2862: 'javalangclassnotfoundexception', 4762: 'rsa', 1435: 'decryption', 711: 'breaks', 3045: 'ldap', 506: 'authenticated', 1557: 'differences', 1012: 'collect', 2028: 'fetching', 1840: 'environment', 2417: 'head', 3352: 'mediawiki', 4220: 'primitive', 4464: 'rearrange', 5921: 'uploaded', 3950: 'passed', 982: 'closures', 197: 'achieve', 4102: 'points', 4109: 'polygon', 1123: 'conditional', 3011: 'l', 588: 'bash', 1253: 'counting', 380: 'appears', 3493: 'mpi', 1913: 'execution', 5485: 'systemin', 4900: 'segue', 2535: 'identical', 981: 'closure', 3221: 'lpwstr', 1439: 'defaultdict', 3848: 'original', 3281: 'mapbox', 1669: 'downloaded', 1826: 'entire', 3947: 'parts', 465: 'assets', 3082: 'libs', 3268: 'manifest', 4724: 'rid', 3206: 'loops', 3296: 'marker', 3681: 'notifications', 97: '3rd', 3948: 'party', 1111: 'concatenation', 2911: 'jni', 3799: 'opencart', 4254: 'product', 1820: 'ensure', 1201: 'continuing', 4189: 'preparedstatement', 1589: 'disallowed', 2420: 'headertemplate', 3754: 'occurred', 4154: 'potential', 6224: 'wrapping', 6228: 'writer', 4465: 'reason', 1085: 'completely', 2012: 'fastest', 3984: 'percentages', 586: 'base64', 250: 'adobe', 272: 'air', 3526: 'multiselect', 4684: 'restricting', 854: 'cells', 320: 'ambiguous', 5669: 'tooltip', 3769: 'offset', 2059: 'filling', 1369: 'dataset', 1951: 'exporting', 1223: 'cookies', 5740: 'truncate', 5742: 'truncating', 2202: 'full', 4555: 'reinitialize', 3811: 'opens', 847: 'causing', 4349: 'pythonrequests', 5297: 'str_replace', 5411: 'sufficient', 492: 'attacks', 2900: 'jersey', 1194: 'context', 348: 'annotation', 5578: 'texture', 2629: 'incrementing', 4192: 'preprocessor', 661: 'blob', 1174: 'constructors', 5284: 'stock', 3298: 'market', 3328: 'max', 1851: 'erase', 4058: 'piping', 4658: 'resolve', 969: 'clipboard', 1481: 'deploying', 5012: 'shiny', 5240: 'standalone', 2614: 'included', 5873: 'unix', 306: 'alphabetically', 319: 'amazon', 2508: 'https', 3188: 'logistic', 332: 'anchors', 1889: 'example', 5612: 'throws', 2308: 'google+', 1328: 'customise', 3086: 'liferay', 5060: 'simulate', 1522: 'determined', 4847: 'scrapy', 4845: 'scrape', 6126: 'websites', 5944: 'useful', 1946: 'explode', 1252: 'counter', 5809: 'uisearchbar', 831: 'casperjs', 4290: 'protect', 2228: 'gaussian', 3695: 'nsmutablearray', 310: 'also', 3177: 'log4j', 5855: 'unhandled', 4833: 'schema', 3877: 'overload', 3483: 'move', 4695: 'retaining', 3126: 'listing', 2763: 'interpreted', 3880: 'overridden', 3870: 'outside', 5388: 'subscript', 4643: 'requires', 6214: 'world', 517: 'autofill', 1933: 'expects', 4600: 'repeat', 2774: 'intranet', 855: 'center', 1018: 'collectionview', 5059: 'simply', 6099: 'webapplication', 1480: 'deployed', 5672: 'tornado', 5815: 'uitableviewcell', 5927: 'uppercase', 4320: 'purchase', 2609: 'inapp', 4680: 'restkit', 3694: 'nsmanagedobject', 2715: 'instances', 6116: 'webpack', 5392: 'subset', 4062: 'pixels', 5265: 'stays', 2931: 'jquerymobile', 4746: 'round', 3587: 'nearest', 5667: 'tools', 2834: 'itunes', 1010: 'collapsible', 4810: 'says', 5177: 'specification', 613: 'behavior', 608: 'beginners', 3835: 'or', 4411: 'ram', 2253: 'geocode', 2801: 'ipaddress', 2960: 'jumping', 5144: 'solving', 4367: 'quadratic', 4247: 'processing', 792: 'camera', 1857: 'es', 3025: 'largest', 29: '12', 11: '000', 2188: 'frequency', 1815: 'engine', 71: '27', 3643: 'nokogiri', 1232: 'coredata', 1639: 'doctrine', 1784: 'emit', 3696: 'nsmutabledictionary', 1483: 'deprecated', 5722: 'treeview', 2873: 'javalangstring', 1614: 'distance', 1202: 'continuous', 5767: 'twodimensional', 6266: 'xna', 4239: 'problems', 4823: 'scatter', 1766: 'elegant', 3719: 'numeric', 4177: 'preference', 3914: 'pane', 856: 'centered', 2137: 'force', 3759: 'ocr', 2779: 'invariant', 278: 'alert', 5378: 'subplot', 4408: 'raises', 5360: 'subclass', 5425: 'superclass', 6134: 'week', 4633: 'requestmapping', 4885: 'secured', 3023: 'large', 1577: 'directives', 3414: 'mismatch', 5000: 'shape', 6066: 'vs2013', 3606: 'never', 4517: 'redis', 5024: 'showdialog', 5158: 'sounds', 991: 'cocoa', 3059: 'leaving', 3940: 'parser', 2270: 'getelementsbytagname', 313: 'alternate', 5681: 'tr', 1781: 'embedding', 1780: 'embedded', 745: 'business', 3040: 'layers', 5890: 'unreachable', 1802: 'encrypting', 1434: 'decrypting', 2752: 'interfaces', 1561: 'differs', 2582: 'img', 5585: 'theme', 2247: 'generation', 1182: 'contain', 1289: 'cron', 2730: 'integers', 3840: 'ordering', 4883: 'sections', 3148: 'loaded', 815: 'capybara', 2484: 'howto', 541: 'avoiding', 5146: 'someone', 3738: 'objectoriented', 1531: 'devexpress', 1390: 'datetimepicker', 908: 'choice', 6168: 'wildcards', 4752: 'routes', 2464: 'home', 3007: 'known', 4384: 'queues', 383: 'appended', 5067: 'since', 4826: 'scenarios', 1975: 'extremely', 2113: 'flow', 3917: 'panning', 4423: 'raphaeljs', 1338: 'cyclic', 2186: 'freezing', 3522: 'multiply', 571: 'backup', 1654: 'domains', 5366: 'subdomains', 4723: 'richtextbox', 379: 'appearing', 2157: 'formatter', 2991: 'keyvalue', 5225: 'ssh', 156: '_request', 153: '_get', 6238: 'wxwidgets', 1866: 'etc', 1559: 'differentiate', 1227: 'copies', 4335: 'pycharm', 5445: 'swap', 5273: 'stdset', 1596: 'discover', 3758: 'occurs', 4549: 'registered', 5452: 'swipe', 1642: 'documentation', 2754: 'intermittent', 469: 'assigning', 708: 'breaking', 2846: 'jasmine', 2032: 'fgets', 4336: 'pydev', 2968: 'jython', 5250: 'startup', 3829: 'optimize', 6133: 'webxml', 3197: 'longest', 3056: 'least', 482: 'asynchronous', 5467: 'synchronous', 5298: 'straight', 5005: 'sharing', 2010: 'fast', 2106: 'flexible', 2830: 'iterator', 2294: 'glow', 5939: 'usable', 4377: 'querying', 2280: 'girl', 475: 'association', 4681: 'restore', 674: 'bold', 331: 'anchor', 1234: 'corners', 277: 'album', 3293: 'mark', 2646: 'indices', 2647: 'indigo', 2782: 'invocation', 2100: 'flash', 1886: 'ex', 1778: 'emails', 5092: 'sleeping', 4493: 'recover', 5361: 'subclasses', 1971: 'extra', 1501: 'designed', 4605: 'repeats', 1451: 'del', 570: 'backspace', 3871: 'overflow', 941: 'classpath', 597: 'beans', 1506: 'despite', 504: 'auth', 5444: 'swagger', 1299: 'crud', 5663: 'tool', 4478: 'recognised', 2613: 'include_path', 3338: 'mdb', 3238: 'made', 1116: 'concrete', 758: 'c#net', 1686: 'driven', 2153: 'formal', 3313: 'matched', 3748: 'occasionally', 5313: 'stretch', 3364: 'menuitem', 51: '2000', 697: 'bower', 4679: 'restful', 5763: 'twisted', 6288: 'yields', 3132: 'listt', 3874: 'overlapping', 4899: 'segments', 1989: 'factorygirl', 4185: 'preload', 5822: 'uiviewcontroller', 962: 'clicks', 5244: 'star', 2314: 'gps', 109: '422', 2657: 'infix', 777: 'calculator', 4548: 'register', 3687: 'nsdata', 1139: 'conflicts', 5895: 'unresolved', 3945: 'partialview', 2412: 'hashtable', 4579: 'remember', 555: 'b', 2993: 'keywords', 6058: 'volatile', 1944: 'explicit', 1863: 'establish', 4884: 'secure', 4523: 'refactor', 2601: 'imports', 3872: 'overhead', 6293: 'youtube', 877: 'channel', 1568: 'dimension', 2833: 'itextsharp', 4713: 'reverse', 629: 'bigdecimal', 4812: 'scala', 1759: 'ejb', 2288: 'glassfish', 6192: 'wise', 1225: 'coordinates', 470: 'assignment', 647: 'birthday', 2040: 'file_get_contents', 830: 'cases', 1303: 'cs', 1341: 'cython', 955: 'clexe', 2865: 'javalanginteger', 3372: 'messagebox', 5593: 'though', 1192: 'contentsize', 5249: 'starts', 3028: 'late', 2786: 'invoking', 1738: 'edge', 2209: 'functional', 2143: 'foreignkey', 607: 'beginner', 3185: 'logical', 3561: 'na', 3668: 'normalizing', 4061: 'pixel', 1460: 'deleting', 1945: 'explicitly', 4406: 'raise', 675: 'book', 3900: 'pager', 4309: 'pthread', 2474: 'hosted', 4022: 'phpexcel', 5006: 'sheet', 2757: 'international', 2213: 'fuzzy', 173: 'acceptable', 3897: 'padding', 5967: 'vaadin', 4280: 'propagation', 3781: 'oncreate', 1637: 'docker', 4141: 'positive', 3446: 'modifier', 1859: 'escape', 5998: 'vc++', 2949: 'jsonp', 4413: 'rand', 1602: 'dispatch', 1489: 'descending', 2721: 'instantly', 3303: 'marshalling', 2167: 'fortran', 870: 'chain', 3907: 'pair', 1004: 'codility', 3774: 'oledb', 5641: 'tip', 5202: 'sprintf', 6128: 'websockets', 3797: 'opacity', 2718: 'instantiated', 5057: 'simplexmlelement', 2431: 'helpers', 1841: 'environments', 3650: 'none', 399: 'applications', 3309: 'master', 1900: 'exclude', 4343: 'pyramid', 3073: 'letters', 488: 'attaching', 4113: 'polymorphic', 5116: 'smoothly', 341: 'animate', 4204: 'pretty', 4115: 'polynomial', 2992: 'keyword', 409: 'arc', 1837: 'enums', 3422: 'mkmapview', 5545: 'templated', 2172: 'foundation', 699: 'boxes', 2403: 'has_many', 4650: 'resets', 2913: 'jobject', 521: 'autolayout', 1585: 'disabled', 5818: 'uitextfield', 4667: 'responder', 312: 'alter', 3826: 'optimal', 3170: 'locations', 1003: 'codes', 1033: 'combinations', 5655: 'toggle', 5309: 'streams', 2155: 'formats', 3491: 'mp3', 5403: 'subview', 1592: 'disappears', 5436: 'sure', 2545: 'idisposable', 2732: 'integrate', 5181: 'specifying', 4381: 'question', 3020: 'language', 152: '_files', 2564: 'ignored', 573: 'backwards', 728: 'bufferedreader', 5924: 'uploads', 3024: 'larger', 3335: 'mb', 2724: 'instructions', 6115: 'webmethod', 5997: 'vbscript', 354: 'answer', 1829: 'entityframework', 1598: 'discriminator', 4521: 'redux', 4448: 'reactrouter', 4539: 'refreshes', 3460: 'mongoclient', 360: 'anything', 2945: 'jsonarray', 2948: 'jsonobject', 4969: 'serving', 3999: 'permissions', 3142: 'llvm', 928: 'clang', 4701: 'retrive', 325: 'ampersand', 342: 'animated', 389: 'apple', 970: 'clipping', 3514: 'multilevel', 5782: 'typo3', 2378: 'h2', 2262: 'getaddrinfo', 3703: 'nsthread', 3704: 'nstimer', 5702: 'translate', 3323: 'matrices', 5977: 'validator', 3368: 'merged', 525: 'automated', 5916: 'updates', 1484: 'depth', 811: 'caption', 4741: 'ror', 214: 'activation', 5727: 'tricky', 1212: 'convention', 3224: 'lucene', 1121: 'concurrentmodificationexception', 2044: 'fileinfo', 3401: 'mimetype', 1491: 'description', 1789: 'enabled', 5188: 'spinner', 3859: 'outer', 4528: 'referenceerror', 5016: 'short', 1595: 'discount', 4214: 'price', 3133: 'listview', 1516: 'details', 3816: 'opera', 3666: 'normal', 2455: 'histogram', 6127: 'websocket', 2681: 'initiate', 1524: 'dev', 3003: 'knockout', 3179: 'log4net', 3219: 'lpcstr', 3865: 'outofmemoryexception', 3745: 'obtain', 3098: 'linear', 3512: 'multidimensional', 3381: 'metadata', 5514: 'tags', 4127: 'populating', 5976: 'validations', 108: '42', 2057: 'fill', 6154: 'whitespace', 3889: 'p', 258: 'aes', 4886: 'securely', 5503: 'tabcontrol', 1148: 'connections', 1698: 'dropped', 3884: 'overwrite', 5882: 'unmarshalling', 5773: 'typed', 1089: 'complexity', 4157: 'pow', 1511: 'destructor', 3689: 'nsdateformatter', 3970: 'paypal', 5426: 'superview', 696: 'bounds', 5380: 'subprocess', 4055: 'piped', 5062: 'simulation', 816: 'card', 5491: 'systemoutofmemoryexception', 4051: 'pinch', 5870: 'unity', 4597: 'reorder', 5501: 'tabbar', 5926: 'upper', 5537: 'techniques', 1478: 'depends', 5608: 'throw', 4536: 'reflecting', 2451: 'highlight', 1547: 'dictionaries', 2904: 'jinja', 1779: 'embed', 1880: 'ever', 1896: 'except', 1055: 'communicating', 2080: 'firebase', 5220: 'sqlstate', 5658: 'tokens', 2612: 'include_once', 1094: 'composite', 3742: 'observation', 1761: 'el', 4026: 'phpmyadmin', 6217: 'wp', 2702: 'insertion', 4471: 'received', 4891: 'seem', 5089: 'slash', 5761: 'twig', 818: 'caret', 4820: 'scanf', 821: 'carriage', 4730: 'rn', 1462: 'delimited', 6121: 'webrtc', 1632: 'dlls', 345: 'animations', 4036: 'pick', 5806: 'uipickerview', 1000: 'codefirst', 3395: 'migration', 656: 'blade', 1150: 'connectivity', 484: 'asynctask', 3762: 'odbc', 1039: 'come', 774: 'calculating', 2292: 'globally', 3752: 'occurence', 1197: 'contexts', 2578: 'imagemagick', 5440: 'suspend', 1952: 'expose', 2098: 'flag', 411: 'archive', 1200: 'continuewith', 4843: 'score', 3846: 'oriented', 2220: 'gallery', 3092: 'limit', 563: 'backgroundcolor', 5362: 'subclassing', 1378: 'datatype', 1153: 'consecutive', 5531: 'tcp', 2249: 'generators', 2580: 'imageview', 147: '__file__', 2376: 'h', 5801: 'uinavigationbar', 3316: 'material', 3175: 'lodash', 5076: 'sitemap', 285: 'align', 6307: 'zone', 1060: 'compact', 4729: 'rmi', 4272: 'proguard', 4246: 'processes', 1056: 'communication', 3919: 'paperclip', 4378: 'queryset', 1151: 'connector', 5424: 'super', 3228: 'lxml', 4048: 'pig', 2591: 'implementing', 1455: 'delegates', 6142: 'weka', 5614: 'thumbnail', 5357: 'subarrays', 2573: 'illegalstateexception', 3921: 'paragraphs', 642: 'bindings', 1333: 'cut', 4835: 'scientific', 3850: 'orm', 3211: 'lost', 1846: 'equals', 4775: 'runnable', 1519: 'detecting', 2669: 'initial', 1514: 'detail', 2909: 'jms', 1233: 'corner', 5970: 'valgrind', 4145: 'possibly', 4906: 'selectedindex', 4409: 'raising', 3218: 'lowest', 5845: 'underscore', 3284: 'mapper', 4134: 'portrait', 3018: 'landscape', 2878: 'javanetconnectexception', 4541: 'refused', 5055: 'simplexml_load_file', 977: 'closed', 1932: 'expecting', 5645: 'titles', 493: 'attempt', 1574: 'direction', 4745: 'rotation', 2914: 'jobs', 3164: 'locate', 2488: 'htaccess', 1049: 'comments', 110: '43', 4300: 'provide', 237: 'additional', 2427: 'hello', 1473: 'dependencies', 437: 'artifact', 3525: 'multiprocessing', 2147: 'forloop', 5517: 'taken', 687: 'borland', 2231: 'gcc', 1076: 'compilers', 3594: 'neo4j', 4205: 'prev', 5099: 'slideshow', 5776: 'typefile', 1217: 'converted', 2470: 'hooks', 6199: 'woocommerce', 4342: 'pyqt4', 2530: 'icons', 2599: 'importerror', 5216: 'sqlite3', 2087: 'firing', 5827: 'ul', 4202: 'pressing', 1831: 'entitymanagerfactory', 2413: 'hashtag', 5339: 'structures', 4172: 'predicate', 5652: 'today', 2701: 'inserting', 841: 'categories', 4767: 'rtf', 5840: 'undeclared', 1117: 'concurrency', 5064: 'simultaneous', 3535: 'mutexes', 2218: 'gae', 3347: 'mechanize', 443: 'ascx', 300: 'alone', 4582: 'removal', 3321: 'matlab', 2645: 'indicator', 2144: 'forever', 980: 'closing', 5881: 'unmarshall', 4029: 'phpstorm', 182: 'accessed', 3240: 'magic', 4751: 'router', 5816: 'uitableviewcells', 5465: 'synchronize', 2661: 'infowindow', 3498: 'msbuild', 2899: 'jenkins', 3706: 'nsurlconnection', 5422: 'sun', 3502: 'mssql', 3279: 'manytoone', 6272: 'xss', 491: 'attack', 2305: 'gone', 6056: 'vnext', 3236: 'macro', 4802: 'sass', 4644: 'requiring', 4458: 'ready', 5101: 'sliding', 4330: 'putting', 2933: 'jqueryui', 5760: 'twice', 515: 'autocompletion', 4651: 'resetting', 609: 'beginning', 3503: 'mstest', 4513: 'redirecting', 4165: 'practise', 1581: 'directorygetfiles', 3172: 'locked', 5345: 'stuck', 2717: 'instantiate', 4660: 'resolves', 2755: 'internal', 5842: 'underline', 3131: 'liststring', 3004: 'knockoutjs', 3478: 'mousemove', 4299: 'protractor', 2667: 'ini', 3271: 'manipulation', 577: 'ball', 5847: 'underscores', 3227: 'lwjgl', 2365: 'guess', 1070: 'compatibility', 1688: 'drivers', 2135: 'fopen', 4710: 'reuse', 3649: 'nondefault', 974: 'clone', 4382: 'questions', 4420: 'ranges', 5318: 'stringformat', 1154: 'consider', 3136: 'literal', 4568: 'released', 4164: 'practices', 424: 'around', 3624: 'nginclude', 5587: 'thing', 2111: 'floating', 4252: 'produces', 4256: 'products', 4203: 'prestashop', 3329: 'max_execution_time', 3564: 'nameerror', 4764: 'rss', 1934: 'expensive', 2416: 'hdfs', 5119: 'smtpclient', 3432: 'mod_wsgi', 2745: 'interaction', 6043: 'virtualenv', 1096: 'comprehension', 5834: 'unbind', 1731: 'easy', 5317: 'stringcontains', 6244: 'xamarin', 375: 'appconfig', 269: 'aggregation', 2676: 'initialized', 2677: 'initializer', 1798: 'encodings', 4338: 'pylab', 2880: 'javas', 1119: 'concurrenthashmap', 6108: 'webform', 498: 'attr_accessor', 1125: 'conditionals', 1739: 'edges', 686: 'borders', 6015: 'vertically', 4226: 'printer', 4178: 'preferences', 5915: 'updatepanel', 2726: 'int32', 2620: 'incomplete', 1074: 'compiled', 3675: 'notepad++', 4482: 'recognizing', 3378: 'messing', 5233: 'stackoverflow', 843: 'caught', 4180: 'prefix', 2930: 'jqueryajax', 2079: 'fire', 5406: 'success', 783: 'callbacks', 2918: 'joined', 3552: 'mysql_real_escape_string', 1864: 'established', 2770: 'interval', 2896: 'jdbctemplate', 4975: 'sessionfactory', 1937: 'expire', 1407: 'dead', 2395: 'hanging', 3213: 'lots', 3805: 'openfiledialog', 115: '50', 1203: 'continuously', 3390: 'middleware', 1899: 'exchange', 4817: 'scales', 5401: 'subtype', 3849: 'originally', 2118: 'fly', 4092: 'pm', 2695: 'inputstream', 5754: 'turning', 3764: 'off', 1118: 'concurrent', 5647: 'tls', 5489: 'systemnetwebexception', 2304: 'going', 806: 'capistrano', 31: '127', 2990: 'keyup', 3050: 'leaflet', 4950: 'sequentially', 5192: 'splitting', 3923: 'parallelforeach', 2559: 'iframes', 5212: 'sqldatareader', 3412: 'minute', 4473: 'receives', 899: 'checks', 441: 'ascending', 2156: 'formatted', 4171: 'predefined', 1470: 'density', 3386: 'metro', 2319: 'grade', 538: 'average', 2320: 'grades', 490: 'attachments', 4814: 'scalar', 1285: 'criteria', 1911: 'executes', 6046: 'visit', 4068: 'placeholders', 3344: 'measure', 3216: 'lower', 2354: 'growing', 5136: 'software', 1579: 'directories', 1726: 'earth', 112: '46', 5276: 'stdvector', 201: 'act', 1110: 'concatenating', 1365: 'datalist', 910: 'choose', 3582: 'navigator', 1930: 'expect', 572: 'backward', 693: 'boundaries', 4717: 'rewrite', 4773: 'rules', 1494: 'descriptors', 2980: 'kernel', 472: 'assistance', 1092: 'components', 1843: 'epoch', 5198: 'springdatajpa', 3405: 'minified', 4400: 'radiobutton', 849: 'cdi', 1622: 'divided', 2463: 'holding', 4645: 'rerender', 5311: 'street', 6269: 'xsd', 3341: 'meaning', 1120: 'concurrently', 5477: 'systemargumentexception', 3646: 'nonascii', 5157: 'sound', 6258: 'xmlelement', 650: 'bitmapimage', 2373: 'gulp', 584: 'bars', 5965: 'v2', 6103: 'webclient', 1659: 'dots', 1694: 'dropdownlist', 3817: 'operand', 4518: 'redraw', 1891: 'exc_bad_access', 4380: 'querystring', 3969: 'payments', 984: 'clr', 2518: 'hybrid', 790: 'camel', 333: 'andengine', 1464: 'delimiters', 1428: 'decoding', 5933: 'urllib', 4347: 'python3', 1331: 'customized', 1871: 'evaluating', 1050: 'commit', 5405: 'succeeded', 2047: 'filenames', 1915: 'exercise', 3291: 'margins', 2343: 'gridlayout', 913: 'chosen', 2598: 'imported', 3986: 'perfectly', 1570: 'dimensions', 1456: 'delegation', 6233: 'ws', 6185: 'windowsh', 1309: 'cstring', 5571: 'textboxfor', 4851: 'screenshot', 6138: 'weeks', 2415: 'hbase', 4819: 'scan', 434: 'arrows', 1314: 'cuda', 391: 'applescript', 4271: 'progressbar', 2108: 'flip', 2504: 'httprequest', 505: 'authenticate', 2788: 'io', 6157: 'whose', 2698: 'insensitive', 4948: 'sequences', 1430: 'decorators', 6048: 'visitor', 1399: 'dbmigrate', 4372: 'quantile', 3667: 'normalize', 1069: 'comparisons', 4772: 'rule', 3751: 'occured', 4344: 'pyside', 3090: 'lightweight', 6003: 'vendor', 2472: 'horizontally', 4732: 'robust', 4075: 'platform', 4031: 'phrase', 2070: 'finder', 885: 'chartjs', 1251: 'countdown', 2075: 'finish', 1414: 'debug', 3031: 'latex', 6153: 'white', 2408: 'hashing', 2867: 'javalangnosuchfielderror', 5682: 'trace', 1883: 'everytime', 450: 'asmx', 40: '18', 3016: 'lambdas', 5056: 'simplexml_load_string', 4572: 'reliably', 3001: 'kml', 614: 'behaviour', 1970: 'extjs4', 4200: 'pressed', 2338: 'greater', 4507: 'redeclare', 4213: 'previously', 5039: 'signature', 479: 'asterisk', 1772: 'ellipse', 3120: 'listboxitem', 1534: 'devices', 359: 'anyone', 2272: 'getjson', 1332: 'customizing', 2434: 'hexadecimal', 3611: 'newline', 2055: 'filesystem', 1527: 'developer', 222: 'activities', 471: 'assignments', 4249: 'processstart', 343: 'animating', 2642: 'indexpath', 329: 'analytics', 4676: 'restart', 850: 'ce', 3207: 'lose', 4176: 'preferably', 4902: 'select2', 5078: 'situation', 5221: 'square', 453: 'aspect', 4429: 'ratio', 2469: 'hook', 2114: 'fluent', 631: 'biggest', 4933: 'sent', 3557: 'mysqli_query', 3382: 'meteor', 1486: 'derive', 4503: 'recv', 2475: 'hosting', 3107: 'linkedin', 2234: 'gcm', 4045: 'piece', 3578: 'navigating', 2478: 'hour', 1291: 'crop', 682: 'boostasio', 6139: 'weight', 2919: 'joining', 4279: 'prop', 4261: 'profiling', 2381: 'hadoop', 949: 'cleanup', 5983: 'var', 867: 'cgi', 762: 'c++11', 1429: 'decorator', 1673: 'dplyr', 932: 'classcastexception', 118: '503', 862: 'certificate', 1942: 'explain', 1636: 'dock', 4150: 'postgres', 4138: 'positioned', 715: 'bringing', 3149: 'loader', 6287: 'yield', 4714: 'reversed', 706: 'branching', 3334: 'maybe', 6296: 'z', 2194: 'friends', 2843: 'japanese', 4668: 'responding', 5850: 'undo', 3785: 'onetomany', 294: 'allocation', 291: 'allocate', 3612: 'newlines', 1901: 'excluding', 3968: 'payment', 2226: 'gateway', 1380: 'dataurl', 4534: 'referring', 2625: 'increasing', 5391: 'subsequence', 3697: 'nsnumber', 2339: 'greek', 3672: 'notation', 2595: 'imply', 3869: 'outputting', 6253: 'xhtml', 446: 'ask', 6170: 'win', 5577: 'textinput', 6032: 'viewmodels', 5219: 'sqlserver', 672: 'board', 1259: 'cover', 3297: 'markers', 2592: 'implements', 3845: 'orientation', 1397: 'dbcontext', 1431: 'decrease', 1753: 'effects', 4006: 'persistent', 151: '__nsarraym', 4317: 'pull', 3420: 'mixed', 6029: 'viewer', 5176: 'specifically', 6030: 'viewing', 4618: 'reporting', 4323: 'purposes', 2891: 'jboss', 1482: 'deployment', 2875: 'javalangunsupportedclassversionerror', 236: 'addition', 3282: 'mapkit', 5581: 'tfs', 766: 'cached', 3404: 'minification', 1262: 'cpanel', 5325: 'strip', 270: 'agility', 3890: 'pack', 727: 'buffered', 2333: 'gravity', 3351: 'mediaplayer', 5956: 'utc', 1180: 'contact', 1264: 'cprogram', 6242: 'x86', 1270: 'crashing', 1998: 'failure', 2906: 'jlabel', 4986: 'settext', 5509: 'tableviewcell', 4677: 'restarting', 925: 'cities', 922: 'circle', 5636: 'timestamps', 1943: 'explanation', 4201: 'presses', 3063: 'legal', 4259: 'profiler', 1872: 'evaluation', 158: '_session', 6270: 'xsl', 1301: 'crypto', 6229: 'writes', 3408: 'minimized', 2523: 'i++', 4831: 'scheduler', 529: 'automation', 2972: 'kb', 2227: 'gauge', 2323: 'grails', 5591: 'third', 3734: 'objectid', 4612: 'replacing', 2566: 'ignoring', 4319: 'punctuation', 853: 'cellforrowatindexpath', 2406: 'hashcode', 5502: 'tabbed', 2216: 'g', 3757: 'occurring', 3365: 'menus', 3743: 'observe', 3740: 'observable', 5966: 'v3', 1198: 'continue', 3892: 'packages', 670: 'blur', 1183: 'contained', 3663: 'nonui', 1246: 'couchbase', 739: 'bulk', 275: 'akka', 5408: 'successfully', 5963: 'uwp', 3709: 'nth', 103: '403', 2136: 'forbidden', 5113: 'smarty', 1005: 'coding', 2581: 'imap', 872: 'chance', 1564: 'digit', 149: '__init__', 4288: 'props', 543: 'await', 1732: 'ec2', 6236: 'www', 4469: 'recaptcha', 4197: 'preserve', 2222: 'games', 1129: 'configurable', 4366: 'qtcreator', 4112: 'polymer', 1465: 'delivery', 5038: 'signals', 1114: 'concerns', 5877: 'unload', 403: 'approach', 4123: 'popover', 3273: 'manual', 6053: 'visualize', 4914: 'selectmenu', 3572: 'nas', 1758: 'either', 6218: 'wp7', 1388: 'datetimefield', 157: '_server', 1325: 'curve', 6241: 'x64', 669: 'bluetooth', 4834: 'scheme', 172: 'accept', 6215: 'worth', 6107: 'webelement', 407: 'arabic', 5359: 'subcategory', 5833: 'unavailable', 2495: 'htmlspecialchars', 6189: 'winrt', 2810: 'iso', 140: '8601', 2534: 'ideas', 4585: 'removed', 5050: 'similarity', 3894: 'packets', 3893: 'packet', 5758: 'tweet', 621: 'benefit', 4522: 'ref', 2855: 'javadoc', 136: '75', 1316: 'cumulative', 5385: 'subquery', 5746: 'trycatch', 1041: 'coming', 1406: 'de', 2999: 'kit', 5437: 'surface', 709: 'breakpoint', 5777: 'typeof', 4945: 'seperated', 4798: 'sample', 5142: 'solve', 3141: 'ljavalangobject', 3407: 'minimize', 3465: 'monitoring', 1628: 'djangoadmin', 2407: 'hashes', 5330: 'strong', 3613: 'newly', 2061: 'filtered', 1962: 'extending', 2210: 'functionality', 204: 'actionbar', 3208: 'loses', 4325: 'push_back', 4832: 'scheduling', 2576: 'imagebutton', 4935: 'sentences', 3920: 'paragraph', 4140: 'positions', 5599: 'threadingtimer', 4139: 'positioning', 217: 'actively', 1155: 'considered', 802: 'canvastodataurl', 3129: 'listobject', 2885: 'javautildate', 2199: 'fscanf', 1436: 'deep', 4345: 'pyspark', 3464: 'monitor', 1955: 'express', 1744: 'edition', 3215: 'low', 5229: 'stable', 4961: 'served', 4736: 'rollback', 4769: 'rubygem', 394: 'applicable', 5354: 'styling', 145: '__declspec', 3909: 'pairs', 3517: 'multipart', 3515: 'multiline', 177: 'accepts_nested_attributes_for', 4162: 'practical', 3173: 'locking', 1938: 'expired', 4915: 'selector', 489: 'attachment', 2586: 'impact', 3995: 'periodically', 2393: 'handshake', 5811: 'uisplitviewcontroller', 5802: 'uinavigationcontroller', 5283: 'stls', 4046: 'pieces', 5618: 'ticks', 1626: 'divs', 4057: 'pipes', 5434: 'suppress', 254: 'advanced', 768: 'caesar', 921: 'cipher', 5179: 'specifier', 3673: 'note', 6265: 'xmx', 323: 'amounts', 2842: 'jade', 3325: 'matter', 3885: 'overwriting', 3064: 'legend', 2370: 'guide', 3570: 'nan', 5728: 'tried', 3939: 'parseint', 6304: 'zipfile', 2707: 'instagram', 2824: 'iterable', 1361: 'dataframes', 720: 'browserify', 3523: 'multiplying', 3379: 'met', 3541: 'mvc5', 5709: 'transport', 4301: 'provided', 3978: 'pem', 5251: 'stat', 3165: 'located', 2197: 'frontend', 3462: 'mongoid', 4173: 'predict', 6305: 'zipped', 6089: 'wav', 297: 'allowing', 2237: 'gdi+', 550: 'axes', 4425: 'raster', 1645: 'documentready', 268: 'aggregate', 328: 'analysis', 4844: 'scores', 79: '301', 6225: 'writable', 4388: 'quit', 4227: 'printf', 2597: 'important', 2426: 'hell', 5984: 'var_dump', 1553: 'die', 3122: 'listen', 660: 'blinking', 4576: 'remain', 6104: 'webconfig', 2165: 'formula', 4044: 'pie', 4808: 'say', 6164: 'wifi', 3823: 'operators', 70: '26', 6191: 'wiring', 4311: 'pthreads', 5853: 'unexpectedly', 5910: 'unwrapping', 1892: 'exc_bad_instruction', 5336: 'structs', 791: 'camelcase', 5326: 'stripe', 3356: 'membership', 3730: 'objc', 3295: 'marked', 2739: 'intellisense', 3996: 'perl', 4753: 'routesrb', 1288: 'crm', 57: '2011', 5812: 'uitabbar', 5470: 'syntaxerror', 5624: 'timed', 1446: 'defining', 2848: 'jasperreport', 184: 'accessible', 289: 'alive', 6112: 'webinf', 3013: 'labels', 5589: 'think', 2355: 'grunt', 444: 'ashx', 3712: 'nullable', 5586: 'theres', 3750: 'occurance', 5969: 'val', 5364: 'subdirectory', 2927: 'jpg', 396: 'applicationcontext', 476: 'associations', 1748: 'ef', 279: 'alertdialog', 5058: 'simplify', 2696: 'inputted', 4396: 'rabbitmq', 3472: 'mootools', 90: '33', 663: 'blocked', 2568: 'iis7', 4533: 'referrer', 2158: 'formatting', 916: 'chromes', 2705: 'inspect', 3494: 'mpmovieplayercontroller', 4082: 'playing', 2970: 'kafka', 4108: 'polling', 1433: 'decrypt', 5880: 'unmarshal', 4393: 'qwidget', 3935: 'parents', 4611: 'replaces', 4963: 'servers', 4069: 'placement', 5991: 'vars', 2840: 'j2me', 4776: 'runner', 216: 'activeadmin', 5259: 'statically', 3699: 'nspredicate', 2967: 'jwt', 1306: 'csrf', 6005: 'verification', 935: 'classic', 4770: 'rubygems', 4111: 'polyline', 2217: 'g++', 3510: 'multibyte', 2894: 'jcombobox', 4126: 'populated', 2124: 'follow', 3283: 'mapped', 1356: 'databind', 1294: 'crossbrowser', 1999: 'fake', 5042: 'significant', 3442: 'modern', 459: 'assemblies', 2007: 'fancybox', 347: 'annotated', 5862: 'uninstall', 3116: 'lion', 4857: 'scrollbar', 4264: 'programmatic', 618: 'belongs', 5856: 'unhashable', 4481: 'recognized', 5892: 'unreadable', 3468: 'monotouch', 4731: 'robot', 1295: 'crossdomain', 5871: 'unity3d', 773: 'calculated', 2396: 'hangman', 2767: 'interrupt', 4432: 'raw_input', 600: 'beautiful', 6054: 'visualstudio', 106: '41', 122: '52', 5161: 'sources', 2812: 'isolate', 358: 'anyobject', 4350: 'pythons', 37: '16', 851: 'celery', 6207: 'worker', 5478: 'systemcurrenttimemillis', 6267: 'xp', 101: '400', 3967: 'payload', 4402: 'radius', 2159: 'formbased', 1672: 'doxygen', 3933: 'parentheses', 3466: 'mono', 2203: 'fullcalendar', 1244: 'cors', 2692: 'innertext', 659: 'blink', 15: '0xc0000005', 6273: 'xwwwformurlencoded', 5438: 'surfaceview', 4257: 'professional', 1825: 'enterprise', 1440: 'defaults', 2161: 'formed', 4879: 'secondary', 3276: 'manytomany', 4599: 'repaint', 3847: 'origin', 5352: 'stylesheet', 6143: 'welcome', 3761: 'odata', 2670: 'initialisation', 3156: 'localhost8080', 4722: 'richfaces', 3229: 'lxmlhtml', 2069: 'findby', 4: '#ifdef', 1210: 'controlling', 2029: 'ff', 5828: 'ultimate', 643: 'bindingsource', 19: '1000', 1026: 'colour', 2000: 'fall', 4132: 'porting', 5239: 'stand', 5851: 'unescape', 909: 'choices', 3044: 'ld', 754: 'bytearray', 781: 'callable', 5386: 'subscribe', 992: 'cocoapods', 4096: 'pods', 4091: 'plus', 298: 'allows', 2271: 'geting', 2539: 'identifying', 2638: 'indexes', 1959: 'ext', 4038: 'picking', 1747: 'ee', 257: 'advice', 352: 'ansi', 404: 'appropriate', 3157: 'localization', 3029: 'later', 920: 'cin', 1601: 'dismissing', 2182: 'freed', 3585: 'ndk', 1133: 'configured', 1261: 'covered', 2505: 'httprequestmessage', 4889: 'seed', 4863: 'scrolltop', 3993: 'period', 2460: 'hitting', 3796: 'oop', 2298: 'gmt', 1638: 'docs', 1808: 'endless', 1330: 'customize', 2104: 'flatten', 6052: 'visualization', 1630: 'djangos', 2043: 'filefield', 5110: 'smaller', 3248: 'maintain', 4520: 'reducing', 4687: 'resttemplate', 5639: 'timing', 2041: 'file_put_contents', 4805: 'saves', 2382: 'half', 2302: 'godaddy', 1178: 'consuming', 276: 'alamofire', 6256: 'xlsx', 5756: 'tutorial', 4694: 'retain', 4049: 'pil', 793: 'cameras', 975: 'cloning', 2839: 'j2ee', 4848: 'scratch', 3286: 'mappings', 307: 'alphabets', 3520: 'multiples', 1126: 'conditions', 371: 'apns', 4303: 'providers', 4974: 'session_start', 6222: 'wrapped', 858: 'centos', 124: '54', 2640: 'indexing', 1351: 'dashes', 869: 'cgridview', 175: 'accepting', 5409: 'suddenly', 2819: 'italic', 3318: 'mathematical', 4870: 'sdl', 4720: 'rgb', 6124: 'webservices', 5211: 'sqlconnection', 4909: 'selectedvalue', 4334: 'pyc', 6152: 'whilst', 624: 'beta', 4669: 'responds', 3910: 'pairwise', 4043: 'pid', 3300: 'markup', 4550: 'registering', 4757: 'rownames', 5420: 'summing', 4161: 'ppt', 4981: 'setinterval', 4624: 'representation', 1057: 'communications', 4980: 'setdata', 710: 'breakpoints', 1403: 'ddd', 2337: 'great', 3669: 'normally', 553: 'az', 4571: 'reliable', 4532: 'referer', 2815: 'isset', 1679: 'drawer', 579: 'banner', 2852: 'java_home', 4527: 'referenced', 3553: 'mysql_result', 5957: 'utf', 6155: 'whitespaces', 2086: 'firewall', 3036: 'launched', 5625: 'timeline', 5324: 'stringstream', 2130: 'fontawesome', 4037: 'picker', 4750: 'routeprovider', 1591: 'disappearing', 3511: 'multicolumn', 22: '1054', 3654: 'nongeneric', 2569: 'ilist', 2570: 'ilistt', 5772: 'typecasting', 2641: 'indexof', 5289: 'storage', 5185: 'spent', 1115: 'concise', 2503: 'httppost', 3601: 'nets', 5090: 'slashes', 569: 'backslashes', 1273: 'crawling', 1765: 'electron', 2366: 'guessing', 6271: 'xslt', 2952: 'jsonstringify', 2610: 'inbox', 5564: 'testsuite', 3662: 'nonstatic', 69: '256', 4590: 'renaming', 388: 'appjs', 5052: 'simple_form', 1769: 'elementwise', 2889: 'jaxrs', 1523: 'determining', 1509: 'destroyed', 6245: 'xamarinforms', 1297: 'crossplatform', 5768: 'twoway', 4395: 'r2', 2236: 'gdb', 6247: 'xampp', 6172: 'win7', 5258: 'static_cast', 1716: 'dynamic_cast', 2883: 'javasqldate', 2489: 'htm', 3308: 'massive', 6064: 'vs2010', 918: 'chunks', 4291: 'protected', 4456: 'readonly', 4340: 'pyplot', 5075: 'sitecore', 327: 'analog', 3794: 'onto', 6074: 'waitforsingleobject', 1381: 'dataview', 3977: 'peer', 4930: 'sends', 2215: 'fx', 4353: 'qimage', 2749: 'interceptor', 1090: 'complicated', 1340: 'cyrillic', 3533: 'mutable', 6100: 'webbased', 1112: 'concept', 2524: 'i18n', 4358: 'qpushbutton', 1337: 'cycle', 2944: 'json_encode', 1411: 'dealloc', 2785: 'invoked', 4892: 'seemingly', 5894: 'unrelated', 2737: 'integrityerror', 5879: 'unmanaged', 127: '5x', 1145: 'connected', 1830: 'entitymanager', 3615: 'newtonsoft', 5499: 't_variable', 6120: 'webrequest', 5973: 'validated', 5653: 'todays', 3423: 'mm', 6294: 'yyyy', 5549: 'temporarily', 1549: 'dictionarystring', 1664: 'dowhile', 3550: 'mysql_num_rows', 1867: 'euler', 6044: 'visibility', 4230: 'prints', 4862: 'scrollto', 3979: 'pending', 3991: 'performseguewithidentifier', 509: 'authorization', 4181: 'prefixes', 5488: 'systemiofilenotfoundexception', 1308: 'css3', 2884: 'javasqlsqlexception', 651: 'bits', 6204: 'workaround', 2747: 'intercept', 3744: 'observer', 1082: 'complement', 702: 'braces', 5694: 'transfer', 3586: 'near', 4958: 'serialport', 1571: 'dir', 5319: 'stringify', 1816: 'engines', 5199: 'springmvc', 4195: 'presentation', 3843: 'organize', 1666: 'downgrade', 5193: 'spot', 591: 'basis', 5483: 'systemdrawingimage', 3605: 'neural', 4796: 'salesforce', 1348: 'dash', 1600: 'dismiss', 4535: 'reflect', 4837: 'scikitlearn', 785: 'caller', 165: 'aborting', 5369: 'subject', 3839: 'ordered', 76: '2x', 2608: 'inactivity', 1618: 'distribution', 4248: 'processor', 65: '23', 1008: 'coldfusion', 126: '56', 6027: 'viewdidload', 902: 'chess', 1321: 'current_user', 5700: 'transition', 1936: 'expiration', 2908: 'jmeter', 3447: 'modifiers', 3272: 'manner', 548: 'awt', 6110: 'webgl', 4696: 'retina', 4235: 'pro', 2254: 'geocoding', 1939: 'expires', 701: 'br', 3905: 'paint', 1876: 'eventhandler', 4697: 'retrieval', 5393: 'subsets', 533: 'autowired', 5701: 'transitions', 1823: 'entered', 2099: 'flags', 507: 'authenticating', 6061: 'vowels', 1893: 'exceeded', 346: 'annotate', 5419: 'summary', 5260: 'statistics', 2315: 'gpu', 3047: 'leading', 5372: 'submenu', 1135: 'confirm', 4721: 'rich', 3287: 'mapreduce', 3277: 'manytomanyfield', 4067: 'placeholder', 335: 'androidviewinflateexception', 336: 'angle', 3812: 'openshift', 3467: 'monodevelop', 2666: 'inherits', 1575: 'directions', 4691: 'resultset', 4117: 'pomxml', 3178: 'log4jxml', 2303: 'goes', 5376: 'submitted', 3500: 'msg', 363: 'aop', 4872: 'se', 1463: 'delimiter', 3746: 'obtained', 1179: 'consumption', 1093: 'composer', 263: 'affects', 5789: 'uibootstrap', 689: 'bottleneck', 3944: 'partially', 5744: 'trusted', 378: 'appearance', 5901: 'unsorted', 5961: 'utils', 3358: 'memcached', 3873: 'overlap', 2105: 'flex', 2512: 'httpurlconnection', 120: '51', 4450: 'read_csv', 5245: 'stars', 5463: 'syncdb', 3623: 'ngif', 4339: 'pymongo', 2996: 'killing', 2561: 'ifstream', 1103: 'compute', 2577: 'imagefield', 6183: 'windows8', 5341: 'struts', 2368: 'guice', 402: 'applying', 1218: 'converter', 1468: 'demo', 3189: 'logo', 5210: 'sqlcommand', 5088: 'skscene', 4794: 'safety', 1044: 'commandline', 4858: 'scrollbars', 5423: 'sunday', 1040: 'comes', 3146: 'lnk2019', 2623: 'incorrectly', 3568: 'namespaces', 6254: 'xib', 3398: 'million', 4586: 'removefromsuperview', 3128: 'listitem', 1752: 'effectively', 163: 'abort', 1818: 'enhanced', 5887: 'unpack', 1256: 'counts', 2468: 'homework', 4602: 'repeatedly', 764: 'ca', 2394: 'hang', 602: 'become', 5888: 'unparseable', 5986: 'varchar', 3616: 'newtonsoftjson', 532: 'autowire', 4642: 'requirements', 827: 'cascading', 1879: 'eventtarget', 5891: 'unread', 4737: 'rolling', 556: 'babel', 1204: 'contour', 3861: 'outline', 253: 'advance', 3333: 'may', 1782: 'ember', 3630: 'ngshow', 6039: 'violates', 953: 'clearly', 4734: 'roles', 102: '401', 264: 'afnetworking', 6072: 'w3c', 4285: 'propertyinfo', 2827: 'iteration', 989: 'cmdexe', 2479: 'hours', 1141: 'confused', 2720: 'instantiation', 5350: 'styled', 4333: 'py', 221: 'activex', 2905: 'jinja2', 1247: 'couchdb', 3886: 'overwritten', 713: 'bridge', 5633: 'timeseries', 6240: 'x11', 2744: 'interacting', 901: 'chef', 2063: 'filters', 464: 'asset', 4056: 'pipeline', 4595: 'renders', 4207: 'preventdefault', 1364: 'datagridviews', 2541: 'identity_insert', 3068: 'lengths', 4124: 'popular', 2201: 'ftp', 2131: 'fonts', 2229: 'gb', 4747: 'rounded', 513: 'auto_now_add', 4781: 'runtimeerror', 2939: 'jserb', 4110: 'polygons', 2064: 'final', 6059: 'volley', 2402: 'hardware', 4442: 'reaches', 3707: 'nsurlrequest', 5934: 'urllib2', 4047: 'piechart', 528: 'automating', 2986: 'keyerror', 2517: 'hy000', 1136: 'confirmation', 2056: 'fileupload', 5476: 'systemaccessviolationexception', 1258: 'cout', 105: '405', 2668: 'init', 3488: 'movie', 6102: 'webcam', 5579: 'textures', 1243: 'corruption', 5126: 'soapclient', 3547: 'mysql2error', 167: 'absolutely', 2162: 'formpanel', 468: 'assigned', 6301: 'zf2', 6262: 'xmlreader', 3857: 'otherwise', 4621: 'repositories', 3597: 'nesting', 1009: 'collapse', 6118: 'webpages', 485: 'atomic', 2428: 'helloworld', 2971: 'karma', 940: 'classnotfoundexception', 2256: 'geom_line', 4827: 'scene', 3342: 'means', 2193: 'friendly', 3600: 'nethttp', 3902: 'paginate', 4167: 'preceded', 2016: 'fb', 866: 'cforeach', 4468: 'rebuild', 3639: 'noclassdeffounderror', 2631: 'indentation', 2790: 'ioerror', 1336: 'cxf', 771: 'calayer', 3350: 'median', 5490: 'systemnullreferenceexception', 4483: 'recommend', 439: 'artisan', 737: 'built', 1452: 'delay', 5348: 'stuff', 3331: 'maximized', 3691: 'nsinteger', 53: '2005', 3813: 'opensource', 2414: 'hasmany', 3862: 'outlook', 4614: 'reply', 5020: 'shortest', 6231: 'written', 1908: 'executed', 2989: 'keystore', 2935: 'jruby', 5320: 'stringjoin', 676: 'bookmark', 1065: 'compared', 999: 'coded', 4692: 'resume', 4079: 'played', 6234: 'wsdl', 1613: 'dist', 2263: 'getattr', 5941: 'usb', 3307: 'mass', 2321: 'gradient', 3042: 'layouts', 6263: 'xmlserializer', 35: '1404', 5154: 'sortable', 5552: 'tensorflow', 4890: 'seeing', 5115: 'smoother', 652: 'bitwise', 5668: 'toolsjar', 1968: 'externals', 5316: 'stringbuilder', 3421: 'mixing', 3647: 'nonblocking', 4484: 'recommendation', 1730: 'easing', 3158: 'localize', 3819: 'operating', 3057: 'leave', 1027: 'colours', 1107: 'computing', 1809: 'endpoint', 3982: 'percent', 4168: 'precise', 1432: 'decrement', 2207: 'func', 5086: 'skips', 4543: 'regarding', 5805: 'uint8_t', 5876: 'unlimited', 3679: 'notice', 769: 'cake', 4488: 'reconnect', 4936: 'seo', 3544: 'myclass', 4009: 'personal', 4759: 'rowwise', 1030: 'columnwise', 1754: 'efficiency', 5321: 'stringreplace', 5159: 'soup', 1215: 'conversions', 5498: 't_string', 1036: 'combining', 5080: 'size_t', 3121: 'listed', 6069: 'vuejs', 2789: 'ioc', 3715: 'nullreferenceexception', 3400: 'mime', 4673: 'responses', 2950: 'jsonparse', 952: 'clearing', 3232: 'machines', 5187: 'spider', 3244: 'mails', 4356: 'qml', 1985: 'factor', 1950: 'exported', 3418: 'mistake', 829: 'caseinsensitive', 39: '17', 85: '311', 5387: 'subscribers', 1884: 'evil', 208: 'actionresult', 4931: 'sense', 3659: 'nonnumeric', 3737: 'objectmapper', 4094: 'poco', 3089: 'lightbox', 3956: 'passwords', 243: 'adjust', 520: 'autoincrement', 4726: 'rightclick', 3008: 'kotlin', 1230: 'cordova', 188: 'accomplish', 939: 'classname', 5863: 'union', 4727: 'rights', 4653: 'resizable', 4927: 'sender', 4629: 'request_uri', 4441: 'reached', 2442: 'hides', 3595: 'nest', 2985: 'keydown', 3135: 'listviews', 923: 'circles', 3163: 'localtime', 3700: 'nsregularexpression', 2733: 'integrated', 3017: 'lan', 2811: 'iso88591', 2483: 'however', 5686: 'trailing', 2487: 'hresult', 5329: 'stroke', 2854: 'javac', 2562: 'igniter', 2869: 'javalangnullpointerexception', 1131: 'configurations', 1682: 'drawn', 144: '__attribute__', 286: 'aligned', 3671: 'nosuchmethodexception', 1710: 'duplicated', 4875: 'searches', 1239: 'corresponding', 3485: 'moved', 3366: 'mercurial', 5106: 'slowly', 4292: 'protection', 4267: 'programmer', 3444: 'modification', 4686: 'restrictions', 1918: 'existence', 5443: 'svn', 4362: 'qt4', 1676: 'dragging', 2497: 'http_referer', 6250: 'xdocument', 4351: 'q', 1305: 'cshtml', 2765: 'interpreting', 4598: 'reordering', 2678: 'initializers', 2125: 'followed', 1006: 'coerced', 2097: 'fixnum', 1448: 'definitions', 3083: 'license', 2644: 'indicate', 5139: 'solr', 2628: 'incrementally', 2384: 'hand', 4438: 'rdd', 5717: 'treating', 5738: 'troubleshooting', 5300: 'strategies', 973: 'clojure', 4985: 'setters', 1958: 'expressjs', 4648: 'reserved', 4563: 'relations', 4840: 'scoped', 4570: 'relevant', 357: 'anymore', 534: 'autowiring', 2102: 'flasksqlalchemy', 5629: 'timepicker', 891: 'checkboxlist', 2662: 'inherit', 4896: 'segfault', 2675: 'initializecomponent', 5033: 'sidebar', 2772: 'intervention', 4842: 'scoping', 1271: 'crawl', 936: 'classification', 2341: 'grey', 2435: 'hhmm', 1713: 'duration', 3732: 'objectdatasource', 3482: 'mousewheel', 2778: 'invalidoperationexception', 835: 'castle', 6186: 'windsor', 3430: 'mod', 6: '#object', 5494: 'systemstackoverflowexception', 6163: 'widths', 2259: 'gesture', 461: 'assert', 2731: 'integral', 2863: 'javalangillegalargumentexception', 5713: 'traverse', 2665: 'inheriting', 5068: 'sine', 6090: 'wave', 5715: 'tray', 4314: 'publish', 5168: 'spanish', 301: 'along', 1724: 'earlier', 1175: 'constructs', 1727: 'easier', 317: 'although', 2139: 'forcing', 5527: 'taskbar', 2336: 'greasemonkey', 1268: 'crashed', 1640: 'doctrine2', 299: 'almost', 2887: 'javaxmailmessagingexception', 3160: 'locally', 231: 'addclass', 4584: 'removeclass', 583: 'barplot', 5525: 'targets', 2001: 'fallback', 1924: 'exits', 3770: 'often', 1367: 'datarow', 5697: 'transformation', 3249: 'maintaining', 1507: 'destination', 1185: 'containers', 2882: 'javascripts', 183: 'accessibility', 5919: 'upgrading', 4001: 'permutation', 2560: 'ifs', 5102: 'slightly', 863: 'certificates', 1453: 'delayed', 4664: 'respect', 2369: 'guid', 5528: 'taskrun', 3994: 'periodic', 447: 'asking', 1819: 'enough', 3243: 'mailer', 419: 'argumenterror', 2462: 'hold', 6019: 'vice', 6008: 'versa', 4864: 'scrollview', 4632: 'requesting', 1560: 'differently', 5112: 'smart', 2777: 'invalidate', 4508: 'redefinition', 5774: 'typedef', 4672: 'responseredirect', 4728: 'rmarkdown', 3033: 'latin1', 5133: 'socketio', 4859: 'scrolled', 5141: 'solutions', 1554: 'diff', 193: 'accounts', 4119: 'pooling', 3159: 'localized', 4240: 'proc', 1323: 'cursor', 3989: 'performed', 2449: 'higher', 1749: 'ef6', 47: '1st', 2447: 'highchart', 640: 'binded', 5041: 'signed', 3137: 'literals', 944: 'clauses', 247: 'administrator', 2444: 'hierarchical', 3997: 'permgen', 3353: 'medium', 1792: 'enclosing', 2795: 'ios6', 2794: 'ios5', 2190: 'frequently', 1528: 'developers', 4269: 'programs', 3048: 'leads', 2868: 'javalangnosuchmethoderror', 3140: 'ljava', 3019: 'lang', 6259: 'xmlgregoriancalendar', 906: 'childs', 3878: 'overloaded', 3456: 'momentjs', 3383: 'meteorjs', 5340: 'struggling', 5195: 'spreadsheets', 5226: 'ssis', 5235: 'stacktrace', 1319: 'currency', 62: '21', 2527: 'ibm', 2195: 'from', 5780: 'typetext', 5949: 'userdefined', 1461: 'deletion', 3827: 'optimization', 832: 'cassandra', 3521: 'multiplication', 2762: 'interpret', 4447: 'reactnative', 3776: 'onblur', 2309: 'googlemap', 5243: 'stanford', 6082: 'warn', 942: 'classs', 5948: 'usercontrols', 612: 'behaving', 5937: 'urlspy', 4156: 'pound', 3868: 'outputstream', 4186: 'premature', 2630: 'indent', 4245: 'processed', 242: 'adjacent', 3741: 'observablecollection', 4913: 'selectlist', 2742: 'intent', 3657: 'nonnull', 5217: 'sqlparameter', 4315: 'published', 2969: 'k', 919: 'ci', 3027: 'lat', 3144: 'lng', 5331: 'strongly', 3046: 'lead', 6252: 'xhr', 2048: 'filenotfoundexception', 6169: 'wildfly', 2239: 'gemfile', 5759: 'tweets', 2766: 'interprocess', 3100: 'linebreaks', 5813: 'uitabbarcontroller', 3575: 'nav', 4531: 'referential', 1254: 'countries', 1472: 'depend', 5534: 'team', 1906: 'executables', 3234: 'macos', 1047: 'commaseparated', 4641: 'requirement', 4073: 'plaintext', 1503: 'designing', 4866: 'scss', 3490: 'mozilla', 4940: 'separating', 3190: 'logon', 2998: 'kinect', 2937: 'jscript', 4917: 'selects', 2128: 'follows', 4587: 'removes', 3853: 'osgi', 2349: 'groupbox', 4999: 'shallow', 5077: 'sites', 2404: 'has_one', 1066: 'compareto', 5014: 'shopify', 1540: 'diagram', 3410: 'minor', 4625: 'represented', 1106: 'computers', 367: 'apart', 1024: 'coloring', 5358: 'subcategories', 4702: 'retriving', 1379: 'datatypes', 1016: 'collection_select', 4861: 'scrolls', 4894: 'seen', 384: 'appender', 1817: 'english', 5205: 'sprites', 5791: 'uibuttons', 2920: 'joins', 3474: 'motion', 478: 'assume', 5399: 'subtracting', 5111: 'smallest', 2683: 'injected', 4368: 'qualifier', 1751: 'effective', 5642: 'tips', 6050: 'vista', 5753: 'turned', 3455: 'moment', 5287: 'stopping', 4505: 'recyclerview', 4223: 'print_r', 4867: 'sd', 3346: 'mechanism', 5869: 'unittesting', 1053: 'commons', 5886: 'unordered_map', 837: 'catalog', 3733: 'objectforkey', 271: 'ago', 5638: 'timezones', 5576: 'textfile', 4994: 'sftp', 6024: 'viewcontroller', 1412: 'deallocated', 1634: 'dns', 3327: 'mavericks', 24: '109', 3980: 'people', 1286: 'critical', 1368: 'datarows', 2458: 'hit', 1063: 'comparator', 1413: 'debian', 2: '#2', 4415: 'randomize', 431: 'arrayliststring', 2499: 'httpcontext', 4704: 'retry', 2860: 'javalangarrayindexoutofboundsexception', 3728: 'oauthexception', 2481: 'hovering', 3504: 'msvc', 3349: 'mediaelement', 1974: 'extraction', 1409: 'deal', 4175: 'prefer', 3143: 'lm', 4105: 'polar', 1982: 'facet', 494: 'attempted', 4553: 'regression', 449: 'asm', 154: '_id', 604: 'before_filter', 1814: 'enforcing', 2170: 'fosuserbundle', 4735: 'roll', 5995: 'vba', 1532: 'deviation', 2736: 'integrity', 4371: 'quality', 95: '365', 2837: 'ive', 1565: 'digital', 6095: 'weak', 2465: 'homebrew', 1978: 'fabricjs', 5472: 'sys', 4064: 'pl', 703: 'bracket', 2036: 'fieldset', 213: 'activating', 5121: 'snap', 2423: 'heatmap', 4357: 'qplot', 4874: 'searchbar', 4685: 'restriction', 522: 'autoload', 1427: 'decoded', 1127: 'conf', 4495: 'rect', 2849: 'jasperreports', 1196: 'contextmenu', 5729: 'tries', 2445: 'hierarchy', 4510: 'redirect_to', 4934: 'sentence', 5536: 'technique', 2966: 'jvms', 5932: 'urlaction', 2214: 'fwrite', 6080: 'wants', 2109: 'flipping', 5885: 'unordered', 5994: 'vb6', 4627: 'represents', 4665: 'respective', 5651: 'toast', 480: 'asterisks', 2014: 'fatalerrorexception', 5414: 'suggestion', 2345: 'grids', 1077: 'compiles', 2639: 'indexhtml', 2160: 'formdata', 220: 'activerecordrecordnotfound', 776: 'calculations', 1954: 'expr', 1350: 'dashed', 4489: 'reconnecting', 2864: 'javalangillegalstateexception', 6219: 'wp8', 241: 'adds', 1941: 'expiry', 4028: 'phpsessid', 4485: 'recommendations', 2387: 'handlebarsjs', 4286: 'propertyplaceholderconfigurer', 4129: 'popups', 3507: 'mule', 91: '34', 826: 'cascade', 4391: 'quote', 5883: 'unmatched', 2454: 'hint', 4326: 'pushed', 606: 'begin', 303: 'alphabet', 5507: 'tablet', 10: '00', 2293: 'globals', 5367: 'subfolder', 610: 'behave', 3294: 'markdown', 353: 'ansible', 2818: 'ist', 4260: 'profiles', 3095: 'limiting', 2164: 'formset', 871: 'chaining', 2054: 'filestream', 1736: 'eclipselink', 160: 'abc', 2317: 'grabbing', 3619: 'ngclass', 3093: 'limitations', 5797: 'uiimagepickercontroller', 993: 'cocos2d', 2537: 'identifiers', 5131: 'socketerror', 1391: 'datetimes', 4828: 'scenes', 5238: 'stamp', 6196: 'wizard', 161: 'ability', 605: 'before_save', 1329: 'customising', 4289: 'pros', 1152: 'cons', 252: 'adt', 848: 'cdata', 3339: 'mdi', 2283: 'github', 2500: 'httpget', 3161: 'locals', 645: 'bins', 6175: 'windowlocation', 2771: 'intervals', 2269: 'getelementsbyclassname', 3336: 'mbstring', 6285: 'yesterday', 5474: 'syspath', 5: '#include', 2268: 'getelementbyid', 2361: 'gtk', 1909: 'executenonquery', 3632: 'nib', 5085: 'skipping', 2459: 'hits', 5228: 'ssrs', 5680: 'tpl', 1013: 'collected', 5044: 'signs', 1335: 'cvmat', 3584: 'ndarray', 2391: 'handles', 125: '55', 3717: 'numberformatexception', 6140: 'weighted', 1690: 'drools', 4217: 'primaryexpression', 5650: 'toarray', 4196: 'presented', 13: '09', 5046: 'silent', 6025: 'viewcontrollers', 3638: 'nltk', 4295: 'protocols', 4871: 'sdl2', 5835: 'unbound', 788: 'callout', 5557: 'terminating', 5595: 'thousands', 5013: 'shipping', 1437: 'deeply', 374: 'app_code', 2335: 'grayscale', 4943: 'separators', 1695: 'dropdownlists', 4907: 'selectedindexchanged', 3775: 'omit', 393: 'applets', 2311: 'googles', 3973: 'pdfptable', 5896: 'unsafe', 4355: 'qlineedit', 4574: 'reloaddata', 3096: 'limits', 6049: 'visitors', 2255: 'geolocation', 1160: 'consolewriteline', 4397: 'rack', 592: 'bat', 2636: 'indexer', 4613: 'replicate', 2038: 'figures', 4754: 'routine', 326: 'anaconda', 1821: 'ensuring', 1976: 'f', 2658: 'inflating', 6182: 'windows7', 5143: 'solved', 907: 'chinese', 3580: 'navigationbar', 2510: 'httpservletresponse', 4996: 'sha256', 539: 'avfoundation', 5866: 'uniqueness', 797: 'candidate', 4719: 'rewriting', 3912: 'pan', 2521: 'hyphen', 1345: 'daily', 5546: 'templatefield', 4318: 'pulling', 6028: 'viewed', 1983: 'facets', 3932: 'parentchild', 2017: 'fcm', 2703: 'inserts', 1156: 'consistently', 6302: 'zindex', 1377: 'datatemplate', 947: 'cleaning', 6114: 'weblogic', 2004: 'family', 5328: 'strlen', 21: '1024', 4332: 'px', 1353: 'dataannotations', 1786: 'emulate', 5473: 'sysargv', 42: '19', 2267: 'getdate', 2058: 'filled', 5755: 'turns', 4020: 'php5', 1113: 'concepts', 4215: 'prices', 1035: 'combined', 1206: 'contract', 390: 'apples', 5539: 'telerik', 178: 'acces', 1813: 'enforce', 729: 'buffering', 5306: 'streamed', 2543: 'idiom', 5899: 'unset', 4494: 'recreate', 4179: 'preferred', 1573: 'directed', 1014: 'collecting', 1928: 'expanding', 1011: 'collapsing', 6161: 'widgets', 632: 'bigint', 4310: 'pthread_create', 1708: 'dumping', 113: '48', 445: 'asio', 1493: 'descriptor', 4743: 'rotated', 4211: 'previews', 3581: 'navigationcontroller', 4379: 'querysets', 2743: 'interact', 2520: 'hyperlinks', 1099: 'compressed', 366: 'apachepoi', 5684: 'tracking', 2728: 'intact', 3929: 'parametrized', 3609: 'newer', 3396: 'migrations', 5171: 'spawn', 4615: 'repo', 26: '110', 2295: 'glsl', 6227: 'writeobject', 2421: 'headless', 4841: 'scopes', 3787: 'onetoonefield', 1300: 'crudrepository', 5520: 'talk', 2103: 'flat', 5082: 'sizeof', 4921: 'selfclosing', 1296: 'crossorigin', 3753: 'occurences', 4788: 'rxjava', 1543: 'dialogbox', 1081: 'complains', 1762: 'elapsed', 3145: 'lnk2001', 971: 'clob', 892: 'checkboxs', 3854: 'ossystem', 5395: 'substitute', 2823: 'itemtemplate', 2212: 'future', 2022: 'feedback', 4476: 'recipient', 545: 'away', 283: 'alias', 3710: 'nuget', 4435: 'rc', 4305: 'proxies', 2356: 'gruntjs', 2740: 'intended', 5762: 'twilio', 2979: 'keras', 4955: 'serialized', 1023: 'colored', 3768: 'offline', 2297: 'gmap', 4071: 'placing', 361: 'anyway', 1051: 'committed', 6068: 'vue', 1552: 'didselectrowatindexpath', 6276: 'xxxx', 4428: 'rating', 4512: 'redirected', 1987: 'factors', 1396: 'db2', 5379: 'subplots', 2065: 'finalize', 1019: 'collector', 4711: 'reusing', 718: 'browse', 3058: 'leaves', 1193: 'contenttype', 3852: 'oserror', 666: 'blog', 463: 'assertionerror', 5338: 'structured', 3760: 'octal', 2219: 'gain', 3270: 'manipulating', 3608: 'newbie', 2798: 'iostream', 3416: 'miss', 898: 'checkout', 3864: 'outofmemoryerror', 1137: 'conflict', 6235: 'wsgirequest', 6264: 'xmpp', 1359: 'datacontext', 3867: 'outputs', 4542: 'refuses', 4360: 'qstring', 5343: 'stub', 5103: 'slots', 2072: 'findviewbyid', 1923: 'exiting', 6109: 'webforms', 560: 'backcolor', 644: 'bindparam', 2310: 'googlemaps', 5609: 'throwable', 5162: 'spa', 1347: 'dao', 3233: 'macho', 5832: 'unauthorized', 198: 'acl', 1312: 'cube', 535: 'availability', 6261: 'xmlns', 376: 'appdelegate', 5266: 'std', 2910: 'jndi', 5029: 'shuffle', 595: 'battleship', 5626: 'timely', 2009: 'fashion', 4401: 'radiobuttonlist', 677: 'books', 5522: 'tapped', 2191: 'fresh', 6016: 'vertices', 6013: 'vertex', 4005: 'persistence', 5344: 'stubbing', 4499: 'recurring', 736: 'buildxml', 6173: 'winapi', 3896: 'pad', 2024: 'feel', 5382: 'subprocesscheck_output', 3247: 'mainobject', 4193: 'presence', 4010: 'perspective', 531: 'autoscroll', 6279: 'yahoo', 3: '#define', 5719: 'treemap', 1287: 'crlf', 4316: 'publishing', 4074: 'plan', 5427: 'supplied', 5726: 'tricks', 1059: 'commysqljdbcdriver', 5938: 'us', 2901: 'jetty', 549: 'awteventqueue0', 4941: 'separation', 948: 'cleanly', 3138: 'little', 1806: 'endian', 2138: 'forced', 5913: 'update_attributes', 1699: 'dropping', 4405: 'rails4', 4039: 'picklist', 4699: 'retrieved', 4924: 'semicolon', 5081: 'sized', 1684: 'dreamweaver', 2200: 'fstream', 4635: 'requestquerystring', 5071: 'singletons', 763: 'c1083', 3802: 'opencv2', 2166: 'formulas', 3481: 'mouseup', 119: '504', 3397: 'miles', 5028: 'shrink', 4033: 'phtml', 2261: 'get_or_create', 5149: 'somewhere', 5515: 'tail', 4424: 'raspberry', 4035: 'pi', 3655: 'nonlinear', 5864: 'uniqid', 6136: 'weekends', 744: 'bundling', 1940: 'expiring', 5151: 'soon', 1629: 'djangorestframework', 912: 'choosing', 3087: 'lifetime', 3692: 'nsinvalidargumentexception', 3951: 'passenger', 761: 'c++0x', 6150: 'wheres', 1991: 'fadein', 1678: 'drawbacks', 2847: 'jasper', 2546: 'idle', 3431: 'mod_rewrite', 3621: 'ngdisabled', 2074: 'finger', 2363: 'guaranteed', 5705: 'translation', 3000: 'kivy', 5810: 'uisegmentedcontrol', 5061: 'simulating', 4715: 'reversing', 1515: 'detailed', 4992: 'sever', 2116: 'flush', 1835: 'enumerate', 130: '61', 639: 'bind_param', 3174: 'locks', 4233: 'prism', 6023: 'viewbag', 3062: 'legacy', 813: 'captured', 3952: 'passes', 2318: 'gracefully', 94: '360', 1450: 'degrees', 3166: 'locating', 3441: 'modelspy', 4718: 'rewriterule', 5356: 'subarray', 5094: 'slices', 4709: 'reusable', 954: 'clears', 2856: 'javaee', 4771: 'rubys', 5468: 'synchronously', 3658: 'nonnullable', 1401: 'dbseed', 1662: 'doubles', 5535: 'teamcity', 1284: 'credit', 4822: 'scanning', 3627: 'ngoptions', 1545: 'dice', 1226: 'copied', 633: 'biginteger', 2020: 'fedora', 4419: 'rangeerror', 4982: 'setrequestheader', 4506: 'red', 46: '1gb', 4166: 'pre', 259: 'aes256', 5656: 'toggling', 4785: 'rvalue', 5795: 'uidatepicker', 4856: 'scrollable', 2457: 'history', 1922: 'exited', 3427: 'mocked', 229: 'adb', 6243: 'x86_64', 5461: 'symmetric', 2023: 'feeds', 4634: 'requestparam', 4620: 'reportviewer', 2941: 'jsfiddle', 4487: 'recompile', 135: '71', 795: 'cancellation', 4131: 'portable', 1492: 'descriptions', 986: 'clustering', 5616: 'thymeleaf', 6146: 'wget', 1914: 'executorservice', 1842: 'eof', 5497: 'systemtype', 6278: 'xyz', 3698: 'nsobject', 883: 'charset', 1668: 'downloadable', 2042: 'filecopy', 2544: 'idiomatic', 1445: 'defines', 4577: 'remainder', 3376: 'messaging', 4298: 'prototypes', 4477: 'recipients', 1389: 'datetimenow', 1583: 'dirty', 5222: 'squares', 2603: 'improve', 1805: 'ended', 365: 'apache2', 4453: 'readfile', 1241: 'corrupt', 5204: 'spritekit', 904: 'childnodes', 5327: 'stripping', 2602: 'impossible', 1874: 'evenly', 1624: 'divisible', 3518: 'multiplayer', 6018: 'viable', 4106: 'policy', 1865: 'estimation', 5553: 'term', 2874: 'javalangunsatisfiedlinkerror', 938: 'classloader', 3499: 'mscorlibdll', 3202: 'looks', 2501: 'httphandler', 5421: 'sums', 2528: 'icloud', 5992: 'varying', 4789: 'rxjs', 964: 'clientid', 5620: 'tile', 4811: 'scaffolding', 5120: 'snake', 6065: 'vs2012', 3495: 'mpmovieplayerviewcontroller', 1466: 'delphi', 5302: 'stray', 3505: 'msword', 4365: 'qtablewidget', 4626: 'representing', 227: 'adapt', 1916: 'exhausted', 5402: 'subversion', 2331: 'graphing', 5030: 'shutdown', 5018: 'shortcuts', 2727: 'int64', 1746: 'edittext', 142: '90', 4421: 'rank', 4133: 'portion', 2653: 'inference', 4373: 'quantity', 3548: 'mysql_connect', 966: 'clientserver', 1488: 'des', 4135: 'ports', 1550: 'dicts', 2252: 'geo', 1449: 'degree', 2436: 'hhmmss', 5304: 'strcpy', 2783: 'invoice', 4052: 'pinvoke', 1142: 'confusing', 6010: 'versioning', 1725: 'early', 2461: 'hive', 1707: 'dumped', 3651: 'nonempty', 3222: 'lt', 1611: 'disposed', 6131: 'webstorm', 4616: 'reponse', 3226: 'lvalue', 3363: 'menubar', 6088: 'watermark', 5174: 'specialization', 2791: 'ioexception', 5389: 'subscriptable', 1100: 'compressing', 1358: 'databound', 5087: 'sklearn', 2550: 'ie11', 5428: 'supply', 2141: 'foreground', 2107: 'flickering', 524: 'automate', 4231: 'prior', 2241: 'gender', 159: 'abbreviations', 5950: 'userid', 5693: 'transactionscope', 4440: 'reach', 2507: 'httpresponsemessage', 2027: 'fetched', 6033: 'viewpager', 2879: 'javanetsocketexception', 5798: 'uiimages', 1383: 'datefromstring', 1: '#1', 3099: 'linearlayout', 3976: 'pdoexception', 5524: 'targeting', 274: 'aka', 4418: 'rangebased', 246: 'administration', 3670: 'nosuchmethoderror', 3278: 'manytomanyfields', 1603: 'dispatch_async', 74: '2gb', 3235: 'macosx', 2604: 'improving', 5270: 'stdlist', 473: 'associate', 5021: 'shorthand', 1647: 'documentwrite', 1219: 'converters', 4455: 'readline', 619: 'belongs_to', 2386: 'handlebars', 705: 'branch', 5384: 'subqueries', 749: 'buttonclick', 5765: 'twitterbootstrap', 5224: 'sscanf', 4799: 'samples', 5492: 'systemoutprintln', 3571: 'nanoseconds', 1860: 'escaped', 5592: 'thirdparty', 3648: 'nonconst', 2192: 'friend', 44: '193', 1799: 'encountered', 1393: 'daylight', 4807: 'savings', 5911: 'unzip', 6195: 'wix', 5234: 'stackoverflowerror', 2078: 'finite', 3180: 'logcat', 4557: 'reject', 5634: 'timespan', 2258: 'german', 3567: 'namespaced', 1723: 'ear', 2189: 'frequent', 5007: 'sheets', 759: 'c#s', 5698: 'transforming', 4412: 'ran', 452: 'aspbutton', 4903: 'select_tag', 5353: 'stylesheets', 3629: 'ngroute', 5375: 'submits', 4170: 'precompiled', 287: 'aligning', 293: 'allocating', 2916: 'jodatime', 5922: 'uploader', 5368: 'subfolders', 2773: 'interview', 5703: 'translated', 4352: 'qapplication', 646: 'birth', 3637: 'nio', 5588: 'things', 1495: 'deselect', 5312: 'strength', 5201: 'springsecurity', 3021: 'languages', 1742: 'edited', 4809: 'saying', 1334: 'cv', 807: 'capital', 3492: 'mp4', 3484: 'move_uploaded_file', 3343: 'meant', 2753: 'intermediate', 2672: 'initialising', 5613: 'thumb', 4328: 'pushviewcontroller', 3538: 'mvc2', 5267: 'stdclass', 565: 'backgroundposition', 4120: 'poor', 143: '_', 2051: 'filereader', 5543: 'temperature', 1807: 'ending', 823: 'carry', 4683: 'restricted', 4853: 'scripting', 2026: 'fetchall', 2006: 'fancy', 5138: 'solid', 3458: 'money', 3895: 'packing', 2169: 'forwarding', 1696: 'dropdowns', 1240: 'corresponds', 2466: 'homepage', 2872: 'javalangruntimeexception', 5590: 'thinks', 5643: 'titanium', 1159: 'consolereadline', 1979: 'face', 2410: 'hashmaps', 117: '502', 1526: 'developed', 2741: 'intensive', 2978: 'kepler', 3225: 'luna', 2494: 'htmlelement', 2264: 'getattribute', 2851: 'java8', 3602: 'netty', 5743: 'trust', 4008: 'person', 1567: 'dim', 4297: 'prototypejs', 2362: 'guarantee', 4630: 'requestbody', 2411: 'hashset', 1902: 'exclusive', 5253: 'stateless', 5292: 'stores', 3415: 'misplaced', 4002: 'permutations', 4229: 'println', 12: '05', 4225: 'printed', 2344: 'gridlines', 4277: 'promises', 4919: 'seleniumwebdriver', 5707: 'transparency', 4237: 'probably', 150: '__init__py', 6002: 'vectorstring', 2145: 'forin', 4103: 'pojo', 205: 'actionlink', 2091: 'fits', 5466: 'synchronized', 324: 'amp', 2542: 'idictionary', 599: 'bearer', 582: 'barcode', 2983: 'keychain', 5737: 'troubles', 5908: 'unusual', 466: 'assetsprecompile', 3360: 'memoryerror', 1885: 'ews', 3749: 'occur', 6026: 'viewdata', 4712: 'reveal', 3199: 'longrunning', 878: 'channels', 5394: 'subsetting', 1058: 'community', 4877: 'sec', 951: 'cleared', 6310: 'zurb', 4689: 'resulting', 5019: 'shorter', 620: 'benchmark', 2289: 'gldrawelements', 2651: 'individually', 171: 'accents', 5242: 'standards', 138: '80', 187: 'accessory', 5985: 'varbinary', 5481: 'systemdatetime', 5200: 'springs', 2380: 'hacking', 4850: 'screens', 2049: 'fileoutputstream', 423: 'arm', 2797: 'ios8', 2340: 'grep', 5670: 'tooltips', 2045: 'fileinputstream', 1812: 'enemy', 3486: 'movement', 4504: 'recvfrom', 5601: 'threadpool', 6209: 'workflow', 5383: 'subprocesspopen', 2813: 'isolated', 174: 'accepted', 2223: 'gap', 6190: 'winxp', 6176: 'windowlocationhref', 3618: 'ngchange', 2325: 'grand', 859: 'central', 1701: 'dto', 5804: 'uint8', 28: '1110', 3622: 'nghide', 5551: 'tensor', 4066: 'placed', 4457: 'reads', 5122: 'snippet', 1189: 'contenteditable', 5793: 'uicollectionviewcell', 4251: 'producer', 4243: 'proceed', 2033: 'fibonacci', 4013: 'phase', 2649: 'indirectly', 4946: 'sequelize', 3052: 'leaked', 4638: 'require_once', 1660: 'dotted', 2963: 'juno', 2876: 'javalibrarypath', 4795: 'sailsjs', 3345: 'measuring', 5619: 'tiff', 4095: 'pod', 3783: 'oneliner', 6274: 'xx', 630: 'bigger', 5572: 'textboxs', 2706: 'inspector', 4389: 'quiz', 1563: 'digest', 616: 'belong', 5695: 'transferred', 809: 'capitan', 576: 'balance', 911: 'chooser', 1541: 'dialect', 2077: 'finishes', 1977: 'f#', 2688: 'inlines', 1623: 'dividing', 425: 'arrange', 3788: 'onfocus', 915: 'chromedriver', 1190: 'contentlength', 1824: 'entering', 5533: 'tdd', 3513: 'multilanguage', 978: 'closes', 635: 'bigquery', 653: 'bizarre', 3127: 'listint', 1387: 'datetimedate', 6130: 'websql', 3720: 'numerical', 5968: 'vagrant', 5575: 'textfields', 3927: 'parameterless', 3724: 'nvarchar', 5332: 'strpos', 5333: 'strptime', 4956: 'serializer', 1593: 'disconnect', 3301: 'marshal', 5486: 'systemint32', 5649: 'to_json', 1714: 'dword', 511: 'authorized', 3443: 'modes', 5982: 'vanilla', 4671: 'responsebody', 2984: 'keycode', 2206: 'fully', 5186: 'sphere', 6251: 'xelement', 4136: 'pos', 5513: 'tagging', 2149: 'form1', 865: 'cf', 1984: 'facing', 370: 'apk', 3187: 'logins', 2787: 'involving', 5442: 'svm', 5788: 'uibarbuttonitem', 5820: 'uitoolbar', 2399: 'happening', 1894: 'exceeds', 5150: 'sonar', 1080: 'complaining', 5945: 'useless', 743: 'bundles', 3908: 'paired', 6106: 'webdriverjs', 5482: 'systemdrawing', 210: 'actionscript', 2299: 'gnu', 3255: 'makefiles', 3193: 'logstash', 3965: 'paused', 5400: 'subtraction', 590: 'basics', 454: 'aspectj', 121: '510', 1657: 'dos', 752: 'bypassing', 5794: 'uid', 1205: 'contours', 2150: 'form2', 6280: 'yaml', 4748: 'rounding', 4904: 'selectable', 5689: 'trans', 3765: 'offer', 27: '111', 93: '36', 3104: 'linkage', 4740: 'rootscope', 4174: 'preexisting', 4287: 'propertys', 6208: 'workers', 82: '307', 3009: 'kv', 5600: 'threadlocal', 5711: 'trap', 179: 'accesing', 3656: 'nonnegative', 4032: 'phrases', 5011: 'shifting', 5184: 'speeding', 1986: 'factories', 680: 'booleans', 5123: 'snippets', 4912: 'selections', 4783: 'runtimegetruntime', 3524: 'multiprocess', 3767: 'official', 4364: 'qtableview', 1245: 'cost', 6036: 'viewstate', 3583: 'nbsp', 3375: 'messagesource', 4078: 'playback', 2360: 'gt', 4370: 'qualifying', 1537: 'diagnostic', 611: 'behaves', 1852: 'erb', 1910: 'executereader', 6137: 'weekly', 6122: 'webserver', 1720: 'dynamodb', 6119: 'webpart', 1760: 'ejb3', 946: 'cleaner', 5471: 'synthesize', 1717: 'dynamical', 4354: 'qlabel', 2151: 'form_for', 868: 'cgrect', 5725: 'trick', 5073: 'sip', 1877: 'eventlistener', 937: 'classifier', 3210: 'loss', 5346: 'student', 2313: 'gpa', 4801: 'sapui5', 2509: 'httpservletrequest', 1349: 'dashboard', 3010: 'kwargs', 2652: 'infer', 5962: 'uuid', 5548: 'templating', 248: 'admob', 1953: 'exposing', 134: '70', 1929: 'expansion', 3032: 'latin', 6177: 'windowonbeforeunload', 5541: 'telling', 4434: 'rbind', 2803: 'ipn', 2291: 'globalasax', 2637: 'indexerror', 894: 'checkedlistbox', 4083: 'playlist', 900: 'checksum', 700: 'boxplot', 5152: 'sorry', 6145: 'went', 537: 'avaudioplayer', 1729: 'easily', 5823: 'uiviewcontrollers', 5108: 'slug', 87: '322', 416: 'arg', 284: 'aliases', 578: 'bank', 3860: 'outgoing', 2946: 'jsondumps', 2053: 'filesize', 3168: 'locationhref', 81: '303', 836: 'casts', 1062: 'comparable', 1078: 'compiletime', 4386: 'quickest', 1170: 'constructed', 4929: 'sendkeys', 4466: 'reasons', 1594: 'disconnected', 4949: 'sequential', 544: 'aware', 4460: 'realloc', 5449: 'swift3', 2452: 'highlighted', 2281: 'gis', 3604: 'networking', 3661: 'nonstandard', 3406: 'minimal', 5454: 'switchcase', 1771: 'eliminate', 5128: 'soapui', 4569: 'releasing', 4558: 'rejected', 3985: 'perfect', 6085: 'wasnt', 2233: 'gcd', 2572: 'illegalargumentexception', 2358: 'gstreamer', 440: 'as3', 1298: 'crossthread', 796: 'cancelled', 2377: 'h1', 4813: 'scalable', 5363: 'subdirectories', 5206: 'spy', 1703: 'dual', 668: 'blueprint', 4011: 'pg', 5072: 'singly', 5487: 'systeminvalidoperationexception', 266: 'afterwards', 3457: 'monday', 5749: 'tuesday', 2656: 'infinity', 1992: 'fadeout', 1471: 'deny', 2232: 'gccs', 7: '#pragma', 321: 'among', 1166: 'constrained', 4865: 'scrollviewer', 2680: 'initially', 3119: 'listboxes', 4221: 'principal', 211: 'actionviewtemplateerror', 2425: 'held', 1235: 'corpus', 2437: 'hi', 3169: 'locationpath', 4021: 'php7', 658: 'blanks', 2117: 'flushing', 3610: 'newest', 5484: 'systemexit', 1663: 'doubly', 2439: 'hibernatecfgxml', 5721: 'treeset', 5621: 'tiles', 4978: 'setattribute', 2551: 'ie6', 4016: 'phones', 2589: 'implementations', 1689: 'driving', 458: 'aspxgridview', 3037: 'launcher', 314: 'alternating', 1163: 'constantly', 2761: 'interpolation', 1870: 'evaluated', 3674: 'notebook', 1086: 'completes', 1702: 'dtype', 340: 'angularui', 4816: 'scaled', 740: 'bullets', 382: 'appendchild', 4881: 'secret', 6042: 'virtualbox', 5902: 'unspecified', 6306: 'zipping', 61: '202', 968: 'clip', 4308: 'pst', 2907: 'jlabels', 6070: 'vulnerability', 5999: 'vc11', 1097: 'comprehensions', 4437: 'rdata', 1324: 'cursors', 575: 'badge', 190: 'accordingly', 2257: 'geometry', 5978: 'validators', 5714: 'traversing', 6007: 'verifying', 496: 'attempts', 4922: 'selfsigned', 4443: 'reaching', 2805: 'ipv4', 2806: 'ipv6', 4498: 'rectangular', 1562: 'difficulty', 4766: 'rt', 2180: 'fread', 6037: 'viewwillappear', 3437: 'modelchoicefield', 3061: 'lefthand', 5538: 'technology', 825: 'cartesian', 3076: 'lexical', 1475: 'dependencyproperty', 1538: 'diagonal', 5678: 'touches', 2893: 'jbuttons', 5735: 'triple', 5045: 'signup', 5959: 'util', 3665: 'noob', 3476: 'mousedown', 5928: 'upstream', 5107: 'slows', 4784: 'runworkercompleted', 1588: 'disallow', 5009: 'shell_exec', 6047: 'visited', 860: 'cert', 1398: 'dbcreate', 2183: 'freeing', 4107: 'poll', 3214: 'lotus', 3676: 'notes', 3899: 'pageload', 3559: 'mysterious', 4559: 'relate', 5771: 'typeahead', 2627: 'incremental', 1612: 'disposing', 1266: 'cpus', 4363: 'qt5', 6291: 'yosemite', 1372: 'datasources', 5897: 'unsatisfiedlinkerror', 3574: 'natural', 2301: 'goal', 3727: 'oauth2', 6004: 'verbose', 1633: 'dlopen', 5665: 'toolbox', 5826: 'uk', 712: 'brew', 1927: 'expanded', 5280: 'sticky', 282: 'algorithms', 6149: 'whenever', 4968: 'servicestack', 2115: 'fluentnhibernate', 804: 'capabilities', 4359: 'qr', 3434: 'modalpopupextender', 4544: 'regardless', 5724: 'triangles', 4991: 'setuptools', 931: 'class_name', 1459: 'deletes', 3530: 'multivariate', 5209: 'sqlce', 2654: 'inferred', 2002: 'falls', 5660: 'tolowercase', 1485: 'dereferencing', 2132: 'fontsize', 1862: 'est', 5573: 'textboxtext', 1734: 'echoing', 427: 'array_search', 2633: 'independently', 6299: 'zeroes', 3252: 'majorminor', 2964: 'jupyter', 2329: 'graphical', 6111: 'webgrid', 5889: 'unqualifiedid', 5836: 'unbuffered', 3306: 'masking', 356: 'antipattern', 1467: 'delta', 1095: 'compound', 518: 'autogenerated', 2275: 'getters', 3911: 'palindrome', 3844: 'orgjsonjsonexception', 207: 'actionperformed', 5137: 'solaris', 5748: 'ts', 4797: 'salt', 2198: 'fs', 1498: 'deserialized', 724: 'bubbling', 5480: 'systemdatasqlclientsqlexception', 4995: 'sha1', 5648: 'tmp', 5582: 'th', 2606: 'in_array', 5303: 'strcmp', 5905: 'unterminated', 4274: 'projection', 3451: 'moduleexports', 1770: 'elif', 4716: 'revert', 170: 'accented', 5857: 'unhide', 3289: 'mapstring', 594: 'batches', 581: 'barchart', 5098: 'slides', 2031: 'fft', 2870: 'javalangnumberformatexception', 5166: 'spam', 1555: 'differ', 4606: 'repetition', 2328: 'graphic', 1665: 'down', 3194: 'lon', 362: 'anywhere', 5237: 'stale', 5675: 'totally', 5604: 'threadsleep', 6166: 'wild', 107: '415', 3875: 'overlaps', 2836: 'ivars', 84: '310', 5584: 'theano', 5047: 'silently', 748: 'button_to', 2502: 'httpmodule', 530: 'autoplay', 1848: 'equations', 1165: 'constrain', 2205: 'fulltext', 3702: 'nstextfield', 2526: 'ibaction', 3722: 'numpys', 2977: 'kendoui', 5232: 'stacking', 1199: 'continues', 1680: 'drawimage', 3373: 'messageboxshow', 4390: 'quotation', 1490: 'describe', 1619: 'distributions', 5034: 'sides', 6135: 'weekend', 4003: 'persian', 3454: 'modulus', 1948: 'exponent', 5558: 'terms', 3825: 'opposite', 1608: 'displaynone', 4430: 'rational', 934: 'classforname', 2814: 'isolation', 5262: 'stats', 2187: 'french', 414: 'areas', 4556: 'reinstall', 1993: 'fading', 3934: 'parenthesis', 3792: 'onreadystatechange', 2838: 'j', 5510: 'tableviews', 406: 'appsettings', 3992: 'performselector', 4895: 'seg', 1926: 'expandablelistview', 5132: 'socketexception', 4787: 'rx', 1442: 'deferred', 1719: 'dynamics', 5906: 'untrusted', 2853: 'javabean', 787: 'calloc', 4369: 'qualifiers', 6079: 'wanted', 1737: 'eclipses', 4224: 'printable', 1775: 'elsewhere', 2748: 'intercepting', 1512: 'destructors', 2482: 'how', 2686: 'injector', 5687: 'train', 3508: 'mulitple', 2835: 'ivar', 5903: 'unsubscribe', 4760: 'rpc', 5451: 'swings', 4997: 'shaders', 667: 'blue', 3682: 'notified', 3066: 'len', 5479: 'systemdatadatarowview', 3556: 'mysqli_connect', 2522: 'hyphens', 3049: 'leaf', 397: 'applicationcontextxml', 4647: 'reserve', 5676: 'totals', 3453: 'modulo', 510: 'authorizeattribute', 617: 'belonging', 4908: 'selecteditem', 5884: 'unnecessary', 2511: 'httpsurlconnection', 895: 'checker', 4312: 'ptr', 5566: 'text_field', 4155: 'potentially', 1346: 'dangerous', 695: 'bounding', 2152: 'form_tag', 5824: 'uiviews', 436: 'articles', 1002: 'codeigniters', 6165: 'wikipedia', 3320: 'mathround', 1935: 'experience', 330: 'ancestor', 805: 'capacity', 1304: 'csharp', 438: 'artifacts', 1795: 'encoder', 5277: 'stealing', 5268: 'stdfunction', 3542: 'mvn', 5334: 'strtotime', 1221: 'converts', 5127: 'soapfault', 2372: 'guis', 1791: 'enclosed', 2008: 'far', 3713: 'nullpointer', 519: 'autoimplemented', 2958: 'jtoken', 5040: 'signatures', 3245: 'mailto', 4122: 'popen', 4593: 'renderer', 238: 'addon', 5679: 'touchstart', 290: 'alloc', 4190: 'prepareforsegue', 2050: 'filepath', 671: 'bmp', 3065: 'legends', 2089: 'firstordefault', 4143: 'possibility', 803: 'cap', 1839: 'envelope', 2617: 'inclusion', 280: 'alfresco', 4608: 'replaceall', 249: 'ado', 1697: 'droppable', 456: 'aspnetmvc', 4693: 'resx'}\n",
            "['.net', 'ajax', 'algorithm', 'android', 'angularjs', 'apache', 'arrays', 'asp.net', 'asp.net-mvc', 'c', 'c#', 'c++', 'class', 'cocoa-touch', 'codeigniter', 'css', 'csv', 'database', 'date', 'datetime', 'django', 'dom', 'eclipse', 'entity-framework', 'excel', 'facebook', 'file', 'forms', 'function', 'generics', 'google-maps', 'hibernate', 'html', 'html5', 'image', 'ios', 'iphone', 'java', 'javascript', 'jquery', 'json', 'jsp', 'laravel', 'linq', 'linux', 'list', 'loops', 'maven', 'mongodb', 'multithreading', 'mysql', 'node.js', 'numpy', 'objective-c', 'oop', 'opencv', 'osx', 'pandas', 'parsing', 'performance', 'php', 'pointers', 'python', 'python-2.7', 'python-3.x', 'qt', 'r', 'regex', 'rest', 'ruby', 'ruby-on-rails', 'ruby-on-rails-3', 'selenium', 'servlets', 'session', 'sockets', 'sorting', 'spring', 'spring-mvc', 'sql', 'sql-server', 'string', 'swift', 'swing', 'twitter-bootstrap', 'uitableview', 'unit-testing', 'validation', 'vb.net', 'visual-studio', 'visual-studio-2010', 'wcf', 'web-services', 'windows', 'winforms', 'wordpress', 'wpf', 'xaml', 'xcode', 'xml']\n",
            "100\n"
          ],
          "name": "stdout"
        }
      ]
    },
    {
      "cell_type": "code",
      "metadata": {
        "id": "Mr7HA97Y_Olv",
        "colab_type": "code",
        "colab": {
          "base_uri": "https://localhost:8080/",
          "height": 51
        },
        "outputId": "9f410f8f-51b7-40b7-f7c3-851196c75785"
      },
      "source": [
        "#    for i in range(0, len(list(tags_counts.keys()))):\n",
        "#      if list(tags_counts.keys())[i] == 'c#':\n",
        "#        k = i\n",
        "#print(k)\n",
        "print(len(list(tfidf_reversed_vocab.keys())))\n",
        "len(np.unique(list(tfidf_reversed_vocab.keys())))"
      ],
      "execution_count": 250,
      "outputs": [
        {
          "output_type": "stream",
          "text": [
            "6311\n"
          ],
          "name": "stdout"
        },
        {
          "output_type": "execute_result",
          "data": {
            "text/plain": [
              "6311"
            ]
          },
          "metadata": {
            "tags": []
          },
          "execution_count": 250
        }
      ]
    },
    {
      "cell_type": "code",
      "metadata": {
        "id": "lKcC1Lby-fP7",
        "colab_type": "code",
        "colab": {}
      },
      "source": [
        "def print_words_for_tag(classifier, tag, tags_classes, index_to_words, all_words):\n",
        "    \"\"\"\n",
        "        classifier: trained classifier\n",
        "        tag: particular tag\n",
        "        tags_classes: a list of classes names from MultiLabelBinarizer\n",
        "\n",
        "          mlb = MultiLabelBinarizer(classes=sorted(tags_counts.keys()))\n",
        "          y_train = mlb.fit_transform(y_train)\n",
        "          y_val = mlb.fit_transform(y_val)\n",
        "\n",
        "        index_to_words: index_to_words transformation\n",
        "        all_words: all words in the dictionary\n",
        "        \n",
        "        return nothing, just print top 5 positive and top 5 negative words for current tag\n",
        "    \"\"\"\n",
        "\n",
        "    \n",
        "\n",
        "\n",
        "    #np.sort(abs(classifier_tfidf.estimators_[0].coef_[0]))[6310]\n",
        "\n",
        "    #index_to_words\n",
        "\n",
        "    print('Tag:\\t{}'.format(tag))\n",
        "    \n",
        "    # Extract an estimator from the classifier for the given tag.\n",
        "    # Extract feature coefficients from the estimator. \n",
        "    \n",
        "    ######################################\n",
        "    ######### YOUR CODE HERE #############\n",
        "    ######################################\n",
        "\n",
        "    for i in range(0, len(tags_classes)):\n",
        "      if tags_classes[i] == tag:\n",
        "        k = i\n",
        "\n",
        "    coeff = classifier.estimators_[k].coef_[0]\n",
        "\n",
        "    nwords = len(coeff)\n",
        "\n",
        "    #print(max(abs(classifier_tfidf.estimators_[0].coef_[0])))\n",
        "    #print(np.sort(abs(classifier_tfidf.estimators_[0].coef_[0]))[(6311-5):6311])\n",
        "\n",
        "    coeffmax5 = np.sort(coeff)[(nwords-5):nwords]\n",
        "    coeffmin5 = np.sort(coeff)[0:5]\n",
        "    \n",
        "    print(coeffmax5)\n",
        "    print(coeffmin5)\n",
        "    print(np.where(abs(coeff)== coeffmax5[0] )[0][0])\n",
        "\n",
        "    top_positive_words = []\n",
        "    top_negative_words = []\n",
        "\n",
        "    for i in range(0,5):\n",
        "      ind = np.where(coeff== coeffmax5[i] )[0][0]\n",
        "      top_positive_words.append(index_to_words[ind])\n",
        "\n",
        "    for i in range(0,5):\n",
        "      ind = np.where(coeff== coeffmin5[i] )[0][0]\n",
        "      top_negative_words.append(index_to_words[ind])\n",
        "\n",
        "    #tfidf_reversed_vocab\n",
        "    \n",
        "    \n",
        "\n",
        "    print('Top positive words:\\t{}'.format(', '.join(top_positive_words)))\n",
        "    print('Top negative words:\\t{}\\n'.format(', '.join(top_negative_words)))"
      ],
      "execution_count": 322,
      "outputs": []
    },
    {
      "cell_type": "code",
      "metadata": {
        "id": "lTVbKEK3_NL_",
        "colab_type": "code",
        "colab": {}
      },
      "source": [
        "for i in range(5,0):\n",
        "  print(i)"
      ],
      "execution_count": 308,
      "outputs": []
    },
    {
      "cell_type": "code",
      "metadata": {
        "id": "x5vc6jjm-fQA",
        "colab_type": "code",
        "colab": {
          "base_uri": "https://localhost:8080/",
          "height": 374
        },
        "outputId": "2cb2e58b-3475-4c0d-be36-04b094ebc6fb"
      },
      "source": [
        "print_words_for_tag(classifier_tfidf, 'c', mlb.classes, tfidf_reversed_vocab, ALL_WORDS)\n",
        "print_words_for_tag(classifier_tfidf, 'c++', mlb.classes, tfidf_reversed_vocab, ALL_WORDS)\n",
        "print_words_for_tag(classifier_tfidf, 'linux', mlb.classes, tfidf_reversed_vocab, ALL_WORDS)"
      ],
      "execution_count": 323,
      "outputs": [
        {
          "output_type": "stream",
          "text": [
            "Tag:\tc\n",
            "[10.86159333 11.47719272 11.66949278 11.93325323 22.28500821]\n",
            "[-19.22326323 -18.55627048 -18.24017294 -17.24799876 -14.51982173]\n",
            "4311\n",
            "Top positive words:\tpthreads, malloc, ipod, scanf, c\n",
            "Top negative words:\tphp, objective, begin, collection, javascript\n",
            "\n",
            "Tag:\tc++\n",
            "[16.3085424  16.55693889 16.58040032 16.68418185 28.23283695]\n",
            "[-21.78743888 -21.40964405 -18.42237316 -17.1834616  -16.18462744]\n",
            "681\n",
            "Top positive words:\tboost, stdstring, boostasio, qt, c++\n",
            "Top negative words:\tphp, pretty, jquery, resharper, javascript\n",
            "\n",
            "Tag:\tlinux\n",
            "[12.16706992 12.22827386 12.57024168 13.60804506 16.45780931]\n",
            "[-20.48697421 -17.16579066 -14.4450427  -13.95463665 -11.55804226]\n",
            "2995\n",
            "Top positive words:\tkilled, assume, nsurlrequest, reaching, linux\n",
            "Top negative words:\taspnet, displaying, codeigniter, nokogiri, javascript\n",
            "\n"
          ],
          "name": "stdout"
        }
      ]
    },
    {
      "cell_type": "markdown",
      "metadata": {
        "id": "ntxbAUfY-fQD",
        "colab_type": "text"
      },
      "source": [
        "### Authorization & Submission\n",
        "To submit assignment parts to Cousera platform, please, enter your e-mail and token into variables below. You can generate token on this programming assignment page. <b>Note:</b> Token expires 30 minutes after generation."
      ]
    },
    {
      "cell_type": "code",
      "metadata": {
        "id": "fGgHWZoe-fQE",
        "colab_type": "code",
        "colab": {
          "base_uri": "https://localhost:8080/",
          "height": 357
        },
        "outputId": "a502d7c1-260a-41c3-c211-51bb60aeb230"
      },
      "source": [
        "grader.status()"
      ],
      "execution_count": 352,
      "outputs": [
        {
          "output_type": "stream",
          "text": [
            "You want to submit these parts:\n",
            "Task TextPrepare:\n",
            " sqlite php readonly\n",
            "creating multiple textboxes dynamically\n",
            "self one prefer javascript\n",
            "save php date...\n",
            "Task WordsTagsCount:\n",
            " javascript,c#,java\n",
            "using,php,java...\n",
            "Task BagOfWords:\n",
            " 7...\n",
            "Task MultilabelClassification:\n",
            " 0\tmysql,php\n",
            "1\tjavascript,jquery\n",
            "2\t\n",
            "3\tjavascript,jquery\n",
            "4\tandroid\n",
            "5\tphp,xml\n",
            "6\tajax,json,web-services\n",
            "...\n"
          ],
          "name": "stdout"
        }
      ]
    },
    {
      "cell_type": "code",
      "metadata": {
        "id": "vpbnuY5p-fQI",
        "colab_type": "code",
        "colab": {
          "base_uri": "https://localhost:8080/",
          "height": 357
        },
        "outputId": "cd288d0f-e32e-4a23-f580-4dd21fff2baa"
      },
      "source": [
        "STUDENT_EMAIL = 'joao_rmedeiros@yahoo.com.br'\n",
        "STUDENT_TOKEN = 'US3ZTM3JyXTI90YD'\n",
        "grader.status()"
      ],
      "execution_count": 353,
      "outputs": [
        {
          "output_type": "stream",
          "text": [
            "You want to submit these parts:\n",
            "Task TextPrepare:\n",
            " sqlite php readonly\n",
            "creating multiple textboxes dynamically\n",
            "self one prefer javascript\n",
            "save php date...\n",
            "Task WordsTagsCount:\n",
            " javascript,c#,java\n",
            "using,php,java...\n",
            "Task BagOfWords:\n",
            " 7...\n",
            "Task MultilabelClassification:\n",
            " 0\tmysql,php\n",
            "1\tjavascript,jquery\n",
            "2\t\n",
            "3\tjavascript,jquery\n",
            "4\tandroid\n",
            "5\tphp,xml\n",
            "6\tajax,json,web-services\n",
            "...\n"
          ],
          "name": "stdout"
        }
      ]
    },
    {
      "cell_type": "markdown",
      "metadata": {
        "id": "wLEm1f1M-fQP",
        "colab_type": "text"
      },
      "source": [
        "If you want to submit these answers, run cell below"
      ]
    },
    {
      "cell_type": "code",
      "metadata": {
        "id": "QKiRRcfN-fQP",
        "colab_type": "code",
        "colab": {
          "base_uri": "https://localhost:8080/",
          "height": 34
        },
        "outputId": "23fe55cf-286e-4f23-f0ce-915d0b28314f"
      },
      "source": [
        "grader.submit(STUDENT_EMAIL, STUDENT_TOKEN)"
      ],
      "execution_count": 354,
      "outputs": [
        {
          "output_type": "stream",
          "text": [
            "Submitted to Coursera platform. See results on assignment page!\n"
          ],
          "name": "stdout"
        }
      ]
    },
    {
      "cell_type": "markdown",
      "metadata": {
        "id": "WqhN9ffFY5lX",
        "colab_type": "text"
      },
      "source": [
        ""
      ]
    }
  ]
}